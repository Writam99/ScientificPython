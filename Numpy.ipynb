{
 "nbformat": 4,
 "nbformat_minor": 0,
 "metadata": {
  "colab": {
   "name": "Numpy(AKG).ipynb",
   "provenance": [],
   "collapsed_sections": [
    "bLdUMbjMljQD",
    "SbpQ5e3hHl6s",
    "f5d9RPHORPov",
    "QgjZQ6x9sUKB",
    "8jJOesGbBx0y",
    "BP1NqYvbVI0O"
   ],
   "authorship_tag": "ABX9TyOeoufZ14/s3UniFVZ8WlBP"
  },
  "kernelspec": {
   "name": "python3",
   "display_name": "Python 3"
  }
 },
 "cells": [
  {
   "cell_type": "markdown",
   "metadata": {
    "id": "bLdUMbjMljQD",
    "colab_type": "text",
    "pycharm": {
     "name": "#%% md\n"
    }
   },
   "source": [
    "#**Numpy Arrays in Python Part 1**"
   ]
  },
  {
   "cell_type": "markdown",
   "metadata": {
    "id": "NzwD72wYeF6f",
    "colab_type": "text",
    "pycharm": {
     "name": "#%% md\n"
    }
   },
   "source": [
    "##ND Arrays by Numpy\n"
   ]
  },
  {
   "cell_type": "code",
   "metadata": {
    "id": "d6GqGIUy-ZZO",
    "colab_type": "code",
    "colab": {},
    "executionInfo": {
     "status": "ok",
     "timestamp": 1595042261931,
     "user_tz": -330,
     "elapsed": 1254,
     "user": {
      "displayName": "Writobrata Bandyopadhyay",
      "photoUrl": "https://lh3.googleusercontent.com/a-/AOh14GiIgrlWyXxBfdlbwdBYCHU67PdGKNP5LpuHvPiM=s64",
      "userId": "04904541693543299783"
     }
    },
    "pycharm": {
     "name": "#%%\n"
    }
   },
   "source": [
    "import numpy as np"
   ],
   "execution_count": 3,
   "outputs": []
  },
  {
   "cell_type": "code",
   "metadata": {
    "id": "FL7iVKa--pCu",
    "colab_type": "code",
    "colab": {},
    "pycharm": {
     "name": "#%%\n"
    }
   },
   "source": [
    "x = np.array([10,20,30])"
   ],
   "execution_count": null,
   "outputs": []
  },
  {
   "cell_type": "code",
   "metadata": {
    "id": "rIzrM1Op-wTn",
    "colab_type": "code",
    "colab": {
     "base_uri": "https://localhost:8080/",
     "height": 34
    },
    "executionInfo": {
     "status": "ok",
     "timestamp": 1594995621920,
     "user_tz": -330,
     "elapsed": 13237,
     "user": {
      "displayName": "Writobrata Bandyopadhyay",
      "photoUrl": "https://lh3.googleusercontent.com/a-/AOh14GiIgrlWyXxBfdlbwdBYCHU67PdGKNP5LpuHvPiM=s64",
      "userId": "04904541693543299783"
     }
    },
    "outputId": "a20526f7-371f-4546-84f1-49f4972e7715",
    "pycharm": {
     "name": "#%%\n"
    }
   },
   "source": [
    "x"
   ],
   "execution_count": null,
   "outputs": [
    {
     "output_type": "execute_result",
     "data": {
      "text/plain": [
       "array([10, 20, 30])"
      ]
     },
     "metadata": {
      "tags": []
     },
     "execution_count": 3
    }
   ]
  },
  {
   "cell_type": "markdown",
   "metadata": {
    "id": "j8j2iS40-yRa",
    "colab_type": "text",
    "pycharm": {
     "name": "#%% md\n"
    }
   },
   "source": [
    "array(np.array) is a function which converts the list [10,20,30] into numpy array. We are passing the list as an argument."
   ]
  },
  {
   "cell_type": "code",
   "metadata": {
    "id": "LDffXos2-wzl",
    "colab_type": "code",
    "colab": {
     "base_uri": "https://localhost:8080/",
     "height": 34
    },
    "executionInfo": {
     "status": "ok",
     "timestamp": 1594995621923,
     "user_tz": -330,
     "elapsed": 13171,
     "user": {
      "displayName": "Writobrata Bandyopadhyay",
      "photoUrl": "https://lh3.googleusercontent.com/a-/AOh14GiIgrlWyXxBfdlbwdBYCHU67PdGKNP5LpuHvPiM=s64",
      "userId": "04904541693543299783"
     }
    },
    "outputId": "ac6afc59-04f8-4631-a271-c91a16b2e281",
    "pycharm": {
     "name": "#%%\n"
    }
   },
   "source": [
    "type(x)"
   ],
   "execution_count": null,
   "outputs": [
    {
     "output_type": "execute_result",
     "data": {
      "text/plain": [
       "numpy.ndarray"
      ]
     },
     "metadata": {
      "tags": []
     },
     "execution_count": 4
    }
   ]
  },
  {
   "cell_type": "markdown",
   "metadata": {
    "id": "u9HG1h17_t-Z",
    "colab_type": "text",
    "pycharm": {
     "name": "#%% md\n"
    }
   },
   "source": [
    "##Checking"
   ]
  },
  {
   "cell_type": "code",
   "metadata": {
    "id": "brZalh___p36",
    "colab_type": "code",
    "colab": {
     "base_uri": "https://localhost:8080/",
     "height": 34
    },
    "executionInfo": {
     "status": "ok",
     "timestamp": 1594995621925,
     "user_tz": -330,
     "elapsed": 13109,
     "user": {
      "displayName": "Writobrata Bandyopadhyay",
      "photoUrl": "https://lh3.googleusercontent.com/a-/AOh14GiIgrlWyXxBfdlbwdBYCHU67PdGKNP5LpuHvPiM=s64",
      "userId": "04904541693543299783"
     }
    },
    "outputId": "6c544d44-1aba-4d75-c69e-755996c9b704",
    "pycharm": {
     "name": "#%%\n"
    }
   },
   "source": [
    "10 in x"
   ],
   "execution_count": null,
   "outputs": [
    {
     "output_type": "execute_result",
     "data": {
      "text/plain": [
       "True"
      ]
     },
     "metadata": {
      "tags": []
     },
     "execution_count": 5
    }
   ]
  },
  {
   "cell_type": "code",
   "metadata": {
    "id": "loCEB6-8ABLQ",
    "colab_type": "code",
    "colab": {
     "base_uri": "https://localhost:8080/",
     "height": 34
    },
    "executionInfo": {
     "status": "ok",
     "timestamp": 1594995621926,
     "user_tz": -330,
     "elapsed": 13039,
     "user": {
      "displayName": "Writobrata Bandyopadhyay",
      "photoUrl": "https://lh3.googleusercontent.com/a-/AOh14GiIgrlWyXxBfdlbwdBYCHU67PdGKNP5LpuHvPiM=s64",
      "userId": "04904541693543299783"
     }
    },
    "outputId": "d152d266-7f74-49de-a363-659a9abbb25e",
    "pycharm": {
     "name": "#%%\n"
    }
   },
   "source": [
    "11 in x"
   ],
   "execution_count": null,
   "outputs": [
    {
     "output_type": "execute_result",
     "data": {
      "text/plain": [
       "False"
      ]
     },
     "metadata": {
      "tags": []
     },
     "execution_count": 6
    }
   ]
  },
  {
   "cell_type": "code",
   "metadata": {
    "id": "LsscQVcKACaM",
    "colab_type": "code",
    "colab": {
     "base_uri": "https://localhost:8080/",
     "height": 34
    },
    "executionInfo": {
     "status": "ok",
     "timestamp": 1594995621928,
     "user_tz": -330,
     "elapsed": 12978,
     "user": {
      "displayName": "Writobrata Bandyopadhyay",
      "photoUrl": "https://lh3.googleusercontent.com/a-/AOh14GiIgrlWyXxBfdlbwdBYCHU67PdGKNP5LpuHvPiM=s64",
      "userId": "04904541693543299783"
     }
    },
    "outputId": "815fab1c-bc10-45e1-b6a3-2a4536c0bff5",
    "pycharm": {
     "name": "#%%\n"
    }
   },
   "source": [
    "len(x)"
   ],
   "execution_count": null,
   "outputs": [
    {
     "output_type": "execute_result",
     "data": {
      "text/plain": [
       "3"
      ]
     },
     "metadata": {
      "tags": []
     },
     "execution_count": 7
    }
   ]
  },
  {
   "cell_type": "code",
   "metadata": {
    "id": "EPhbspRTAEU-",
    "colab_type": "code",
    "colab": {
     "base_uri": "https://localhost:8080/",
     "height": 34
    },
    "executionInfo": {
     "status": "ok",
     "timestamp": 1594995621929,
     "user_tz": -330,
     "elapsed": 12903,
     "user": {
      "displayName": "Writobrata Bandyopadhyay",
      "photoUrl": "https://lh3.googleusercontent.com/a-/AOh14GiIgrlWyXxBfdlbwdBYCHU67PdGKNP5LpuHvPiM=s64",
      "userId": "04904541693543299783"
     }
    },
    "outputId": "3e20d769-23df-4dad-cd1d-e9b28c00b9fe",
    "pycharm": {
     "name": "#%%\n"
    }
   },
   "source": [
    "sum(x)"
   ],
   "execution_count": null,
   "outputs": [
    {
     "output_type": "execute_result",
     "data": {
      "text/plain": [
       "60"
      ]
     },
     "metadata": {
      "tags": []
     },
     "execution_count": 8
    }
   ]
  },
  {
   "cell_type": "markdown",
   "metadata": {
    "id": "nSte6dTIAb83",
    "colab_type": "text",
    "pycharm": {
     "name": "#%% md\n"
    }
   },
   "source": [
    "##Attributes: Type, Size, Dimension, Shape"
   ]
  },
  {
   "cell_type": "code",
   "metadata": {
    "id": "-qXl-F_7AFPl",
    "colab_type": "code",
    "colab": {
     "base_uri": "https://localhost:8080/",
     "height": 34
    },
    "executionInfo": {
     "status": "ok",
     "timestamp": 1594995621930,
     "user_tz": -330,
     "elapsed": 12838,
     "user": {
      "displayName": "Writobrata Bandyopadhyay",
      "photoUrl": "https://lh3.googleusercontent.com/a-/AOh14GiIgrlWyXxBfdlbwdBYCHU67PdGKNP5LpuHvPiM=s64",
      "userId": "04904541693543299783"
     }
    },
    "outputId": "c6ea9ead-db16-49cd-9c1c-9a9792e1cfb7",
    "pycharm": {
     "name": "#%%\n"
    }
   },
   "source": [
    "x.size"
   ],
   "execution_count": null,
   "outputs": [
    {
     "output_type": "execute_result",
     "data": {
      "text/plain": [
       "3"
      ]
     },
     "metadata": {
      "tags": []
     },
     "execution_count": 9
    }
   ]
  },
  {
   "cell_type": "code",
   "metadata": {
    "id": "9VjEetYWAkvO",
    "colab_type": "code",
    "colab": {
     "base_uri": "https://localhost:8080/",
     "height": 34
    },
    "executionInfo": {
     "status": "ok",
     "timestamp": 1594995621932,
     "user_tz": -330,
     "elapsed": 12767,
     "user": {
      "displayName": "Writobrata Bandyopadhyay",
      "photoUrl": "https://lh3.googleusercontent.com/a-/AOh14GiIgrlWyXxBfdlbwdBYCHU67PdGKNP5LpuHvPiM=s64",
      "userId": "04904541693543299783"
     }
    },
    "outputId": "d872387c-473b-4966-de05-ca8c8c52469d",
    "pycharm": {
     "name": "#%%\n"
    }
   },
   "source": [
    "x.dtype"
   ],
   "execution_count": null,
   "outputs": [
    {
     "output_type": "execute_result",
     "data": {
      "text/plain": [
       "dtype('int64')"
      ]
     },
     "metadata": {
      "tags": []
     },
     "execution_count": 10
    }
   ]
  },
  {
   "cell_type": "markdown",
   "metadata": {
    "id": "QUyka5JyAtQz",
    "colab_type": "text",
    "pycharm": {
     "name": "#%% md\n"
    }
   },
   "source": [
    "Maximum size of every integer is 64 its"
   ]
  },
  {
   "cell_type": "code",
   "metadata": {
    "id": "Y1sjuQdPAl1-",
    "colab_type": "code",
    "colab": {
     "base_uri": "https://localhost:8080/",
     "height": 34
    },
    "executionInfo": {
     "status": "ok",
     "timestamp": 1594995621933,
     "user_tz": -330,
     "elapsed": 12705,
     "user": {
      "displayName": "Writobrata Bandyopadhyay",
      "photoUrl": "https://lh3.googleusercontent.com/a-/AOh14GiIgrlWyXxBfdlbwdBYCHU67PdGKNP5LpuHvPiM=s64",
      "userId": "04904541693543299783"
     }
    },
    "outputId": "3890f4b7-ab32-4879-8123-82f3f1ffb124",
    "pycharm": {
     "name": "#%%\n"
    }
   },
   "source": [
    "x.ndim"
   ],
   "execution_count": null,
   "outputs": [
    {
     "output_type": "execute_result",
     "data": {
      "text/plain": [
       "1"
      ]
     },
     "metadata": {
      "tags": []
     },
     "execution_count": 11
    }
   ]
  },
  {
   "cell_type": "markdown",
   "metadata": {
    "id": "GRggeUyaBBES",
    "colab_type": "text",
    "pycharm": {
     "name": "#%% md\n"
    }
   },
   "source": [
    "It is like vector"
   ]
  },
  {
   "cell_type": "code",
   "metadata": {
    "id": "8yOwnMvAA_2o",
    "colab_type": "code",
    "colab": {},
    "pycharm": {
     "name": "#%%\n"
    }
   },
   "source": [
    "y = np.array([[1,2,3], [4,5,6]])"
   ],
   "execution_count": null,
   "outputs": []
  },
  {
   "cell_type": "code",
   "metadata": {
    "id": "aqtwHB_vBGeR",
    "colab_type": "code",
    "colab": {
     "base_uri": "https://localhost:8080/",
     "height": 51
    },
    "executionInfo": {
     "status": "ok",
     "timestamp": 1594995621936,
     "user_tz": -330,
     "elapsed": 12640,
     "user": {
      "displayName": "Writobrata Bandyopadhyay",
      "photoUrl": "https://lh3.googleusercontent.com/a-/AOh14GiIgrlWyXxBfdlbwdBYCHU67PdGKNP5LpuHvPiM=s64",
      "userId": "04904541693543299783"
     }
    },
    "outputId": "82fe52b3-3d59-47dd-da3d-3769d5b9eb8f",
    "pycharm": {
     "name": "#%%\n"
    }
   },
   "source": [
    "y"
   ],
   "execution_count": null,
   "outputs": [
    {
     "output_type": "execute_result",
     "data": {
      "text/plain": [
       "array([[1, 2, 3],\n",
       "       [4, 5, 6]])"
      ]
     },
     "metadata": {
      "tags": []
     },
     "execution_count": 13
    }
   ]
  },
  {
   "cell_type": "markdown",
   "metadata": {
    "id": "kU--wMBGBIyi",
    "colab_type": "text",
    "pycharm": {
     "name": "#%% md\n"
    }
   },
   "source": [
    "It is like a matrix"
   ]
  },
  {
   "cell_type": "code",
   "metadata": {
    "id": "9Wp9yetVBHUV",
    "colab_type": "code",
    "colab": {
     "base_uri": "https://localhost:8080/",
     "height": 34
    },
    "executionInfo": {
     "status": "ok",
     "timestamp": 1594995621937,
     "user_tz": -330,
     "elapsed": 12574,
     "user": {
      "displayName": "Writobrata Bandyopadhyay",
      "photoUrl": "https://lh3.googleusercontent.com/a-/AOh14GiIgrlWyXxBfdlbwdBYCHU67PdGKNP5LpuHvPiM=s64",
      "userId": "04904541693543299783"
     }
    },
    "outputId": "a0b80e78-9697-416c-e4d3-580cc9269eff",
    "pycharm": {
     "name": "#%%\n"
    }
   },
   "source": [
    "y.ndim"
   ],
   "execution_count": null,
   "outputs": [
    {
     "output_type": "execute_result",
     "data": {
      "text/plain": [
       "2"
      ]
     },
     "metadata": {
      "tags": []
     },
     "execution_count": 14
    }
   ]
  },
  {
   "cell_type": "code",
   "metadata": {
    "id": "6IiVI7gsBMnQ",
    "colab_type": "code",
    "colab": {
     "base_uri": "https://localhost:8080/",
     "height": 34
    },
    "executionInfo": {
     "status": "ok",
     "timestamp": 1594995621939,
     "user_tz": -330,
     "elapsed": 12485,
     "user": {
      "displayName": "Writobrata Bandyopadhyay",
      "photoUrl": "https://lh3.googleusercontent.com/a-/AOh14GiIgrlWyXxBfdlbwdBYCHU67PdGKNP5LpuHvPiM=s64",
      "userId": "04904541693543299783"
     }
    },
    "outputId": "fb2a5873-a8d7-4e1b-d5f0-78ee9191758c",
    "pycharm": {
     "name": "#%%\n"
    }
   },
   "source": [
    "y.size"
   ],
   "execution_count": null,
   "outputs": [
    {
     "output_type": "execute_result",
     "data": {
      "text/plain": [
       "6"
      ]
     },
     "metadata": {
      "tags": []
     },
     "execution_count": 15
    }
   ]
  },
  {
   "cell_type": "code",
   "metadata": {
    "id": "mPXiQKsmBOJP",
    "colab_type": "code",
    "colab": {},
    "pycharm": {
     "name": "#%%\n"
    }
   },
   "source": [
    "M = np.array([[[1,2], [3,4]],[[5,6],[7,8]]])"
   ],
   "execution_count": null,
   "outputs": []
  },
  {
   "cell_type": "code",
   "metadata": {
    "id": "W8OxLsY8BTrH",
    "colab_type": "code",
    "colab": {
     "base_uri": "https://localhost:8080/",
     "height": 102
    },
    "executionInfo": {
     "status": "ok",
     "timestamp": 1594995621942,
     "user_tz": -330,
     "elapsed": 12396,
     "user": {
      "displayName": "Writobrata Bandyopadhyay",
      "photoUrl": "https://lh3.googleusercontent.com/a-/AOh14GiIgrlWyXxBfdlbwdBYCHU67PdGKNP5LpuHvPiM=s64",
      "userId": "04904541693543299783"
     }
    },
    "outputId": "c59d4567-cfb6-4ae2-a923-46d139fbf543",
    "pycharm": {
     "name": "#%%\n"
    }
   },
   "source": [
    "M"
   ],
   "execution_count": null,
   "outputs": [
    {
     "output_type": "execute_result",
     "data": {
      "text/plain": [
       "array([[[1, 2],\n",
       "        [3, 4]],\n",
       "\n",
       "       [[5, 6],\n",
       "        [7, 8]]])"
      ]
     },
     "metadata": {
      "tags": []
     },
     "execution_count": 17
    }
   ]
  },
  {
   "cell_type": "markdown",
   "metadata": {
    "id": "O82y_siuB0OG",
    "colab_type": "text",
    "pycharm": {
     "name": "#%% md\n"
    }
   },
   "source": [
    "3d array"
   ]
  },
  {
   "cell_type": "code",
   "metadata": {
    "id": "gH9FTMuxB1w8",
    "colab_type": "code",
    "colab": {
     "base_uri": "https://localhost:8080/",
     "height": 34
    },
    "executionInfo": {
     "status": "ok",
     "timestamp": 1594995621943,
     "user_tz": -330,
     "elapsed": 12309,
     "user": {
      "displayName": "Writobrata Bandyopadhyay",
      "photoUrl": "https://lh3.googleusercontent.com/a-/AOh14GiIgrlWyXxBfdlbwdBYCHU67PdGKNP5LpuHvPiM=s64",
      "userId": "04904541693543299783"
     }
    },
    "outputId": "2d3b5efe-0da9-44ab-c2e2-605e6a00c2d7",
    "pycharm": {
     "name": "#%%\n"
    }
   },
   "source": [
    "M.ndim"
   ],
   "execution_count": null,
   "outputs": [
    {
     "output_type": "execute_result",
     "data": {
      "text/plain": [
       "3"
      ]
     },
     "metadata": {
      "tags": []
     },
     "execution_count": 18
    }
   ]
  },
  {
   "cell_type": "markdown",
   "metadata": {
    "id": "sflGJZSSB6yB",
    "colab_type": "text",
    "pycharm": {
     "name": "#%% md\n"
    }
   },
   "source": [
    "##Data Type"
   ]
  },
  {
   "cell_type": "code",
   "metadata": {
    "id": "Q5_xVu6dB_rz",
    "colab_type": "code",
    "colab": {},
    "pycharm": {
     "name": "#%%\n"
    }
   },
   "source": [
    "x = np.array([10,23,36,-6])"
   ],
   "execution_count": null,
   "outputs": []
  },
  {
   "cell_type": "code",
   "metadata": {
    "id": "fmypvGTkCeAM",
    "colab_type": "code",
    "colab": {
     "base_uri": "https://localhost:8080/",
     "height": 34
    },
    "executionInfo": {
     "status": "ok",
     "timestamp": 1594995621946,
     "user_tz": -330,
     "elapsed": 12211,
     "user": {
      "displayName": "Writobrata Bandyopadhyay",
      "photoUrl": "https://lh3.googleusercontent.com/a-/AOh14GiIgrlWyXxBfdlbwdBYCHU67PdGKNP5LpuHvPiM=s64",
      "userId": "04904541693543299783"
     }
    },
    "outputId": "6267bd9e-bcd1-4f97-85d0-e2c869784014",
    "pycharm": {
     "name": "#%%\n"
    }
   },
   "source": [
    "x.dtype"
   ],
   "execution_count": null,
   "outputs": [
    {
     "output_type": "execute_result",
     "data": {
      "text/plain": [
       "dtype('int64')"
      ]
     },
     "metadata": {
      "tags": []
     },
     "execution_count": 20
    }
   ]
  },
  {
   "cell_type": "code",
   "metadata": {
    "id": "3qNIXoW1Cetr",
    "colab_type": "code",
    "colab": {},
    "pycharm": {
     "name": "#%%\n"
    }
   },
   "source": [
    "y = np.array([10.5, 23, 36,-6])"
   ],
   "execution_count": null,
   "outputs": []
  },
  {
   "cell_type": "code",
   "metadata": {
    "id": "PQzJdwrUCkPW",
    "colab_type": "code",
    "colab": {
     "base_uri": "https://localhost:8080/",
     "height": 34
    },
    "executionInfo": {
     "status": "ok",
     "timestamp": 1594995621949,
     "user_tz": -330,
     "elapsed": 12122,
     "user": {
      "displayName": "Writobrata Bandyopadhyay",
      "photoUrl": "https://lh3.googleusercontent.com/a-/AOh14GiIgrlWyXxBfdlbwdBYCHU67PdGKNP5LpuHvPiM=s64",
      "userId": "04904541693543299783"
     }
    },
    "outputId": "f8a69196-f9d1-4b85-c190-8037ace7951e",
    "pycharm": {
     "name": "#%%\n"
    }
   },
   "source": [
    "y.dtype"
   ],
   "execution_count": null,
   "outputs": [
    {
     "output_type": "execute_result",
     "data": {
      "text/plain": [
       "dtype('float64')"
      ]
     },
     "metadata": {
      "tags": []
     },
     "execution_count": 22
    }
   ]
  },
  {
   "cell_type": "code",
   "metadata": {
    "id": "PZtnIzyrClcz",
    "colab_type": "code",
    "colab": {},
    "pycharm": {
     "name": "#%%\n"
    }
   },
   "source": [
    "a = np.array(['ab', 'bc', 'ca', 100])"
   ],
   "execution_count": null,
   "outputs": []
  },
  {
   "cell_type": "code",
   "metadata": {
    "id": "KisXQFc0Cshp",
    "colab_type": "code",
    "colab": {
     "base_uri": "https://localhost:8080/",
     "height": 34
    },
    "executionInfo": {
     "status": "ok",
     "timestamp": 1594995621953,
     "user_tz": -330,
     "elapsed": 12057,
     "user": {
      "displayName": "Writobrata Bandyopadhyay",
      "photoUrl": "https://lh3.googleusercontent.com/a-/AOh14GiIgrlWyXxBfdlbwdBYCHU67PdGKNP5LpuHvPiM=s64",
      "userId": "04904541693543299783"
     }
    },
    "outputId": "35d074f1-4dfa-4b8d-e43d-40b08338c845",
    "pycharm": {
     "name": "#%%\n"
    }
   },
   "source": [
    "a"
   ],
   "execution_count": null,
   "outputs": [
    {
     "output_type": "execute_result",
     "data": {
      "text/plain": [
       "array(['ab', 'bc', 'ca', '100'], dtype='<U3')"
      ]
     },
     "metadata": {
      "tags": []
     },
     "execution_count": 24
    }
   ]
  },
  {
   "cell_type": "markdown",
   "metadata": {
    "id": "BUIlIFqnkKLG",
    "colab_type": "text",
    "pycharm": {
     "name": "#%% md\n"
    }
   },
   "source": [
    "All are converted to String"
   ]
  },
  {
   "cell_type": "markdown",
   "metadata": {
    "id": "tv8GlL1rDM1Y",
    "colab_type": "text",
    "pycharm": {
     "name": "#%% md\n"
    }
   },
   "source": [
    "###Given Data Type"
   ]
  },
  {
   "cell_type": "code",
   "metadata": {
    "id": "xu3ybgACDN1e",
    "colab_type": "code",
    "colab": {},
    "pycharm": {
     "name": "#%%\n"
    }
   },
   "source": [
    "x = np.array([10,20,30], dtype = 'f')"
   ],
   "execution_count": null,
   "outputs": []
  },
  {
   "cell_type": "code",
   "metadata": {
    "id": "R0gzoQ5uGvdE",
    "colab_type": "code",
    "colab": {
     "base_uri": "https://localhost:8080/",
     "height": 34
    },
    "executionInfo": {
     "status": "ok",
     "timestamp": 1594995621956,
     "user_tz": -330,
     "elapsed": 11993,
     "user": {
      "displayName": "Writobrata Bandyopadhyay",
      "photoUrl": "https://lh3.googleusercontent.com/a-/AOh14GiIgrlWyXxBfdlbwdBYCHU67PdGKNP5LpuHvPiM=s64",
      "userId": "04904541693543299783"
     }
    },
    "outputId": "82b862f4-14bf-494b-cb4f-f2787b1df9f8",
    "pycharm": {
     "name": "#%%\n"
    }
   },
   "source": [
    "x"
   ],
   "execution_count": null,
   "outputs": [
    {
     "output_type": "execute_result",
     "data": {
      "text/plain": [
       "array([10., 20., 30.], dtype=float32)"
      ]
     },
     "metadata": {
      "tags": []
     },
     "execution_count": 26
    }
   ]
  },
  {
   "cell_type": "code",
   "metadata": {
    "id": "aYizv_pCGv7m",
    "colab_type": "code",
    "colab": {},
    "pycharm": {
     "name": "#%%\n"
    }
   },
   "source": [
    "x = np.array([10.5,20,30], dtype = 'f2')"
   ],
   "execution_count": null,
   "outputs": []
  },
  {
   "cell_type": "code",
   "metadata": {
    "id": "-lBBdrTIG8WN",
    "colab_type": "code",
    "colab": {
     "base_uri": "https://localhost:8080/",
     "height": 34
    },
    "executionInfo": {
     "status": "ok",
     "timestamp": 1594995621958,
     "user_tz": -330,
     "elapsed": 11906,
     "user": {
      "displayName": "Writobrata Bandyopadhyay",
      "photoUrl": "https://lh3.googleusercontent.com/a-/AOh14GiIgrlWyXxBfdlbwdBYCHU67PdGKNP5LpuHvPiM=s64",
      "userId": "04904541693543299783"
     }
    },
    "outputId": "4d5e74d7-5635-45c8-fdfd-2a5c990d9030",
    "pycharm": {
     "name": "#%%\n"
    }
   },
   "source": [
    "x"
   ],
   "execution_count": null,
   "outputs": [
    {
     "output_type": "execute_result",
     "data": {
      "text/plain": [
       "array([10.5, 20. , 30. ], dtype=float16)"
      ]
     },
     "metadata": {
      "tags": []
     },
     "execution_count": 28
    }
   ]
  },
  {
   "cell_type": "code",
   "metadata": {
    "id": "ZmKxWVydG8o9",
    "colab_type": "code",
    "colab": {},
    "pycharm": {
     "name": "#%%\n"
    }
   },
   "source": [
    "x = np.array([10.5,20,30], dtype = 'f4')"
   ],
   "execution_count": null,
   "outputs": []
  },
  {
   "cell_type": "code",
   "metadata": {
    "id": "CJTMVuPgHAxd",
    "colab_type": "code",
    "colab": {
     "base_uri": "https://localhost:8080/",
     "height": 34
    },
    "executionInfo": {
     "status": "ok",
     "timestamp": 1594995621960,
     "user_tz": -330,
     "elapsed": 11827,
     "user": {
      "displayName": "Writobrata Bandyopadhyay",
      "photoUrl": "https://lh3.googleusercontent.com/a-/AOh14GiIgrlWyXxBfdlbwdBYCHU67PdGKNP5LpuHvPiM=s64",
      "userId": "04904541693543299783"
     }
    },
    "outputId": "6d7d5be3-aea3-43a4-f60e-cba21f371d19",
    "pycharm": {
     "name": "#%%\n"
    }
   },
   "source": [
    "x"
   ],
   "execution_count": null,
   "outputs": [
    {
     "output_type": "execute_result",
     "data": {
      "text/plain": [
       "array([10.5, 20. , 30. ], dtype=float32)"
      ]
     },
     "metadata": {
      "tags": []
     },
     "execution_count": 30
    }
   ]
  },
  {
   "cell_type": "code",
   "metadata": {
    "id": "Vnp7sUHTHBFs",
    "colab_type": "code",
    "colab": {},
    "pycharm": {
     "name": "#%%\n"
    }
   },
   "source": [
    "x = np.array([10.5, 23, -6], dtype = 'complex')"
   ],
   "execution_count": null,
   "outputs": []
  },
  {
   "cell_type": "code",
   "metadata": {
    "id": "ohc3_rBqHKU1",
    "colab_type": "code",
    "colab": {
     "base_uri": "https://localhost:8080/",
     "height": 34
    },
    "executionInfo": {
     "status": "ok",
     "timestamp": 1594995621963,
     "user_tz": -330,
     "elapsed": 11767,
     "user": {
      "displayName": "Writobrata Bandyopadhyay",
      "photoUrl": "https://lh3.googleusercontent.com/a-/AOh14GiIgrlWyXxBfdlbwdBYCHU67PdGKNP5LpuHvPiM=s64",
      "userId": "04904541693543299783"
     }
    },
    "outputId": "b3f9e6d4-c778-4ff2-d98b-0d12bd33761e",
    "pycharm": {
     "name": "#%%\n"
    }
   },
   "source": [
    "x"
   ],
   "execution_count": null,
   "outputs": [
    {
     "output_type": "execute_result",
     "data": {
      "text/plain": [
       "array([10.5+0.j, 23. +0.j, -6. +0.j])"
      ]
     },
     "metadata": {
      "tags": []
     },
     "execution_count": 32
    }
   ]
  },
  {
   "cell_type": "code",
   "metadata": {
    "id": "BTrB_KKoHKs9",
    "colab_type": "code",
    "colab": {
     "base_uri": "https://localhost:8080/",
     "height": 34
    },
    "executionInfo": {
     "status": "ok",
     "timestamp": 1594995621964,
     "user_tz": -330,
     "elapsed": 11678,
     "user": {
      "displayName": "Writobrata Bandyopadhyay",
      "photoUrl": "https://lh3.googleusercontent.com/a-/AOh14GiIgrlWyXxBfdlbwdBYCHU67PdGKNP5LpuHvPiM=s64",
      "userId": "04904541693543299783"
     }
    },
    "outputId": "68b4bd7a-6ccb-4d0c-997b-bc0c5590ea80",
    "pycharm": {
     "name": "#%%\n"
    }
   },
   "source": [
    "x.dtype"
   ],
   "execution_count": null,
   "outputs": [
    {
     "output_type": "execute_result",
     "data": {
      "text/plain": [
       "dtype('complex128')"
      ]
     },
     "metadata": {
      "tags": []
     },
     "execution_count": 33
    }
   ]
  },
  {
   "cell_type": "code",
   "metadata": {
    "id": "e0xS41U_HMqs",
    "colab_type": "code",
    "colab": {},
    "pycharm": {
     "name": "#%%\n"
    }
   },
   "source": [
    "x = np.array([10.5, 23, -6], dtype = 'complex64')"
   ],
   "execution_count": null,
   "outputs": []
  },
  {
   "cell_type": "code",
   "metadata": {
    "id": "tSztAAi-HQ38",
    "colab_type": "code",
    "colab": {
     "base_uri": "https://localhost:8080/",
     "height": 34
    },
    "executionInfo": {
     "status": "ok",
     "timestamp": 1594995623565,
     "user_tz": -330,
     "elapsed": 13178,
     "user": {
      "displayName": "Writobrata Bandyopadhyay",
      "photoUrl": "https://lh3.googleusercontent.com/a-/AOh14GiIgrlWyXxBfdlbwdBYCHU67PdGKNP5LpuHvPiM=s64",
      "userId": "04904541693543299783"
     }
    },
    "outputId": "45cf0bd3-fc7e-4054-ba29-21c68a285e7f",
    "pycharm": {
     "name": "#%%\n"
    }
   },
   "source": [
    "x.dtype"
   ],
   "execution_count": null,
   "outputs": [
    {
     "output_type": "execute_result",
     "data": {
      "text/plain": [
       "dtype('complex64')"
      ]
     },
     "metadata": {
      "tags": []
     },
     "execution_count": 35
    }
   ]
  },
  {
   "cell_type": "markdown",
   "metadata": {
    "id": "SbpQ5e3hHl6s",
    "colab_type": "text",
    "pycharm": {
     "name": "#%% md\n"
    }
   },
   "source": [
    "#N**umpy Arrays in Python Part 2**"
   ]
  },
  {
   "cell_type": "markdown",
   "metadata": {
    "id": "dJVsBGWAH1T_",
    "colab_type": "text",
    "pycharm": {
     "name": "#%% md\n"
    }
   },
   "source": [
    "##Methods for creation of arrays"
   ]
  },
  {
   "cell_type": "markdown",
   "metadata": {
    "id": "pWJ-jOaKJEhg",
    "colab_type": "text",
    "pycharm": {
     "name": "#%% md\n"
    }
   },
   "source": [
    "###arange"
   ]
  },
  {
   "cell_type": "code",
   "metadata": {
    "id": "zZ7ltdkVHRoM",
    "colab_type": "code",
    "colab": {},
    "pycharm": {
     "name": "#%%\n"
    }
   },
   "source": [
    "# np.arange(start, stop which is exclusive, step)"
   ],
   "execution_count": null,
   "outputs": []
  },
  {
   "cell_type": "code",
   "metadata": {
    "id": "Gdq8B_eeII_F",
    "colab_type": "code",
    "colab": {
     "base_uri": "https://localhost:8080/",
     "height": 34
    },
    "executionInfo": {
     "status": "ok",
     "timestamp": 1594995623569,
     "user_tz": -330,
     "elapsed": 13100,
     "user": {
      "displayName": "Writobrata Bandyopadhyay",
      "photoUrl": "https://lh3.googleusercontent.com/a-/AOh14GiIgrlWyXxBfdlbwdBYCHU67PdGKNP5LpuHvPiM=s64",
      "userId": "04904541693543299783"
     }
    },
    "outputId": "e054245b-d74b-4c96-d602-588cbcc58546",
    "pycharm": {
     "name": "#%%\n"
    }
   },
   "source": [
    "np.arange(0,3)"
   ],
   "execution_count": null,
   "outputs": [
    {
     "output_type": "execute_result",
     "data": {
      "text/plain": [
       "array([0, 1, 2])"
      ]
     },
     "metadata": {
      "tags": []
     },
     "execution_count": 37
    }
   ]
  },
  {
   "cell_type": "code",
   "metadata": {
    "id": "0lyBOdT9IMmx",
    "colab_type": "code",
    "colab": {
     "base_uri": "https://localhost:8080/",
     "height": 34
    },
    "executionInfo": {
     "status": "ok",
     "timestamp": 1594995623571,
     "user_tz": -330,
     "elapsed": 13016,
     "user": {
      "displayName": "Writobrata Bandyopadhyay",
      "photoUrl": "https://lh3.googleusercontent.com/a-/AOh14GiIgrlWyXxBfdlbwdBYCHU67PdGKNP5LpuHvPiM=s64",
      "userId": "04904541693543299783"
     }
    },
    "outputId": "d28cf018-db2f-405c-abe6-957446cdd061",
    "pycharm": {
     "name": "#%%\n"
    }
   },
   "source": [
    "np.arange(3)"
   ],
   "execution_count": null,
   "outputs": [
    {
     "output_type": "execute_result",
     "data": {
      "text/plain": [
       "array([0, 1, 2])"
      ]
     },
     "metadata": {
      "tags": []
     },
     "execution_count": 38
    }
   ]
  },
  {
   "cell_type": "code",
   "metadata": {
    "id": "4nHbmtAHIPUx",
    "colab_type": "code",
    "colab": {
     "base_uri": "https://localhost:8080/",
     "height": 34
    },
    "executionInfo": {
     "status": "ok",
     "timestamp": 1594995623573,
     "user_tz": -330,
     "elapsed": 12931,
     "user": {
      "displayName": "Writobrata Bandyopadhyay",
      "photoUrl": "https://lh3.googleusercontent.com/a-/AOh14GiIgrlWyXxBfdlbwdBYCHU67PdGKNP5LpuHvPiM=s64",
      "userId": "04904541693543299783"
     }
    },
    "outputId": "047200c3-4e70-4521-c24d-1e27757d4f22",
    "pycharm": {
     "name": "#%%\n"
    }
   },
   "source": [
    "np.arange(3.0)"
   ],
   "execution_count": null,
   "outputs": [
    {
     "output_type": "execute_result",
     "data": {
      "text/plain": [
       "array([0., 1., 2.])"
      ]
     },
     "metadata": {
      "tags": []
     },
     "execution_count": 39
    }
   ]
  },
  {
   "cell_type": "code",
   "metadata": {
    "id": "POTjJV3gISPw",
    "colab_type": "code",
    "colab": {
     "base_uri": "https://localhost:8080/",
     "height": 34
    },
    "executionInfo": {
     "status": "ok",
     "timestamp": 1594995623575,
     "user_tz": -330,
     "elapsed": 12856,
     "user": {
      "displayName": "Writobrata Bandyopadhyay",
      "photoUrl": "https://lh3.googleusercontent.com/a-/AOh14GiIgrlWyXxBfdlbwdBYCHU67PdGKNP5LpuHvPiM=s64",
      "userId": "04904541693543299783"
     }
    },
    "outputId": "2f29310a-ec60-49c5-dc01-7a96402fbef3",
    "pycharm": {
     "name": "#%%\n"
    }
   },
   "source": [
    "np.arange(3,15,2, dtype = 'f')"
   ],
   "execution_count": null,
   "outputs": [
    {
     "output_type": "execute_result",
     "data": {
      "text/plain": [
       "array([ 3.,  5.,  7.,  9., 11., 13.], dtype=float32)"
      ]
     },
     "metadata": {
      "tags": []
     },
     "execution_count": 40
    }
   ]
  },
  {
   "cell_type": "code",
   "metadata": {
    "id": "QkXJCF6nIb0B",
    "colab_type": "code",
    "colab": {
     "base_uri": "https://localhost:8080/",
     "height": 34
    },
    "executionInfo": {
     "status": "ok",
     "timestamp": 1594995623578,
     "user_tz": -330,
     "elapsed": 12800,
     "user": {
      "displayName": "Writobrata Bandyopadhyay",
      "photoUrl": "https://lh3.googleusercontent.com/a-/AOh14GiIgrlWyXxBfdlbwdBYCHU67PdGKNP5LpuHvPiM=s64",
      "userId": "04904541693543299783"
     }
    },
    "outputId": "bef94a20-c29a-43a8-e78e-1957f11c6776",
    "pycharm": {
     "name": "#%%\n"
    }
   },
   "source": [
    "np.arange(0.5, 1.0, 0.1)"
   ],
   "execution_count": null,
   "outputs": [
    {
     "output_type": "execute_result",
     "data": {
      "text/plain": [
       "array([0.5, 0.6, 0.7, 0.8, 0.9])"
      ]
     },
     "metadata": {
      "tags": []
     },
     "execution_count": 41
    }
   ]
  },
  {
   "cell_type": "markdown",
   "metadata": {
    "id": "-04RgJEQJK_B",
    "colab_type": "text",
    "pycharm": {
     "name": "#%% md\n"
    }
   },
   "source": [
    "###linspace"
   ]
  },
  {
   "cell_type": "code",
   "metadata": {
    "id": "M2W8-mxHIhpZ",
    "colab_type": "code",
    "colab": {},
    "pycharm": {
     "name": "#%%\n"
    }
   },
   "source": [
    "#np.linspace(start, stop which is inclusive, no. of points)"
   ],
   "execution_count": null,
   "outputs": []
  },
  {
   "cell_type": "code",
   "metadata": {
    "id": "kCu7w2bnIxzz",
    "colab_type": "code",
    "colab": {
     "base_uri": "https://localhost:8080/",
     "height": 34
    },
    "executionInfo": {
     "status": "ok",
     "timestamp": 1594995623582,
     "user_tz": -330,
     "elapsed": 12755,
     "user": {
      "displayName": "Writobrata Bandyopadhyay",
      "photoUrl": "https://lh3.googleusercontent.com/a-/AOh14GiIgrlWyXxBfdlbwdBYCHU67PdGKNP5LpuHvPiM=s64",
      "userId": "04904541693543299783"
     }
    },
    "outputId": "602f59ca-ceb4-41a0-db0c-363e1c6a369e",
    "pycharm": {
     "name": "#%%\n"
    }
   },
   "source": [
    "np.linspace(10,20,5)"
   ],
   "execution_count": null,
   "outputs": [
    {
     "output_type": "execute_result",
     "data": {
      "text/plain": [
       "array([10. , 12.5, 15. , 17.5, 20. ])"
      ]
     },
     "metadata": {
      "tags": []
     },
     "execution_count": 43
    }
   ]
  },
  {
   "cell_type": "code",
   "metadata": {
    "id": "YHRL8AwGI6tA",
    "colab_type": "code",
    "colab": {
     "base_uri": "https://localhost:8080/",
     "height": 34
    },
    "executionInfo": {
     "status": "ok",
     "timestamp": 1594995623584,
     "user_tz": -330,
     "elapsed": 12670,
     "user": {
      "displayName": "Writobrata Bandyopadhyay",
      "photoUrl": "https://lh3.googleusercontent.com/a-/AOh14GiIgrlWyXxBfdlbwdBYCHU67PdGKNP5LpuHvPiM=s64",
      "userId": "04904541693543299783"
     }
    },
    "outputId": "7834aacd-4a65-4149-c709-8962a98a6ac1",
    "pycharm": {
     "name": "#%%\n"
    }
   },
   "source": [
    "np.linspace(10,20,5, endpoint = False)"
   ],
   "execution_count": null,
   "outputs": [
    {
     "output_type": "execute_result",
     "data": {
      "text/plain": [
       "array([10., 12., 14., 16., 18.])"
      ]
     },
     "metadata": {
      "tags": []
     },
     "execution_count": 44
    }
   ]
  },
  {
   "cell_type": "code",
   "metadata": {
    "id": "AwbZByleJApw",
    "colab_type": "code",
    "colab": {
     "base_uri": "https://localhost:8080/",
     "height": 34
    },
    "executionInfo": {
     "status": "ok",
     "timestamp": 1594995623585,
     "user_tz": -330,
     "elapsed": 12617,
     "user": {
      "displayName": "Writobrata Bandyopadhyay",
      "photoUrl": "https://lh3.googleusercontent.com/a-/AOh14GiIgrlWyXxBfdlbwdBYCHU67PdGKNP5LpuHvPiM=s64",
      "userId": "04904541693543299783"
     }
    },
    "outputId": "4c861b1c-10ba-4202-c1d4-b488f7a005b0",
    "pycharm": {
     "name": "#%%\n"
    }
   },
   "source": [
    "np.linspace(10,20,5, retstep = True)"
   ],
   "execution_count": null,
   "outputs": [
    {
     "output_type": "execute_result",
     "data": {
      "text/plain": [
       "(array([10. , 12.5, 15. , 17.5, 20. ]), 2.5)"
      ]
     },
     "metadata": {
      "tags": []
     },
     "execution_count": 45
    }
   ]
  },
  {
   "cell_type": "markdown",
   "metadata": {
    "id": "OxuSKApMJdk0",
    "colab_type": "text",
    "pycharm": {
     "name": "#%% md\n"
    }
   },
   "source": [
    "It givesa the step size"
   ]
  },
  {
   "cell_type": "markdown",
   "metadata": {
    "id": "nWcpJzLkJm15",
    "colab_type": "text",
    "pycharm": {
     "name": "#%% md\n"
    }
   },
   "source": [
    "###Evenly spaced in logspace"
   ]
  },
  {
   "cell_type": "code",
   "metadata": {
    "id": "1Y0L234vJbJO",
    "colab_type": "code",
    "colab": {
     "base_uri": "https://localhost:8080/",
     "height": 51
    },
    "executionInfo": {
     "status": "ok",
     "timestamp": 1594995623587,
     "user_tz": -330,
     "elapsed": 12573,
     "user": {
      "displayName": "Writobrata Bandyopadhyay",
      "photoUrl": "https://lh3.googleusercontent.com/a-/AOh14GiIgrlWyXxBfdlbwdBYCHU67PdGKNP5LpuHvPiM=s64",
      "userId": "04904541693543299783"
     }
    },
    "outputId": "e60e3b2c-a07f-41fe-baf3-0082736468d6",
    "pycharm": {
     "name": "#%%\n"
    }
   },
   "source": [
    "np.logspace(0,1,10)"
   ],
   "execution_count": null,
   "outputs": [
    {
     "output_type": "execute_result",
     "data": {
      "text/plain": [
       "array([ 1.        ,  1.29154967,  1.66810054,  2.15443469,  2.7825594 ,\n",
       "        3.59381366,  4.64158883,  5.9948425 ,  7.74263683, 10.        ])"
      ]
     },
     "metadata": {
      "tags": []
     },
     "execution_count": 46
    }
   ]
  },
  {
   "cell_type": "code",
   "metadata": {
    "id": "Py0gOoUIJ1wn",
    "colab_type": "code",
    "colab": {
     "base_uri": "https://localhost:8080/",
     "height": 51
    },
    "executionInfo": {
     "status": "ok",
     "timestamp": 1594995623589,
     "user_tz": -330,
     "elapsed": 12529,
     "user": {
      "displayName": "Writobrata Bandyopadhyay",
      "photoUrl": "https://lh3.googleusercontent.com/a-/AOh14GiIgrlWyXxBfdlbwdBYCHU67PdGKNP5LpuHvPiM=s64",
      "userId": "04904541693543299783"
     }
    },
    "outputId": "9c77a468-6109-4f12-cba2-9353b62a604b",
    "pycharm": {
     "name": "#%%\n"
    }
   },
   "source": [
    "x = np.logspace(0,1,10)\n",
    "np.log10(x)"
   ],
   "execution_count": null,
   "outputs": [
    {
     "output_type": "execute_result",
     "data": {
      "text/plain": [
       "array([0.        , 0.11111111, 0.22222222, 0.33333333, 0.44444444,\n",
       "       0.55555556, 0.66666667, 0.77777778, 0.88888889, 1.        ])"
      ]
     },
     "metadata": {
      "tags": []
     },
     "execution_count": 47
    }
   ]
  },
  {
   "cell_type": "code",
   "metadata": {
    "id": "v53liV6ALaHY",
    "colab_type": "code",
    "colab": {
     "base_uri": "https://localhost:8080/",
     "height": 51
    },
    "executionInfo": {
     "status": "ok",
     "timestamp": 1594995623591,
     "user_tz": -330,
     "elapsed": 12492,
     "user": {
      "displayName": "Writobrata Bandyopadhyay",
      "photoUrl": "https://lh3.googleusercontent.com/a-/AOh14GiIgrlWyXxBfdlbwdBYCHU67PdGKNP5LpuHvPiM=s64",
      "userId": "04904541693543299783"
     }
    },
    "outputId": "ba501d1a-91c4-41f9-b3ca-2a1f6e67e370",
    "pycharm": {
     "name": "#%%\n"
    }
   },
   "source": [
    "x = np.logspace(0,1,10, base = 2)\n",
    "x"
   ],
   "execution_count": null,
   "outputs": [
    {
     "output_type": "execute_result",
     "data": {
      "text/plain": [
       "array([1.        , 1.08005974, 1.16652904, 1.25992105, 1.36079   ,\n",
       "       1.46973449, 1.58740105, 1.71448797, 1.85174942, 2.        ])"
      ]
     },
     "metadata": {
      "tags": []
     },
     "execution_count": 48
    }
   ]
  },
  {
   "cell_type": "code",
   "metadata": {
    "id": "_ryTUceiLr1t",
    "colab_type": "code",
    "colab": {
     "base_uri": "https://localhost:8080/",
     "height": 51
    },
    "executionInfo": {
     "status": "ok",
     "timestamp": 1594995623593,
     "user_tz": -330,
     "elapsed": 12448,
     "user": {
      "displayName": "Writobrata Bandyopadhyay",
      "photoUrl": "https://lh3.googleusercontent.com/a-/AOh14GiIgrlWyXxBfdlbwdBYCHU67PdGKNP5LpuHvPiM=s64",
      "userId": "04904541693543299783"
     }
    },
    "outputId": "8a9ff2f3-eb30-412a-a30f-9e33629489c6",
    "pycharm": {
     "name": "#%%\n"
    }
   },
   "source": [
    "np.log2(x)"
   ],
   "execution_count": null,
   "outputs": [
    {
     "output_type": "execute_result",
     "data": {
      "text/plain": [
       "array([0.        , 0.11111111, 0.22222222, 0.33333333, 0.44444444,\n",
       "       0.55555556, 0.66666667, 0.77777778, 0.88888889, 1.        ])"
      ]
     },
     "metadata": {
      "tags": []
     },
     "execution_count": 49
    }
   ]
  },
  {
   "cell_type": "markdown",
   "metadata": {
    "id": "d82UVcA9L3nx",
    "colab_type": "text",
    "pycharm": {
     "name": "#%% md\n"
    }
   },
   "source": [
    "##Shape/Reshape"
   ]
  },
  {
   "cell_type": "code",
   "metadata": {
    "id": "KGlSakdDLuL6",
    "colab_type": "code",
    "colab": {},
    "pycharm": {
     "name": "#%%\n"
    }
   },
   "source": [
    "a = np.arange(0,60,5)"
   ],
   "execution_count": null,
   "outputs": []
  },
  {
   "cell_type": "code",
   "metadata": {
    "id": "qh-PI1aTMMRO",
    "colab_type": "code",
    "colab": {
     "base_uri": "https://localhost:8080/",
     "height": 34
    },
    "executionInfo": {
     "status": "ok",
     "timestamp": 1594995623597,
     "user_tz": -330,
     "elapsed": 12376,
     "user": {
      "displayName": "Writobrata Bandyopadhyay",
      "photoUrl": "https://lh3.googleusercontent.com/a-/AOh14GiIgrlWyXxBfdlbwdBYCHU67PdGKNP5LpuHvPiM=s64",
      "userId": "04904541693543299783"
     }
    },
    "outputId": "2a5f7a7e-a67a-4cea-8bbc-1f7d329770c2",
    "pycharm": {
     "name": "#%%\n"
    }
   },
   "source": [
    "a"
   ],
   "execution_count": null,
   "outputs": [
    {
     "output_type": "execute_result",
     "data": {
      "text/plain": [
       "array([ 0,  5, 10, 15, 20, 25, 30, 35, 40, 45, 50, 55])"
      ]
     },
     "metadata": {
      "tags": []
     },
     "execution_count": 51
    }
   ]
  },
  {
   "cell_type": "code",
   "metadata": {
    "id": "pz0R21UeMMkY",
    "colab_type": "code",
    "colab": {
     "base_uri": "https://localhost:8080/",
     "height": 34
    },
    "executionInfo": {
     "status": "ok",
     "timestamp": 1594995623600,
     "user_tz": -330,
     "elapsed": 12300,
     "user": {
      "displayName": "Writobrata Bandyopadhyay",
      "photoUrl": "https://lh3.googleusercontent.com/a-/AOh14GiIgrlWyXxBfdlbwdBYCHU67PdGKNP5LpuHvPiM=s64",
      "userId": "04904541693543299783"
     }
    },
    "outputId": "d649ded2-6d51-4726-c082-449d57b609fe",
    "pycharm": {
     "name": "#%%\n"
    }
   },
   "source": [
    "np.shape(a)"
   ],
   "execution_count": null,
   "outputs": [
    {
     "output_type": "execute_result",
     "data": {
      "text/plain": [
       "(12,)"
      ]
     },
     "metadata": {
      "tags": []
     },
     "execution_count": 52
    }
   ]
  },
  {
   "cell_type": "code",
   "metadata": {
    "id": "g8S0tF2oMOIz",
    "colab_type": "code",
    "colab": {
     "base_uri": "https://localhost:8080/",
     "height": 34
    },
    "executionInfo": {
     "status": "ok",
     "timestamp": 1594995623602,
     "user_tz": -330,
     "elapsed": 12248,
     "user": {
      "displayName": "Writobrata Bandyopadhyay",
      "photoUrl": "https://lh3.googleusercontent.com/a-/AOh14GiIgrlWyXxBfdlbwdBYCHU67PdGKNP5LpuHvPiM=s64",
      "userId": "04904541693543299783"
     }
    },
    "outputId": "951a1107-03a1-41d0-ec8d-ffdb3bc43b46",
    "pycharm": {
     "name": "#%%\n"
    }
   },
   "source": [
    "a.shape"
   ],
   "execution_count": null,
   "outputs": [
    {
     "output_type": "execute_result",
     "data": {
      "text/plain": [
       "(12,)"
      ]
     },
     "metadata": {
      "tags": []
     },
     "execution_count": 53
    }
   ]
  },
  {
   "cell_type": "markdown",
   "metadata": {
    "id": "Pxys0LGLMQvp",
    "colab_type": "text",
    "pycharm": {
     "name": "#%% md\n"
    }
   },
   "source": [
    "It can be thought as a vector 12 cross 1.\n",
    "In linear algebra vectors are basically represented by column matrix i.e. matrix with 1 column"
   ]
  },
  {
   "cell_type": "code",
   "metadata": {
    "id": "Niychd7lMO62",
    "colab_type": "code",
    "colab": {
     "base_uri": "https://localhost:8080/",
     "height": 68
    },
    "executionInfo": {
     "status": "ok",
     "timestamp": 1594995623604,
     "user_tz": -330,
     "elapsed": 12189,
     "user": {
      "displayName": "Writobrata Bandyopadhyay",
      "photoUrl": "https://lh3.googleusercontent.com/a-/AOh14GiIgrlWyXxBfdlbwdBYCHU67PdGKNP5LpuHvPiM=s64",
      "userId": "04904541693543299783"
     }
    },
    "outputId": "f0da1e23-197c-426e-abd3-1fdb362ca017",
    "pycharm": {
     "name": "#%%\n"
    }
   },
   "source": [
    "np.reshape(a, (3,4))"
   ],
   "execution_count": null,
   "outputs": [
    {
     "output_type": "execute_result",
     "data": {
      "text/plain": [
       "array([[ 0,  5, 10, 15],\n",
       "       [20, 25, 30, 35],\n",
       "       [40, 45, 50, 55]])"
      ]
     },
     "metadata": {
      "tags": []
     },
     "execution_count": 54
    }
   ]
  },
  {
   "cell_type": "code",
   "metadata": {
    "id": "x7cGziTfNwg2",
    "colab_type": "code",
    "colab": {
     "base_uri": "https://localhost:8080/",
     "height": 68
    },
    "executionInfo": {
     "status": "ok",
     "timestamp": 1594995623607,
     "user_tz": -330,
     "elapsed": 12128,
     "user": {
      "displayName": "Writobrata Bandyopadhyay",
      "photoUrl": "https://lh3.googleusercontent.com/a-/AOh14GiIgrlWyXxBfdlbwdBYCHU67PdGKNP5LpuHvPiM=s64",
      "userId": "04904541693543299783"
     }
    },
    "outputId": "6ee4df03-69ce-4b0b-d2e1-7b5c743dfee5",
    "pycharm": {
     "name": "#%%\n"
    }
   },
   "source": [
    "b = a.reshape(3,4)\n",
    "b"
   ],
   "execution_count": null,
   "outputs": [
    {
     "output_type": "execute_result",
     "data": {
      "text/plain": [
       "array([[ 0,  5, 10, 15],\n",
       "       [20, 25, 30, 35],\n",
       "       [40, 45, 50, 55]])"
      ]
     },
     "metadata": {
      "tags": []
     },
     "execution_count": 55
    }
   ]
  },
  {
   "cell_type": "code",
   "metadata": {
    "id": "bC9V9CUxN62E",
    "colab_type": "code",
    "colab": {
     "base_uri": "https://localhost:8080/",
     "height": 34
    },
    "executionInfo": {
     "status": "ok",
     "timestamp": 1594995623608,
     "user_tz": -330,
     "elapsed": 12067,
     "user": {
      "displayName": "Writobrata Bandyopadhyay",
      "photoUrl": "https://lh3.googleusercontent.com/a-/AOh14GiIgrlWyXxBfdlbwdBYCHU67PdGKNP5LpuHvPiM=s64",
      "userId": "04904541693543299783"
     }
    },
    "outputId": "616ed6ab-2f4e-4dfb-cdc5-74325872f2da",
    "pycharm": {
     "name": "#%%\n"
    }
   },
   "source": [
    "b.shape"
   ],
   "execution_count": null,
   "outputs": [
    {
     "output_type": "execute_result",
     "data": {
      "text/plain": [
       "(3, 4)"
      ]
     },
     "metadata": {
      "tags": []
     },
     "execution_count": 56
    }
   ]
  },
  {
   "cell_type": "markdown",
   "metadata": {
    "id": "Lzj0ByDKN_pq",
    "colab_type": "text",
    "pycharm": {
     "name": "#%% md\n"
    }
   },
   "source": [
    "It is now a matrix of 3 cross 4"
   ]
  },
  {
   "cell_type": "markdown",
   "metadata": {
    "id": "cjbMlADqOK7y",
    "colab_type": "text",
    "pycharm": {
     "name": "#%% md\n"
    }
   },
   "source": [
    "##Unique elements"
   ]
  },
  {
   "cell_type": "code",
   "metadata": {
    "id": "k3BMq7whN9ss",
    "colab_type": "code",
    "colab": {},
    "pycharm": {
     "name": "#%%\n"
    }
   },
   "source": [
    "y = np.array([1,2,0.5,10,2,10])"
   ],
   "execution_count": null,
   "outputs": []
  },
  {
   "cell_type": "code",
   "metadata": {
    "id": "IvPzlZSTOTU3",
    "colab_type": "code",
    "colab": {
     "base_uri": "https://localhost:8080/",
     "height": 34
    },
    "executionInfo": {
     "status": "ok",
     "timestamp": 1594995623611,
     "user_tz": -330,
     "elapsed": 12002,
     "user": {
      "displayName": "Writobrata Bandyopadhyay",
      "photoUrl": "https://lh3.googleusercontent.com/a-/AOh14GiIgrlWyXxBfdlbwdBYCHU67PdGKNP5LpuHvPiM=s64",
      "userId": "04904541693543299783"
     }
    },
    "outputId": "dc52509b-05c6-4344-f860-f2656a316177",
    "pycharm": {
     "name": "#%%\n"
    }
   },
   "source": [
    "np.unique(y)"
   ],
   "execution_count": null,
   "outputs": [
    {
     "output_type": "execute_result",
     "data": {
      "text/plain": [
       "array([ 0.5,  1. ,  2. , 10. ])"
      ]
     },
     "metadata": {
      "tags": []
     },
     "execution_count": 58
    }
   ]
  },
  {
   "cell_type": "code",
   "metadata": {
    "id": "_ub7h9gwOVjK",
    "colab_type": "code",
    "colab": {},
    "pycharm": {
     "name": "#%%\n"
    }
   },
   "source": [
    "L = np.random.randint(0, 2, (4,5))  #exclusive 2"
   ],
   "execution_count": null,
   "outputs": []
  },
  {
   "cell_type": "code",
   "metadata": {
    "id": "w259CZWdOg6S",
    "colab_type": "code",
    "colab": {
     "base_uri": "https://localhost:8080/",
     "height": 85
    },
    "executionInfo": {
     "status": "ok",
     "timestamp": 1594995623614,
     "user_tz": -330,
     "elapsed": 11955,
     "user": {
      "displayName": "Writobrata Bandyopadhyay",
      "photoUrl": "https://lh3.googleusercontent.com/a-/AOh14GiIgrlWyXxBfdlbwdBYCHU67PdGKNP5LpuHvPiM=s64",
      "userId": "04904541693543299783"
     }
    },
    "outputId": "6e1d1b29-f214-4ab6-ad27-1feaae72d2f1",
    "pycharm": {
     "name": "#%%\n"
    }
   },
   "source": [
    "L"
   ],
   "execution_count": null,
   "outputs": [
    {
     "output_type": "execute_result",
     "data": {
      "text/plain": [
       "array([[0, 0, 1, 1, 0],\n",
       "       [1, 1, 1, 0, 1],\n",
       "       [0, 0, 0, 0, 0],\n",
       "       [0, 0, 0, 0, 0]])"
      ]
     },
     "metadata": {
      "tags": []
     },
     "execution_count": 60
    }
   ]
  },
  {
   "cell_type": "code",
   "metadata": {
    "id": "V8aqfddHOooM",
    "colab_type": "code",
    "colab": {
     "base_uri": "https://localhost:8080/",
     "height": 34
    },
    "executionInfo": {
     "status": "ok",
     "timestamp": 1594995623616,
     "user_tz": -330,
     "elapsed": 11913,
     "user": {
      "displayName": "Writobrata Bandyopadhyay",
      "photoUrl": "https://lh3.googleusercontent.com/a-/AOh14GiIgrlWyXxBfdlbwdBYCHU67PdGKNP5LpuHvPiM=s64",
      "userId": "04904541693543299783"
     }
    },
    "outputId": "96f5bd7d-06c5-4ec6-ec11-fe4ed9a55a32",
    "pycharm": {
     "name": "#%%\n"
    }
   },
   "source": [
    "np.unique(L)"
   ],
   "execution_count": null,
   "outputs": [
    {
     "output_type": "execute_result",
     "data": {
      "text/plain": [
       "array([0, 1])"
      ]
     },
     "metadata": {
      "tags": []
     },
     "execution_count": 61
    }
   ]
  },
  {
   "cell_type": "code",
   "metadata": {
    "id": "7kldP8akOrq6",
    "colab_type": "code",
    "colab": {
     "base_uri": "https://localhost:8080/",
     "height": 34
    },
    "executionInfo": {
     "status": "ok",
     "timestamp": 1594995623619,
     "user_tz": -330,
     "elapsed": 11876,
     "user": {
      "displayName": "Writobrata Bandyopadhyay",
      "photoUrl": "https://lh3.googleusercontent.com/a-/AOh14GiIgrlWyXxBfdlbwdBYCHU67PdGKNP5LpuHvPiM=s64",
      "userId": "04904541693543299783"
     }
    },
    "outputId": "465a183c-906c-4974-ab3e-07982f60ff62",
    "pycharm": {
     "name": "#%%\n"
    }
   },
   "source": [
    "A = np.array(['a', 'b', 'c', 'a', 'b'])\n",
    "A"
   ],
   "execution_count": null,
   "outputs": [
    {
     "output_type": "execute_result",
     "data": {
      "text/plain": [
       "array(['a', 'b', 'c', 'a', 'b'], dtype='<U1')"
      ]
     },
     "metadata": {
      "tags": []
     },
     "execution_count": 62
    }
   ]
  },
  {
   "cell_type": "code",
   "metadata": {
    "id": "J_6-7gCcOzQS",
    "colab_type": "code",
    "colab": {
     "base_uri": "https://localhost:8080/",
     "height": 34
    },
    "executionInfo": {
     "status": "ok",
     "timestamp": 1594995623624,
     "user_tz": -330,
     "elapsed": 11840,
     "user": {
      "displayName": "Writobrata Bandyopadhyay",
      "photoUrl": "https://lh3.googleusercontent.com/a-/AOh14GiIgrlWyXxBfdlbwdBYCHU67PdGKNP5LpuHvPiM=s64",
      "userId": "04904541693543299783"
     }
    },
    "outputId": "5aaeee4d-a00d-4de9-9318-863dde05b80b",
    "pycharm": {
     "name": "#%%\n"
    }
   },
   "source": [
    "np.unique(A)"
   ],
   "execution_count": null,
   "outputs": [
    {
     "output_type": "execute_result",
     "data": {
      "text/plain": [
       "array(['a', 'b', 'c'], dtype='<U1')"
      ]
     },
     "metadata": {
      "tags": []
     },
     "execution_count": 63
    }
   ]
  },
  {
   "cell_type": "markdown",
   "metadata": {
    "id": "Ny9szHSJO-P5",
    "colab_type": "text",
    "pycharm": {
     "name": "#%% md\n"
    }
   },
   "source": [
    "##Iterator"
   ]
  },
  {
   "cell_type": "code",
   "metadata": {
    "id": "dkgYjqbcO5hx",
    "colab_type": "code",
    "colab": {
     "base_uri": "https://localhost:8080/",
     "height": 85
    },
    "executionInfo": {
     "status": "ok",
     "timestamp": 1594995623626,
     "user_tz": -330,
     "elapsed": 11805,
     "user": {
      "displayName": "Writobrata Bandyopadhyay",
      "photoUrl": "https://lh3.googleusercontent.com/a-/AOh14GiIgrlWyXxBfdlbwdBYCHU67PdGKNP5LpuHvPiM=s64",
      "userId": "04904541693543299783"
     }
    },
    "outputId": "7b96902a-e8fd-4946-ecd0-3d108aa404bc",
    "pycharm": {
     "name": "#%%\n"
    }
   },
   "source": [
    "x = np.array([10,20,30,40])\n",
    "for i in x:\n",
    "  print(i)"
   ],
   "execution_count": null,
   "outputs": [
    {
     "output_type": "stream",
     "text": [
      "10\n",
      "20\n",
      "30\n",
      "40\n"
     ],
     "name": "stdout"
    }
   ]
  },
  {
   "cell_type": "code",
   "metadata": {
    "id": "pZfCRMcxPJfZ",
    "colab_type": "code",
    "colab": {
     "base_uri": "https://localhost:8080/",
     "height": 68
    },
    "executionInfo": {
     "status": "ok",
     "timestamp": 1594995623629,
     "user_tz": -330,
     "elapsed": 11769,
     "user": {
      "displayName": "Writobrata Bandyopadhyay",
      "photoUrl": "https://lh3.googleusercontent.com/a-/AOh14GiIgrlWyXxBfdlbwdBYCHU67PdGKNP5LpuHvPiM=s64",
      "userId": "04904541693543299783"
     }
    },
    "outputId": "3403572a-55b9-4e92-95c7-2ddb024a4fc2",
    "pycharm": {
     "name": "#%%\n"
    }
   },
   "source": [
    "A = np.arange(0,60,5).reshape(3,4)\n",
    "A"
   ],
   "execution_count": null,
   "outputs": [
    {
     "output_type": "execute_result",
     "data": {
      "text/plain": [
       "array([[ 0,  5, 10, 15],\n",
       "       [20, 25, 30, 35],\n",
       "       [40, 45, 50, 55]])"
      ]
     },
     "metadata": {
      "tags": []
     },
     "execution_count": 65
    }
   ]
  },
  {
   "cell_type": "code",
   "metadata": {
    "id": "bUMB7hUmPRV5",
    "colab_type": "code",
    "colab": {
     "base_uri": "https://localhost:8080/",
     "height": 68
    },
    "executionInfo": {
     "status": "ok",
     "timestamp": 1594995623631,
     "user_tz": -330,
     "elapsed": 11725,
     "user": {
      "displayName": "Writobrata Bandyopadhyay",
      "photoUrl": "https://lh3.googleusercontent.com/a-/AOh14GiIgrlWyXxBfdlbwdBYCHU67PdGKNP5LpuHvPiM=s64",
      "userId": "04904541693543299783"
     }
    },
    "outputId": "281409a4-ce6d-4b26-8d2c-90f2f6067bd7",
    "pycharm": {
     "name": "#%%\n"
    }
   },
   "source": [
    "for i in A:\n",
    "  print(i)"
   ],
   "execution_count": null,
   "outputs": [
    {
     "output_type": "stream",
     "text": [
      "[ 0  5 10 15]\n",
      "[20 25 30 35]\n",
      "[40 45 50 55]\n"
     ],
     "name": "stdout"
    }
   ]
  },
  {
   "cell_type": "code",
   "metadata": {
    "id": "0k-SxMwIPeAf",
    "colab_type": "code",
    "colab": {
     "base_uri": "https://localhost:8080/",
     "height": 34
    },
    "executionInfo": {
     "status": "ok",
     "timestamp": 1594995623633,
     "user_tz": -330,
     "elapsed": 11687,
     "user": {
      "displayName": "Writobrata Bandyopadhyay",
      "photoUrl": "https://lh3.googleusercontent.com/a-/AOh14GiIgrlWyXxBfdlbwdBYCHU67PdGKNP5LpuHvPiM=s64",
      "userId": "04904541693543299783"
     }
    },
    "outputId": "742c23ab-a651-4687-af32-c8f365a564cf",
    "pycharm": {
     "name": "#%%\n"
    }
   },
   "source": [
    "for i in np.nditer(A, order = 'F'):\n",
    "  print(i, end=' ')  # end = ' ' means it will print horizontally"
   ],
   "execution_count": null,
   "outputs": [
    {
     "output_type": "stream",
     "text": [
      "0 20 40 5 25 45 10 30 50 15 35 55 "
     ],
     "name": "stdout"
    }
   ]
  },
  {
   "cell_type": "markdown",
   "metadata": {
    "id": "KPoUIc1_Q2iM",
    "colab_type": "text",
    "pycharm": {
     "name": "#%% md\n"
    }
   },
   "source": [
    "F means Fortran style"
   ]
  },
  {
   "cell_type": "code",
   "metadata": {
    "id": "IuWiBrfFPp0g",
    "colab_type": "code",
    "colab": {
     "base_uri": "https://localhost:8080/",
     "height": 34
    },
    "executionInfo": {
     "status": "ok",
     "timestamp": 1594995623635,
     "user_tz": -330,
     "elapsed": 11652,
     "user": {
      "displayName": "Writobrata Bandyopadhyay",
      "photoUrl": "https://lh3.googleusercontent.com/a-/AOh14GiIgrlWyXxBfdlbwdBYCHU67PdGKNP5LpuHvPiM=s64",
      "userId": "04904541693543299783"
     }
    },
    "outputId": "bf966786-a13d-46ec-89c4-ca5b583ef7b5",
    "pycharm": {
     "name": "#%%\n"
    }
   },
   "source": [
    "for i in np.nditer(A, order = 'C'):\n",
    "  print(i, end=' ')  # end = ' ' means it will print horizontally"
   ],
   "execution_count": null,
   "outputs": [
    {
     "output_type": "stream",
     "text": [
      "0 5 10 15 20 25 30 35 40 45 50 55 "
     ],
     "name": "stdout"
    }
   ]
  },
  {
   "cell_type": "markdown",
   "metadata": {
    "id": "BF8FHIPQQ9Kz",
    "colab_type": "text",
    "pycharm": {
     "name": "#%% md\n"
    }
   },
   "source": [
    "C means C style"
   ]
  },
  {
   "cell_type": "markdown",
   "metadata": {
    "id": "f5d9RPHORPov",
    "colab_type": "text",
    "pycharm": {
     "name": "#%% md\n"
    }
   },
   "source": [
    "#**Numpy Arrays in Python Part 3**"
   ]
  },
  {
   "cell_type": "markdown",
   "metadata": {
    "id": "Alsgf_viULpt",
    "colab_type": "text",
    "pycharm": {
     "name": "#%% md\n"
    }
   },
   "source": [
    "##Manipulation of Numpy Arrays"
   ]
  },
  {
   "cell_type": "markdown",
   "metadata": {
    "id": "9EbiaR8RUY4n",
    "colab_type": "text",
    "pycharm": {
     "name": "#%% md\n"
    }
   },
   "source": [
    "###Inserting Elements"
   ]
  },
  {
   "cell_type": "code",
   "metadata": {
    "id": "Ltxl91xHQ77U",
    "colab_type": "code",
    "colab": {},
    "pycharm": {
     "name": "#%%\n"
    }
   },
   "source": [
    "a = np.array([0, -1, 2, 5, 10])"
   ],
   "execution_count": null,
   "outputs": []
  },
  {
   "cell_type": "code",
   "metadata": {
    "id": "gXO3g1DlUkiY",
    "colab_type": "code",
    "colab": {},
    "pycharm": {
     "name": "#%%\n"
    }
   },
   "source": [
    "a.put(3, 99)  #It replaces the element at index 3 with 99"
   ],
   "execution_count": null,
   "outputs": []
  },
  {
   "cell_type": "code",
   "metadata": {
    "id": "ozCHQ9kqVY3J",
    "colab_type": "code",
    "colab": {
     "base_uri": "https://localhost:8080/",
     "height": 34
    },
    "executionInfo": {
     "status": "ok",
     "timestamp": 1594995623641,
     "user_tz": -330,
     "elapsed": 11602,
     "user": {
      "displayName": "Writobrata Bandyopadhyay",
      "photoUrl": "https://lh3.googleusercontent.com/a-/AOh14GiIgrlWyXxBfdlbwdBYCHU67PdGKNP5LpuHvPiM=s64",
      "userId": "04904541693543299783"
     }
    },
    "outputId": "93823860-5f72-490c-f259-f05efe5e7cfb",
    "pycharm": {
     "name": "#%%\n"
    }
   },
   "source": [
    "a"
   ],
   "execution_count": null,
   "outputs": [
    {
     "output_type": "execute_result",
     "data": {
      "text/plain": [
       "array([ 0, -1,  2, 99, 10])"
      ]
     },
     "metadata": {
      "tags": []
     },
     "execution_count": 71
    }
   ]
  },
  {
   "cell_type": "code",
   "metadata": {
    "id": "uOKbaGCcVZep",
    "colab_type": "code",
    "colab": {
     "base_uri": "https://localhost:8080/",
     "height": 34
    },
    "executionInfo": {
     "status": "ok",
     "timestamp": 1594995623643,
     "user_tz": -330,
     "elapsed": 11565,
     "user": {
      "displayName": "Writobrata Bandyopadhyay",
      "photoUrl": "https://lh3.googleusercontent.com/a-/AOh14GiIgrlWyXxBfdlbwdBYCHU67PdGKNP5LpuHvPiM=s64",
      "userId": "04904541693543299783"
     }
    },
    "outputId": "73fe9058-1beb-42d0-bdff-f99b9776a396",
    "pycharm": {
     "name": "#%%\n"
    }
   },
   "source": [
    "a = np.array([0, -1, 2, 5, 10])\n",
    "np.insert(a, 3, 99)   #It adds 99 at index 3"
   ],
   "execution_count": null,
   "outputs": [
    {
     "output_type": "execute_result",
     "data": {
      "text/plain": [
       "array([ 0, -1,  2, 99,  5, 10])"
      ]
     },
     "metadata": {
      "tags": []
     },
     "execution_count": 72
    }
   ]
  },
  {
   "cell_type": "code",
   "metadata": {
    "id": "VAQ15M4hVicy",
    "colab_type": "code",
    "colab": {
     "base_uri": "https://localhost:8080/",
     "height": 34
    },
    "executionInfo": {
     "status": "ok",
     "timestamp": 1594995623645,
     "user_tz": -330,
     "elapsed": 11518,
     "user": {
      "displayName": "Writobrata Bandyopadhyay",
      "photoUrl": "https://lh3.googleusercontent.com/a-/AOh14GiIgrlWyXxBfdlbwdBYCHU67PdGKNP5LpuHvPiM=s64",
      "userId": "04904541693543299783"
     }
    },
    "outputId": "2846a31c-aed1-458b-892d-c76544e111f5",
    "pycharm": {
     "name": "#%%\n"
    }
   },
   "source": [
    "a"
   ],
   "execution_count": null,
   "outputs": [
    {
     "output_type": "execute_result",
     "data": {
      "text/plain": [
       "array([ 0, -1,  2,  5, 10])"
      ]
     },
     "metadata": {
      "tags": []
     },
     "execution_count": 73
    }
   ]
  },
  {
   "cell_type": "code",
   "metadata": {
    "id": "QHEy8mB1VrK5",
    "colab_type": "code",
    "colab": {},
    "pycharm": {
     "name": "#%%\n"
    }
   },
   "source": [
    "A = np.array([[1,2], [3,4]])"
   ],
   "execution_count": null,
   "outputs": []
  },
  {
   "cell_type": "code",
   "metadata": {
    "id": "UsnD4PptVyjJ",
    "colab_type": "code",
    "colab": {
     "base_uri": "https://localhost:8080/",
     "height": 51
    },
    "executionInfo": {
     "status": "ok",
     "timestamp": 1594995623650,
     "user_tz": -330,
     "elapsed": 11461,
     "user": {
      "displayName": "Writobrata Bandyopadhyay",
      "photoUrl": "https://lh3.googleusercontent.com/a-/AOh14GiIgrlWyXxBfdlbwdBYCHU67PdGKNP5LpuHvPiM=s64",
      "userId": "04904541693543299783"
     }
    },
    "outputId": "e4861178-6153-4f3f-b85a-0c8a93b68bfa",
    "pycharm": {
     "name": "#%%\n"
    }
   },
   "source": [
    "A"
   ],
   "execution_count": null,
   "outputs": [
    {
     "output_type": "execute_result",
     "data": {
      "text/plain": [
       "array([[1, 2],\n",
       "       [3, 4]])"
      ]
     },
     "metadata": {
      "tags": []
     },
     "execution_count": 75
    }
   ]
  },
  {
   "cell_type": "code",
   "metadata": {
    "id": "9hRUfHgpVyyh",
    "colab_type": "code",
    "colab": {
     "base_uri": "https://localhost:8080/",
     "height": 68
    },
    "executionInfo": {
     "status": "ok",
     "timestamp": 1594995623652,
     "user_tz": -330,
     "elapsed": 11420,
     "user": {
      "displayName": "Writobrata Bandyopadhyay",
      "photoUrl": "https://lh3.googleusercontent.com/a-/AOh14GiIgrlWyXxBfdlbwdBYCHU67PdGKNP5LpuHvPiM=s64",
      "userId": "04904541693543299783"
     }
    },
    "outputId": "5795defd-cddc-4b34-c43b-c934e759bff3",
    "pycharm": {
     "name": "#%%\n"
    }
   },
   "source": [
    "np.insert(A, 1, [10,12], axis = 0)\n",
    "# It inserts [10,12] at row 1. axis = 0 means it is insertes as a new row.\n",
    "# The existing row at 1 is pushed down to 2"
   ],
   "execution_count": null,
   "outputs": [
    {
     "output_type": "execute_result",
     "data": {
      "text/plain": [
       "array([[ 1,  2],\n",
       "       [10, 12],\n",
       "       [ 3,  4]])"
      ]
     },
     "metadata": {
      "tags": []
     },
     "execution_count": 76
    }
   ]
  },
  {
   "cell_type": "code",
   "metadata": {
    "id": "d_KU6MBfZr39",
    "colab_type": "code",
    "colab": {
     "base_uri": "https://localhost:8080/",
     "height": 51
    },
    "executionInfo": {
     "status": "ok",
     "timestamp": 1594995623654,
     "user_tz": -330,
     "elapsed": 11381,
     "user": {
      "displayName": "Writobrata Bandyopadhyay",
      "photoUrl": "https://lh3.googleusercontent.com/a-/AOh14GiIgrlWyXxBfdlbwdBYCHU67PdGKNP5LpuHvPiM=s64",
      "userId": "04904541693543299783"
     }
    },
    "outputId": "9cbcb364-a59a-4af6-9069-ea47a6d1b6e8",
    "pycharm": {
     "name": "#%%\n"
    }
   },
   "source": [
    "np.insert(A, 1, [10,12], axis = 1)\n",
    "# It inserts [10,12] at column 1. axis = 0 means it is insertes as a new column.\n",
    "# The existing column at 1 is pushed right to 2"
   ],
   "execution_count": null,
   "outputs": [
    {
     "output_type": "execute_result",
     "data": {
      "text/plain": [
       "array([[ 1, 10,  2],\n",
       "       [ 3, 12,  4]])"
      ]
     },
     "metadata": {
      "tags": []
     },
     "execution_count": 77
    }
   ]
  },
  {
   "cell_type": "markdown",
   "metadata": {
    "id": "_55AvtRzaF3w",
    "colab_type": "text",
    "pycharm": {
     "name": "#%% md\n"
    }
   },
   "source": [
    "axis = 0 --------> vertical direction      \n",
    "axis = 1 --------> horizontal direction"
   ]
  },
  {
   "cell_type": "code",
   "metadata": {
    "id": "Iy1x8bOKbhLK",
    "colab_type": "code",
    "colab": {
     "base_uri": "https://localhost:8080/",
     "height": 51
    },
    "executionInfo": {
     "status": "ok",
     "timestamp": 1594995623656,
     "user_tz": -330,
     "elapsed": 11343,
     "user": {
      "displayName": "Writobrata Bandyopadhyay",
      "photoUrl": "https://lh3.googleusercontent.com/a-/AOh14GiIgrlWyXxBfdlbwdBYCHU67PdGKNP5LpuHvPiM=s64",
      "userId": "04904541693543299783"
     }
    },
    "outputId": "31358bec-5156-48a4-9477-831c5a32ae18",
    "pycharm": {
     "name": "#%%\n"
    }
   },
   "source": [
    "A"
   ],
   "execution_count": null,
   "outputs": [
    {
     "output_type": "execute_result",
     "data": {
      "text/plain": [
       "array([[1, 2],\n",
       "       [3, 4]])"
      ]
     },
     "metadata": {
      "tags": []
     },
     "execution_count": 78
    }
   ]
  },
  {
   "cell_type": "code",
   "metadata": {
    "id": "4iWtzxOFZ_BO",
    "colab_type": "code",
    "colab": {
     "base_uri": "https://localhost:8080/",
     "height": 34
    },
    "executionInfo": {
     "status": "ok",
     "timestamp": 1594995623658,
     "user_tz": -330,
     "elapsed": 11307,
     "user": {
      "displayName": "Writobrata Bandyopadhyay",
      "photoUrl": "https://lh3.googleusercontent.com/a-/AOh14GiIgrlWyXxBfdlbwdBYCHU67PdGKNP5LpuHvPiM=s64",
      "userId": "04904541693543299783"
     }
    },
    "outputId": "4794bf40-02d1-422a-9696-0a571719b3d6",
    "pycharm": {
     "name": "#%%\n"
    }
   },
   "source": [
    "np.insert(A, 1, [10])\n",
    "# It will flatten the 2d array"
   ],
   "execution_count": null,
   "outputs": [
    {
     "output_type": "execute_result",
     "data": {
      "text/plain": [
       "array([ 1, 10,  2,  3,  4])"
      ]
     },
     "metadata": {
      "tags": []
     },
     "execution_count": 79
    }
   ]
  },
  {
   "cell_type": "code",
   "metadata": {
    "id": "3_qaQLsDbcrB",
    "colab_type": "code",
    "colab": {
     "base_uri": "https://localhost:8080/",
     "height": 34
    },
    "executionInfo": {
     "status": "ok",
     "timestamp": 1594995623661,
     "user_tz": -330,
     "elapsed": 11268,
     "user": {
      "displayName": "Writobrata Bandyopadhyay",
      "photoUrl": "https://lh3.googleusercontent.com/a-/AOh14GiIgrlWyXxBfdlbwdBYCHU67PdGKNP5LpuHvPiM=s64",
      "userId": "04904541693543299783"
     }
    },
    "outputId": "22844680-4401-4b1b-89ff-e8f6d2a0d3b6",
    "pycharm": {
     "name": "#%%\n"
    }
   },
   "source": [
    "np.insert(A, 1, [10,12])\n",
    "# It will flatten the 2d array"
   ],
   "execution_count": null,
   "outputs": [
    {
     "output_type": "execute_result",
     "data": {
      "text/plain": [
       "array([ 1, 10, 12,  2,  3,  4])"
      ]
     },
     "metadata": {
      "tags": []
     },
     "execution_count": 80
    }
   ]
  },
  {
   "cell_type": "code",
   "metadata": {
    "id": "79df99fAbld1",
    "colab_type": "code",
    "colab": {
     "base_uri": "https://localhost:8080/",
     "height": 68
    },
    "executionInfo": {
     "status": "ok",
     "timestamp": 1594995623664,
     "user_tz": -330,
     "elapsed": 11214,
     "user": {
      "displayName": "Writobrata Bandyopadhyay",
      "photoUrl": "https://lh3.googleusercontent.com/a-/AOh14GiIgrlWyXxBfdlbwdBYCHU67PdGKNP5LpuHvPiM=s64",
      "userId": "04904541693543299783"
     }
    },
    "outputId": "9324b022-e139-4a2a-8780-9da2e9acfd24",
    "pycharm": {
     "name": "#%%\n"
    }
   },
   "source": [
    "np.insert(A, 1, [10], axis = 0)"
   ],
   "execution_count": null,
   "outputs": [
    {
     "output_type": "execute_result",
     "data": {
      "text/plain": [
       "array([[ 1,  2],\n",
       "       [10, 10],\n",
       "       [ 3,  4]])"
      ]
     },
     "metadata": {
      "tags": []
     },
     "execution_count": 81
    }
   ]
  },
  {
   "cell_type": "code",
   "metadata": {
    "id": "1XHr33VOcCy7",
    "colab_type": "code",
    "colab": {
     "base_uri": "https://localhost:8080/",
     "height": 51
    },
    "executionInfo": {
     "status": "ok",
     "timestamp": 1594995623666,
     "user_tz": -330,
     "elapsed": 11177,
     "user": {
      "displayName": "Writobrata Bandyopadhyay",
      "photoUrl": "https://lh3.googleusercontent.com/a-/AOh14GiIgrlWyXxBfdlbwdBYCHU67PdGKNP5LpuHvPiM=s64",
      "userId": "04904541693543299783"
     }
    },
    "outputId": "79dd595a-1714-4566-874d-b77abea8d926",
    "pycharm": {
     "name": "#%%\n"
    }
   },
   "source": [
    "np.insert(A, 1, [10], axis = 1)"
   ],
   "execution_count": null,
   "outputs": [
    {
     "output_type": "execute_result",
     "data": {
      "text/plain": [
       "array([[ 1, 10,  2],\n",
       "       [ 3, 10,  4]])"
      ]
     },
     "metadata": {
      "tags": []
     },
     "execution_count": 82
    }
   ]
  },
  {
   "cell_type": "markdown",
   "metadata": {
    "id": "-S7aFa2XcMnd",
    "colab_type": "text",
    "pycharm": {
     "name": "#%% md\n"
    }
   },
   "source": [
    "###Delete"
   ]
  },
  {
   "cell_type": "code",
   "metadata": {
    "id": "IBD6S9VccIdC",
    "colab_type": "code",
    "colab": {},
    "pycharm": {
     "name": "#%%\n"
    }
   },
   "source": [
    "x = np.arange(1,13).reshape(3,4)"
   ],
   "execution_count": null,
   "outputs": []
  },
  {
   "cell_type": "code",
   "metadata": {
    "id": "Pt61QcSukcXO",
    "colab_type": "code",
    "colab": {
     "base_uri": "https://localhost:8080/",
     "height": 68
    },
    "executionInfo": {
     "status": "ok",
     "timestamp": 1594995623675,
     "user_tz": -330,
     "elapsed": 11122,
     "user": {
      "displayName": "Writobrata Bandyopadhyay",
      "photoUrl": "https://lh3.googleusercontent.com/a-/AOh14GiIgrlWyXxBfdlbwdBYCHU67PdGKNP5LpuHvPiM=s64",
      "userId": "04904541693543299783"
     }
    },
    "outputId": "2cfb58b3-83d6-4c6e-9a97-09fa2899f4f1",
    "pycharm": {
     "name": "#%%\n"
    }
   },
   "source": [
    "x"
   ],
   "execution_count": null,
   "outputs": [
    {
     "output_type": "execute_result",
     "data": {
      "text/plain": [
       "array([[ 1,  2,  3,  4],\n",
       "       [ 5,  6,  7,  8],\n",
       "       [ 9, 10, 11, 12]])"
      ]
     },
     "metadata": {
      "tags": []
     },
     "execution_count": 84
    }
   ]
  },
  {
   "cell_type": "code",
   "metadata": {
    "id": "A-giPaghkczq",
    "colab_type": "code",
    "colab": {
     "base_uri": "https://localhost:8080/",
     "height": 51
    },
    "executionInfo": {
     "status": "ok",
     "timestamp": 1594995623677,
     "user_tz": -330,
     "elapsed": 11081,
     "user": {
      "displayName": "Writobrata Bandyopadhyay",
      "photoUrl": "https://lh3.googleusercontent.com/a-/AOh14GiIgrlWyXxBfdlbwdBYCHU67PdGKNP5LpuHvPiM=s64",
      "userId": "04904541693543299783"
     }
    },
    "outputId": "67457045-2152-41d1-bc04-b31abe9f23d8",
    "pycharm": {
     "name": "#%%\n"
    }
   },
   "source": [
    "np.delete(x, 2, axis = 0) #The 2nd row will be delted"
   ],
   "execution_count": null,
   "outputs": [
    {
     "output_type": "execute_result",
     "data": {
      "text/plain": [
       "array([[1, 2, 3, 4],\n",
       "       [5, 6, 7, 8]])"
      ]
     },
     "metadata": {
      "tags": []
     },
     "execution_count": 85
    }
   ]
  },
  {
   "cell_type": "code",
   "metadata": {
    "id": "0Tw8YWL3klCS",
    "colab_type": "code",
    "colab": {
     "base_uri": "https://localhost:8080/",
     "height": 68
    },
    "executionInfo": {
     "status": "ok",
     "timestamp": 1594995623691,
     "user_tz": -330,
     "elapsed": 11053,
     "user": {
      "displayName": "Writobrata Bandyopadhyay",
      "photoUrl": "https://lh3.googleusercontent.com/a-/AOh14GiIgrlWyXxBfdlbwdBYCHU67PdGKNP5LpuHvPiM=s64",
      "userId": "04904541693543299783"
     }
    },
    "outputId": "7a750305-681d-4da9-a883-774cbda383a4",
    "pycharm": {
     "name": "#%%\n"
    }
   },
   "source": [
    "np.delete(x, 2, axis = 1)  #The 2nd column will be delted "
   ],
   "execution_count": null,
   "outputs": [
    {
     "output_type": "execute_result",
     "data": {
      "text/plain": [
       "array([[ 1,  2,  4],\n",
       "       [ 5,  6,  8],\n",
       "       [ 9, 10, 12]])"
      ]
     },
     "metadata": {
      "tags": []
     },
     "execution_count": 86
    }
   ]
  },
  {
   "cell_type": "markdown",
   "metadata": {
    "id": "qY_u-BATlWoG",
    "colab_type": "text",
    "pycharm": {
     "name": "#%% md\n"
    }
   },
   "source": [
    "###Split"
   ]
  },
  {
   "cell_type": "code",
   "metadata": {
    "id": "XA7En9r5lLRh",
    "colab_type": "code",
    "colab": {
     "base_uri": "https://localhost:8080/",
     "height": 68
    },
    "executionInfo": {
     "status": "ok",
     "timestamp": 1594995623696,
     "user_tz": -330,
     "elapsed": 11021,
     "user": {
      "displayName": "Writobrata Bandyopadhyay",
      "photoUrl": "https://lh3.googleusercontent.com/a-/AOh14GiIgrlWyXxBfdlbwdBYCHU67PdGKNP5LpuHvPiM=s64",
      "userId": "04904541693543299783"
     }
    },
    "outputId": "014d6694-3efa-4413-e8ab-3bcafbcd6c30",
    "pycharm": {
     "name": "#%%\n"
    }
   },
   "source": [
    "x"
   ],
   "execution_count": null,
   "outputs": [
    {
     "output_type": "execute_result",
     "data": {
      "text/plain": [
       "array([[ 1,  2,  3,  4],\n",
       "       [ 5,  6,  7,  8],\n",
       "       [ 9, 10, 11, 12]])"
      ]
     },
     "metadata": {
      "tags": []
     },
     "execution_count": 87
    }
   ]
  },
  {
   "cell_type": "code",
   "metadata": {
    "id": "qYbPjE2ilZPS",
    "colab_type": "code",
    "colab": {
     "base_uri": "https://localhost:8080/",
     "height": 34
    },
    "executionInfo": {
     "status": "ok",
     "timestamp": 1594995623699,
     "user_tz": -330,
     "elapsed": 10984,
     "user": {
      "displayName": "Writobrata Bandyopadhyay",
      "photoUrl": "https://lh3.googleusercontent.com/a-/AOh14GiIgrlWyXxBfdlbwdBYCHU67PdGKNP5LpuHvPiM=s64",
      "userId": "04904541693543299783"
     }
    },
    "outputId": "38b1442c-928f-4d48-daec-6397c21038fa",
    "pycharm": {
     "name": "#%%\n"
    }
   },
   "source": [
    "np.split(x, 3)  #The matrix will be split into separate arrays\n",
    "# consisting of each row"
   ],
   "execution_count": null,
   "outputs": [
    {
     "output_type": "execute_result",
     "data": {
      "text/plain": [
       "[array([[1, 2, 3, 4]]), array([[5, 6, 7, 8]]), array([[ 9, 10, 11, 12]])]"
      ]
     },
     "metadata": {
      "tags": []
     },
     "execution_count": 88
    }
   ]
  },
  {
   "cell_type": "code",
   "metadata": {
    "id": "j13cxcVQlhqv",
    "colab_type": "code",
    "colab": {
     "base_uri": "https://localhost:8080/",
     "height": 34
    },
    "executionInfo": {
     "status": "ok",
     "timestamp": 1594995623706,
     "user_tz": -330,
     "elapsed": 10947,
     "user": {
      "displayName": "Writobrata Bandyopadhyay",
      "photoUrl": "https://lh3.googleusercontent.com/a-/AOh14GiIgrlWyXxBfdlbwdBYCHU67PdGKNP5LpuHvPiM=s64",
      "userId": "04904541693543299783"
     }
    },
    "outputId": "2698f1b0-67e0-47fc-c6a0-c3a2ceb22f6d",
    "pycharm": {
     "name": "#%%\n"
    }
   },
   "source": [
    "np.vsplit(x, 3) #Same as above, row wise split"
   ],
   "execution_count": null,
   "outputs": [
    {
     "output_type": "execute_result",
     "data": {
      "text/plain": [
       "[array([[1, 2, 3, 4]]), array([[5, 6, 7, 8]]), array([[ 9, 10, 11, 12]])]"
      ]
     },
     "metadata": {
      "tags": []
     },
     "execution_count": 89
    }
   ]
  },
  {
   "cell_type": "code",
   "metadata": {
    "id": "a8-tCgHUl6Vu",
    "colab_type": "code",
    "colab": {},
    "pycharm": {
     "name": "#%%\n"
    }
   },
   "source": [
    "#np.vsplit(x, 2) This is error"
   ],
   "execution_count": null,
   "outputs": []
  },
  {
   "cell_type": "code",
   "metadata": {
    "id": "WD7d0YPPmClO",
    "colab_type": "code",
    "colab": {
     "base_uri": "https://localhost:8080/",
     "height": 170
    },
    "executionInfo": {
     "status": "ok",
     "timestamp": 1594995623710,
     "user_tz": -330,
     "elapsed": 10902,
     "user": {
      "displayName": "Writobrata Bandyopadhyay",
      "photoUrl": "https://lh3.googleusercontent.com/a-/AOh14GiIgrlWyXxBfdlbwdBYCHU67PdGKNP5LpuHvPiM=s64",
      "userId": "04904541693543299783"
     }
    },
    "outputId": "f7eab55a-6c9e-4e80-ede4-c96f545cf88a",
    "pycharm": {
     "name": "#%%\n"
    }
   },
   "source": [
    "np.hsplit(x, 4) #Column wise split"
   ],
   "execution_count": null,
   "outputs": [
    {
     "output_type": "execute_result",
     "data": {
      "text/plain": [
       "[array([[1],\n",
       "        [5],\n",
       "        [9]]), array([[ 2],\n",
       "        [ 6],\n",
       "        [10]]), array([[ 3],\n",
       "        [ 7],\n",
       "        [11]]), array([[ 4],\n",
       "        [ 8],\n",
       "        [12]])]"
      ]
     },
     "metadata": {
      "tags": []
     },
     "execution_count": 91
    }
   ]
  },
  {
   "cell_type": "markdown",
   "metadata": {
    "id": "_Quu8Hvim4LM",
    "colab_type": "text",
    "pycharm": {
     "name": "#%% md\n"
    }
   },
   "source": [
    "###Append"
   ]
  },
  {
   "cell_type": "code",
   "metadata": {
    "id": "1Z2WtZUkm0jl",
    "colab_type": "code",
    "colab": {},
    "pycharm": {
     "name": "#%%\n"
    }
   },
   "source": [
    "x = np.array([1,2,3,4])"
   ],
   "execution_count": null,
   "outputs": []
  },
  {
   "cell_type": "code",
   "metadata": {
    "id": "kdrE6DP9nM7c",
    "colab_type": "code",
    "colab": {
     "base_uri": "https://localhost:8080/",
     "height": 34
    },
    "executionInfo": {
     "status": "ok",
     "timestamp": 1594995623716,
     "user_tz": -330,
     "elapsed": 10860,
     "user": {
      "displayName": "Writobrata Bandyopadhyay",
      "photoUrl": "https://lh3.googleusercontent.com/a-/AOh14GiIgrlWyXxBfdlbwdBYCHU67PdGKNP5LpuHvPiM=s64",
      "userId": "04904541693543299783"
     }
    },
    "outputId": "b0965433-78ac-4df1-8e3c-1b9e11a75936",
    "pycharm": {
     "name": "#%%\n"
    }
   },
   "source": [
    "np.append(x, 7)"
   ],
   "execution_count": null,
   "outputs": [
    {
     "output_type": "execute_result",
     "data": {
      "text/plain": [
       "array([1, 2, 3, 4, 7])"
      ]
     },
     "metadata": {
      "tags": []
     },
     "execution_count": 93
    }
   ]
  },
  {
   "cell_type": "code",
   "metadata": {
    "id": "R7U9IIJtnOfL",
    "colab_type": "code",
    "colab": {},
    "pycharm": {
     "name": "#%%\n"
    }
   },
   "source": [
    "x = np.array([10,20,30])"
   ],
   "execution_count": null,
   "outputs": []
  },
  {
   "cell_type": "code",
   "metadata": {
    "id": "m77khUEJnSiU",
    "colab_type": "code",
    "colab": {},
    "pycharm": {
     "name": "#%%\n"
    }
   },
   "source": [
    "y = np.array([100,200,300])"
   ],
   "execution_count": null,
   "outputs": []
  },
  {
   "cell_type": "code",
   "metadata": {
    "id": "uqrpcAz9nV37",
    "colab_type": "code",
    "colab": {
     "base_uri": "https://localhost:8080/",
     "height": 34
    },
    "executionInfo": {
     "status": "ok",
     "timestamp": 1594995623724,
     "user_tz": -330,
     "elapsed": 10813,
     "user": {
      "displayName": "Writobrata Bandyopadhyay",
      "photoUrl": "https://lh3.googleusercontent.com/a-/AOh14GiIgrlWyXxBfdlbwdBYCHU67PdGKNP5LpuHvPiM=s64",
      "userId": "04904541693543299783"
     }
    },
    "outputId": "645260cb-c255-4a2c-ca0a-805527151763",
    "pycharm": {
     "name": "#%%\n"
    }
   },
   "source": [
    "np.append(x, y)"
   ],
   "execution_count": null,
   "outputs": [
    {
     "output_type": "execute_result",
     "data": {
      "text/plain": [
       "array([ 10,  20,  30, 100, 200, 300])"
      ]
     },
     "metadata": {
      "tags": []
     },
     "execution_count": 96
    }
   ]
  },
  {
   "cell_type": "code",
   "metadata": {
    "id": "rBtc8LiUnXwT",
    "colab_type": "code",
    "colab": {},
    "pycharm": {
     "name": "#%%\n"
    }
   },
   "source": [
    "A = np.array([[1,2], [3,4]])"
   ],
   "execution_count": null,
   "outputs": []
  },
  {
   "cell_type": "code",
   "metadata": {
    "id": "48B254xUnhEb",
    "colab_type": "code",
    "colab": {
     "base_uri": "https://localhost:8080/",
     "height": 51
    },
    "executionInfo": {
     "status": "ok",
     "timestamp": 1594995623729,
     "user_tz": -330,
     "elapsed": 10767,
     "user": {
      "displayName": "Writobrata Bandyopadhyay",
      "photoUrl": "https://lh3.googleusercontent.com/a-/AOh14GiIgrlWyXxBfdlbwdBYCHU67PdGKNP5LpuHvPiM=s64",
      "userId": "04904541693543299783"
     }
    },
    "outputId": "a66c035f-473c-4e0a-c78c-047d9c09438f",
    "pycharm": {
     "name": "#%%\n"
    }
   },
   "source": [
    "A"
   ],
   "execution_count": null,
   "outputs": [
    {
     "output_type": "execute_result",
     "data": {
      "text/plain": [
       "array([[1, 2],\n",
       "       [3, 4]])"
      ]
     },
     "metadata": {
      "tags": []
     },
     "execution_count": 98
    }
   ]
  },
  {
   "cell_type": "code",
   "metadata": {
    "id": "t3CEp3yfnhYk",
    "colab_type": "code",
    "colab": {
     "base_uri": "https://localhost:8080/",
     "height": 34
    },
    "executionInfo": {
     "status": "ok",
     "timestamp": 1594995623732,
     "user_tz": -330,
     "elapsed": 10730,
     "user": {
      "displayName": "Writobrata Bandyopadhyay",
      "photoUrl": "https://lh3.googleusercontent.com/a-/AOh14GiIgrlWyXxBfdlbwdBYCHU67PdGKNP5LpuHvPiM=s64",
      "userId": "04904541693543299783"
     }
    },
    "outputId": "ef670676-9331-40a7-fb4b-aebd942d816e",
    "pycharm": {
     "name": "#%%\n"
    }
   },
   "source": [
    "np.append(A, 99)  #This will flatten and append"
   ],
   "execution_count": null,
   "outputs": [
    {
     "output_type": "execute_result",
     "data": {
      "text/plain": [
       "array([ 1,  2,  3,  4, 99])"
      ]
     },
     "metadata": {
      "tags": []
     },
     "execution_count": 99
    }
   ]
  },
  {
   "cell_type": "code",
   "metadata": {
    "id": "_0dLIcpsnmjK",
    "colab_type": "code",
    "colab": {
     "base_uri": "https://localhost:8080/",
     "height": 34
    },
    "executionInfo": {
     "status": "ok",
     "timestamp": 1594995623733,
     "user_tz": -330,
     "elapsed": 10673,
     "user": {
      "displayName": "Writobrata Bandyopadhyay",
      "photoUrl": "https://lh3.googleusercontent.com/a-/AOh14GiIgrlWyXxBfdlbwdBYCHU67PdGKNP5LpuHvPiM=s64",
      "userId": "04904541693543299783"
     }
    },
    "outputId": "0c70e5c5-fe24-4cb2-c0b0-fdeb1995e45c",
    "pycharm": {
     "name": "#%%\n"
    }
   },
   "source": [
    "np.append(A, [[9,10]]) #This will flatten and append"
   ],
   "execution_count": null,
   "outputs": [
    {
     "output_type": "execute_result",
     "data": {
      "text/plain": [
       "array([ 1,  2,  3,  4,  9, 10])"
      ]
     },
     "metadata": {
      "tags": []
     },
     "execution_count": 100
    }
   ]
  },
  {
   "cell_type": "code",
   "metadata": {
    "id": "LVXhcxGfnsui",
    "colab_type": "code",
    "colab": {
     "base_uri": "https://localhost:8080/",
     "height": 68
    },
    "executionInfo": {
     "status": "ok",
     "timestamp": 1594995623735,
     "user_tz": -330,
     "elapsed": 10631,
     "user": {
      "displayName": "Writobrata Bandyopadhyay",
      "photoUrl": "https://lh3.googleusercontent.com/a-/AOh14GiIgrlWyXxBfdlbwdBYCHU67PdGKNP5LpuHvPiM=s64",
      "userId": "04904541693543299783"
     }
    },
    "outputId": "084625e1-ba2d-4aa7-d046-a758264a88dd",
    "pycharm": {
     "name": "#%%\n"
    }
   },
   "source": [
    "np.append(A, [[9,10]], axis = 0)  #It will append as the last row"
   ],
   "execution_count": null,
   "outputs": [
    {
     "output_type": "execute_result",
     "data": {
      "text/plain": [
       "array([[ 1,  2],\n",
       "       [ 3,  4],\n",
       "       [ 9, 10]])"
      ]
     },
     "metadata": {
      "tags": []
     },
     "execution_count": 101
    }
   ]
  },
  {
   "cell_type": "markdown",
   "metadata": {
    "id": "0wWy-VdLpO20",
    "colab_type": "text",
    "pycharm": {
     "name": "#%% md\n"
    }
   },
   "source": [
    "###Stacking"
   ]
  },
  {
   "cell_type": "code",
   "metadata": {
    "id": "fBa3LgzSoH4R",
    "colab_type": "code",
    "colab": {},
    "pycharm": {
     "name": "#%%\n"
    }
   },
   "source": [
    "x = np.array([[1,2], [3,4]])"
   ],
   "execution_count": null,
   "outputs": []
  },
  {
   "cell_type": "code",
   "metadata": {
    "id": "xT8ZB68GpeNo",
    "colab_type": "code",
    "colab": {
     "base_uri": "https://localhost:8080/",
     "height": 51
    },
    "executionInfo": {
     "status": "ok",
     "timestamp": 1594995623738,
     "user_tz": -330,
     "elapsed": 10594,
     "user": {
      "displayName": "Writobrata Bandyopadhyay",
      "photoUrl": "https://lh3.googleusercontent.com/a-/AOh14GiIgrlWyXxBfdlbwdBYCHU67PdGKNP5LpuHvPiM=s64",
      "userId": "04904541693543299783"
     }
    },
    "outputId": "a7507dcd-45bd-426e-9240-1fad6aeb0960",
    "pycharm": {
     "name": "#%%\n"
    }
   },
   "source": [
    "x"
   ],
   "execution_count": null,
   "outputs": [
    {
     "output_type": "execute_result",
     "data": {
      "text/plain": [
       "array([[1, 2],\n",
       "       [3, 4]])"
      ]
     },
     "metadata": {
      "tags": []
     },
     "execution_count": 103
    }
   ]
  },
  {
   "cell_type": "code",
   "metadata": {
    "id": "dBWp0kPMpecu",
    "colab_type": "code",
    "colab": {},
    "pycharm": {
     "name": "#%%\n"
    }
   },
   "source": [
    "y = np.array([[5,6], [7,8]])"
   ],
   "execution_count": null,
   "outputs": []
  },
  {
   "cell_type": "code",
   "metadata": {
    "id": "6b5hkncRpoFW",
    "colab_type": "code",
    "colab": {
     "base_uri": "https://localhost:8080/",
     "height": 51
    },
    "executionInfo": {
     "status": "ok",
     "timestamp": 1594995623742,
     "user_tz": -330,
     "elapsed": 10552,
     "user": {
      "displayName": "Writobrata Bandyopadhyay",
      "photoUrl": "https://lh3.googleusercontent.com/a-/AOh14GiIgrlWyXxBfdlbwdBYCHU67PdGKNP5LpuHvPiM=s64",
      "userId": "04904541693543299783"
     }
    },
    "outputId": "eb46d0a0-f07e-4368-89f1-fc9c8f3aa6df",
    "pycharm": {
     "name": "#%%\n"
    }
   },
   "source": [
    "y"
   ],
   "execution_count": null,
   "outputs": [
    {
     "output_type": "execute_result",
     "data": {
      "text/plain": [
       "array([[5, 6],\n",
       "       [7, 8]])"
      ]
     },
     "metadata": {
      "tags": []
     },
     "execution_count": 105
    }
   ]
  },
  {
   "cell_type": "code",
   "metadata": {
    "id": "A4uqI3k2poal",
    "colab_type": "code",
    "colab": {
     "base_uri": "https://localhost:8080/",
     "height": 102
    },
    "executionInfo": {
     "status": "ok",
     "timestamp": 1594995623743,
     "user_tz": -330,
     "elapsed": 10516,
     "user": {
      "displayName": "Writobrata Bandyopadhyay",
      "photoUrl": "https://lh3.googleusercontent.com/a-/AOh14GiIgrlWyXxBfdlbwdBYCHU67PdGKNP5LpuHvPiM=s64",
      "userId": "04904541693543299783"
     }
    },
    "outputId": "7fec5c02-66cf-4776-d77f-ef95acb62001",
    "pycharm": {
     "name": "#%%\n"
    }
   },
   "source": [
    "np.stack((x, y))  #default axis = 0"
   ],
   "execution_count": null,
   "outputs": [
    {
     "output_type": "execute_result",
     "data": {
      "text/plain": [
       "array([[[1, 2],\n",
       "        [3, 4]],\n",
       "\n",
       "       [[5, 6],\n",
       "        [7, 8]]])"
      ]
     },
     "metadata": {
      "tags": []
     },
     "execution_count": 106
    }
   ]
  },
  {
   "cell_type": "code",
   "metadata": {
    "id": "WD9U1Cklpurn",
    "colab_type": "code",
    "colab": {},
    "pycharm": {
     "name": "#%%\n"
    }
   },
   "source": [
    "b = np.stack((x, y))"
   ],
   "execution_count": null,
   "outputs": []
  },
  {
   "cell_type": "code",
   "metadata": {
    "id": "0zx3a75Rp7hF",
    "colab_type": "code",
    "colab": {
     "base_uri": "https://localhost:8080/",
     "height": 34
    },
    "executionInfo": {
     "status": "ok",
     "timestamp": 1594995623748,
     "user_tz": -330,
     "elapsed": 10478,
     "user": {
      "displayName": "Writobrata Bandyopadhyay",
      "photoUrl": "https://lh3.googleusercontent.com/a-/AOh14GiIgrlWyXxBfdlbwdBYCHU67PdGKNP5LpuHvPiM=s64",
      "userId": "04904541693543299783"
     }
    },
    "outputId": "9b334252-8bb1-4ecb-fb00-f2073fba30c2",
    "pycharm": {
     "name": "#%%\n"
    }
   },
   "source": [
    "b.ndim"
   ],
   "execution_count": null,
   "outputs": [
    {
     "output_type": "execute_result",
     "data": {
      "text/plain": [
       "3"
      ]
     },
     "metadata": {
      "tags": []
     },
     "execution_count": 108
    }
   ]
  },
  {
   "cell_type": "code",
   "metadata": {
    "id": "jDL-fhlep91U",
    "colab_type": "code",
    "colab": {
     "base_uri": "https://localhost:8080/",
     "height": 34
    },
    "executionInfo": {
     "status": "ok",
     "timestamp": 1594995623750,
     "user_tz": -330,
     "elapsed": 10439,
     "user": {
      "displayName": "Writobrata Bandyopadhyay",
      "photoUrl": "https://lh3.googleusercontent.com/a-/AOh14GiIgrlWyXxBfdlbwdBYCHU67PdGKNP5LpuHvPiM=s64",
      "userId": "04904541693543299783"
     }
    },
    "outputId": "d09b7db3-03ea-4be8-bc2a-8bc2bf139dfd",
    "pycharm": {
     "name": "#%%\n"
    }
   },
   "source": [
    "b.shape"
   ],
   "execution_count": null,
   "outputs": [
    {
     "output_type": "execute_result",
     "data": {
      "text/plain": [
       "(2, 2, 2)"
      ]
     },
     "metadata": {
      "tags": []
     },
     "execution_count": 109
    }
   ]
  },
  {
   "cell_type": "code",
   "metadata": {
    "id": "tqj3rW9cp_X0",
    "colab_type": "code",
    "colab": {
     "base_uri": "https://localhost:8080/",
     "height": 51
    },
    "executionInfo": {
     "status": "ok",
     "timestamp": 1594995623752,
     "user_tz": -330,
     "elapsed": 10404,
     "user": {
      "displayName": "Writobrata Bandyopadhyay",
      "photoUrl": "https://lh3.googleusercontent.com/a-/AOh14GiIgrlWyXxBfdlbwdBYCHU67PdGKNP5LpuHvPiM=s64",
      "userId": "04904541693543299783"
     }
    },
    "outputId": "5a00274c-5245-402b-ca3e-74a8ed3dbcd1",
    "pycharm": {
     "name": "#%%\n"
    }
   },
   "source": [
    "b[0]"
   ],
   "execution_count": null,
   "outputs": [
    {
     "output_type": "execute_result",
     "data": {
      "text/plain": [
       "array([[1, 2],\n",
       "       [3, 4]])"
      ]
     },
     "metadata": {
      "tags": []
     },
     "execution_count": 110
    }
   ]
  },
  {
   "cell_type": "code",
   "metadata": {
    "id": "BekOYjS1qI6M",
    "colab_type": "code",
    "colab": {
     "base_uri": "https://localhost:8080/",
     "height": 51
    },
    "executionInfo": {
     "status": "ok",
     "timestamp": 1594995623754,
     "user_tz": -330,
     "elapsed": 10365,
     "user": {
      "displayName": "Writobrata Bandyopadhyay",
      "photoUrl": "https://lh3.googleusercontent.com/a-/AOh14GiIgrlWyXxBfdlbwdBYCHU67PdGKNP5LpuHvPiM=s64",
      "userId": "04904541693543299783"
     }
    },
    "outputId": "25cec043-3141-4e91-c3f8-7efe553a21e3",
    "pycharm": {
     "name": "#%%\n"
    }
   },
   "source": [
    "b[1]"
   ],
   "execution_count": null,
   "outputs": [
    {
     "output_type": "execute_result",
     "data": {
      "text/plain": [
       "array([[5, 6],\n",
       "       [7, 8]])"
      ]
     },
     "metadata": {
      "tags": []
     },
     "execution_count": 111
    }
   ]
  },
  {
   "cell_type": "code",
   "metadata": {
    "id": "2SOP3yREqKPF",
    "colab_type": "code",
    "colab": {
     "base_uri": "https://localhost:8080/",
     "height": 34
    },
    "executionInfo": {
     "status": "ok",
     "timestamp": 1594995623758,
     "user_tz": -330,
     "elapsed": 10337,
     "user": {
      "displayName": "Writobrata Bandyopadhyay",
      "photoUrl": "https://lh3.googleusercontent.com/a-/AOh14GiIgrlWyXxBfdlbwdBYCHU67PdGKNP5LpuHvPiM=s64",
      "userId": "04904541693543299783"
     }
    },
    "outputId": "8cf47c54-ea76-40e0-9958-e4bc73ed53d8",
    "pycharm": {
     "name": "#%%\n"
    }
   },
   "source": [
    "b[0][1]"
   ],
   "execution_count": null,
   "outputs": [
    {
     "output_type": "execute_result",
     "data": {
      "text/plain": [
       "array([3, 4])"
      ]
     },
     "metadata": {
      "tags": []
     },
     "execution_count": 112
    }
   ]
  },
  {
   "cell_type": "code",
   "metadata": {
    "id": "7sm4nkYRqOSs",
    "colab_type": "code",
    "colab": {
     "base_uri": "https://localhost:8080/",
     "height": 34
    },
    "executionInfo": {
     "status": "ok",
     "timestamp": 1594995623761,
     "user_tz": -330,
     "elapsed": 10302,
     "user": {
      "displayName": "Writobrata Bandyopadhyay",
      "photoUrl": "https://lh3.googleusercontent.com/a-/AOh14GiIgrlWyXxBfdlbwdBYCHU67PdGKNP5LpuHvPiM=s64",
      "userId": "04904541693543299783"
     }
    },
    "outputId": "97ce66a2-75fc-40fb-bd7f-83c6bf0b72ff",
    "pycharm": {
     "name": "#%%\n"
    }
   },
   "source": [
    "b[0][1][1]"
   ],
   "execution_count": null,
   "outputs": [
    {
     "output_type": "execute_result",
     "data": {
      "text/plain": [
       "4"
      ]
     },
     "metadata": {
      "tags": []
     },
     "execution_count": 113
    }
   ]
  },
  {
   "cell_type": "code",
   "metadata": {
    "id": "Ik0oNYbfqSbs",
    "colab_type": "code",
    "colab": {
     "base_uri": "https://localhost:8080/",
     "height": 102
    },
    "executionInfo": {
     "status": "ok",
     "timestamp": 1594995623763,
     "user_tz": -330,
     "elapsed": 10265,
     "user": {
      "displayName": "Writobrata Bandyopadhyay",
      "photoUrl": "https://lh3.googleusercontent.com/a-/AOh14GiIgrlWyXxBfdlbwdBYCHU67PdGKNP5LpuHvPiM=s64",
      "userId": "04904541693543299783"
     }
    },
    "outputId": "61ed7f55-40cd-4ada-e3eb-01095a1942a6",
    "pycharm": {
     "name": "#%%\n"
    }
   },
   "source": [
    "np.stack((x, y), axis = 1)"
   ],
   "execution_count": null,
   "outputs": [
    {
     "output_type": "execute_result",
     "data": {
      "text/plain": [
       "array([[[1, 2],\n",
       "        [5, 6]],\n",
       "\n",
       "       [[3, 4],\n",
       "        [7, 8]]])"
      ]
     },
     "metadata": {
      "tags": []
     },
     "execution_count": 114
    }
   ]
  },
  {
   "cell_type": "code",
   "metadata": {
    "id": "NAmKMSILqfEG",
    "colab_type": "code",
    "colab": {
     "base_uri": "https://localhost:8080/",
     "height": 85
    },
    "executionInfo": {
     "status": "ok",
     "timestamp": 1594995623766,
     "user_tz": -330,
     "elapsed": 10235,
     "user": {
      "displayName": "Writobrata Bandyopadhyay",
      "photoUrl": "https://lh3.googleusercontent.com/a-/AOh14GiIgrlWyXxBfdlbwdBYCHU67PdGKNP5LpuHvPiM=s64",
      "userId": "04904541693543299783"
     }
    },
    "outputId": "45b90a2c-2228-4271-c970-c5bf480c11a1",
    "pycharm": {
     "name": "#%%\n"
    }
   },
   "source": [
    "np.vstack((x,y))  #Stacks vertically"
   ],
   "execution_count": null,
   "outputs": [
    {
     "output_type": "execute_result",
     "data": {
      "text/plain": [
       "array([[1, 2],\n",
       "       [3, 4],\n",
       "       [5, 6],\n",
       "       [7, 8]])"
      ]
     },
     "metadata": {
      "tags": []
     },
     "execution_count": 115
    }
   ]
  },
  {
   "cell_type": "code",
   "metadata": {
    "id": "wBYDE-wJqswT",
    "colab_type": "code",
    "colab": {},
    "pycharm": {
     "name": "#%%\n"
    }
   },
   "source": [
    "b = np.vstack((x,y))"
   ],
   "execution_count": null,
   "outputs": []
  },
  {
   "cell_type": "code",
   "metadata": {
    "id": "fqjYxJyKqyaC",
    "colab_type": "code",
    "colab": {
     "base_uri": "https://localhost:8080/",
     "height": 34
    },
    "executionInfo": {
     "status": "ok",
     "timestamp": 1594995623773,
     "user_tz": -330,
     "elapsed": 10202,
     "user": {
      "displayName": "Writobrata Bandyopadhyay",
      "photoUrl": "https://lh3.googleusercontent.com/a-/AOh14GiIgrlWyXxBfdlbwdBYCHU67PdGKNP5LpuHvPiM=s64",
      "userId": "04904541693543299783"
     }
    },
    "outputId": "ccb36395-4c10-4124-b7c1-7830e508d7c0",
    "pycharm": {
     "name": "#%%\n"
    }
   },
   "source": [
    "b.ndim"
   ],
   "execution_count": null,
   "outputs": [
    {
     "output_type": "execute_result",
     "data": {
      "text/plain": [
       "2"
      ]
     },
     "metadata": {
      "tags": []
     },
     "execution_count": 117
    }
   ]
  },
  {
   "cell_type": "code",
   "metadata": {
    "id": "kbCcVhN5qzny",
    "colab_type": "code",
    "colab": {
     "base_uri": "https://localhost:8080/",
     "height": 34
    },
    "executionInfo": {
     "status": "ok",
     "timestamp": 1594995623775,
     "user_tz": -330,
     "elapsed": 10164,
     "user": {
      "displayName": "Writobrata Bandyopadhyay",
      "photoUrl": "https://lh3.googleusercontent.com/a-/AOh14GiIgrlWyXxBfdlbwdBYCHU67PdGKNP5LpuHvPiM=s64",
      "userId": "04904541693543299783"
     }
    },
    "outputId": "ab9e3dca-48dd-4b8b-9531-b883a326b122",
    "pycharm": {
     "name": "#%%\n"
    }
   },
   "source": [
    "b.shape"
   ],
   "execution_count": null,
   "outputs": [
    {
     "output_type": "execute_result",
     "data": {
      "text/plain": [
       "(4, 2)"
      ]
     },
     "metadata": {
      "tags": []
     },
     "execution_count": 118
    }
   ]
  },
  {
   "cell_type": "code",
   "metadata": {
    "id": "oDWHv_LHrCtR",
    "colab_type": "code",
    "colab": {
     "base_uri": "https://localhost:8080/",
     "height": 51
    },
    "executionInfo": {
     "status": "ok",
     "timestamp": 1594995623777,
     "user_tz": -330,
     "elapsed": 10130,
     "user": {
      "displayName": "Writobrata Bandyopadhyay",
      "photoUrl": "https://lh3.googleusercontent.com/a-/AOh14GiIgrlWyXxBfdlbwdBYCHU67PdGKNP5LpuHvPiM=s64",
      "userId": "04904541693543299783"
     }
    },
    "outputId": "76c42791-2d31-4dc4-c8b8-4180d0fb0e28",
    "pycharm": {
     "name": "#%%\n"
    }
   },
   "source": [
    "x"
   ],
   "execution_count": null,
   "outputs": [
    {
     "output_type": "execute_result",
     "data": {
      "text/plain": [
       "array([[1, 2],\n",
       "       [3, 4]])"
      ]
     },
     "metadata": {
      "tags": []
     },
     "execution_count": 119
    }
   ]
  },
  {
   "cell_type": "code",
   "metadata": {
    "id": "OQM61zqrrFOU",
    "colab_type": "code",
    "colab": {
     "base_uri": "https://localhost:8080/",
     "height": 51
    },
    "executionInfo": {
     "status": "ok",
     "timestamp": 1594995623779,
     "user_tz": -330,
     "elapsed": 10085,
     "user": {
      "displayName": "Writobrata Bandyopadhyay",
      "photoUrl": "https://lh3.googleusercontent.com/a-/AOh14GiIgrlWyXxBfdlbwdBYCHU67PdGKNP5LpuHvPiM=s64",
      "userId": "04904541693543299783"
     }
    },
    "outputId": "44ed2678-68f5-4be0-9d68-b7efb8af958f",
    "pycharm": {
     "name": "#%%\n"
    }
   },
   "source": [
    "y"
   ],
   "execution_count": null,
   "outputs": [
    {
     "output_type": "execute_result",
     "data": {
      "text/plain": [
       "array([[5, 6],\n",
       "       [7, 8]])"
      ]
     },
     "metadata": {
      "tags": []
     },
     "execution_count": 120
    }
   ]
  },
  {
   "cell_type": "code",
   "metadata": {
    "id": "wqtyZo8Gq0b_",
    "colab_type": "code",
    "colab": {
     "base_uri": "https://localhost:8080/",
     "height": 51
    },
    "executionInfo": {
     "status": "ok",
     "timestamp": 1594995623781,
     "user_tz": -330,
     "elapsed": 10045,
     "user": {
      "displayName": "Writobrata Bandyopadhyay",
      "photoUrl": "https://lh3.googleusercontent.com/a-/AOh14GiIgrlWyXxBfdlbwdBYCHU67PdGKNP5LpuHvPiM=s64",
      "userId": "04904541693543299783"
     }
    },
    "outputId": "ccdb441c-c124-474f-c5e0-49c2574932eb",
    "pycharm": {
     "name": "#%%\n"
    }
   },
   "source": [
    "np.hstack((x,y))  #stacks horizontally"
   ],
   "execution_count": null,
   "outputs": [
    {
     "output_type": "execute_result",
     "data": {
      "text/plain": [
       "array([[1, 2, 5, 6],\n",
       "       [3, 4, 7, 8]])"
      ]
     },
     "metadata": {
      "tags": []
     },
     "execution_count": 121
    }
   ]
  },
  {
   "cell_type": "code",
   "metadata": {
    "id": "RZXLNbbfq-ba",
    "colab_type": "code",
    "colab": {},
    "pycharm": {
     "name": "#%%\n"
    }
   },
   "source": [
    "b = np.hstack((x,y))"
   ],
   "execution_count": null,
   "outputs": []
  },
  {
   "cell_type": "code",
   "metadata": {
    "id": "qPnZSxp_rL6z",
    "colab_type": "code",
    "colab": {
     "base_uri": "https://localhost:8080/",
     "height": 34
    },
    "executionInfo": {
     "status": "ok",
     "timestamp": 1594995623786,
     "user_tz": -330,
     "elapsed": 10004,
     "user": {
      "displayName": "Writobrata Bandyopadhyay",
      "photoUrl": "https://lh3.googleusercontent.com/a-/AOh14GiIgrlWyXxBfdlbwdBYCHU67PdGKNP5LpuHvPiM=s64",
      "userId": "04904541693543299783"
     }
    },
    "outputId": "fd9a3639-c2be-4b3a-be99-4f035292dcb9",
    "pycharm": {
     "name": "#%%\n"
    }
   },
   "source": [
    "b.shape"
   ],
   "execution_count": null,
   "outputs": [
    {
     "output_type": "execute_result",
     "data": {
      "text/plain": [
       "(2, 4)"
      ]
     },
     "metadata": {
      "tags": []
     },
     "execution_count": 123
    }
   ]
  },
  {
   "cell_type": "code",
   "metadata": {
    "id": "2ax02BrzrNWR",
    "colab_type": "code",
    "colab": {},
    "pycharm": {
     "name": "#%%\n"
    }
   },
   "source": [
    "A = np.array([[1,2], [3,4]])"
   ],
   "execution_count": null,
   "outputs": []
  },
  {
   "cell_type": "code",
   "metadata": {
    "id": "lyqUl1JBrZIJ",
    "colab_type": "code",
    "colab": {
     "base_uri": "https://localhost:8080/",
     "height": 51
    },
    "executionInfo": {
     "status": "ok",
     "timestamp": 1594995623791,
     "user_tz": -330,
     "elapsed": 9958,
     "user": {
      "displayName": "Writobrata Bandyopadhyay",
      "photoUrl": "https://lh3.googleusercontent.com/a-/AOh14GiIgrlWyXxBfdlbwdBYCHU67PdGKNP5LpuHvPiM=s64",
      "userId": "04904541693543299783"
     }
    },
    "outputId": "d61a49b6-6138-4371-95aa-98e093bbb5d8",
    "pycharm": {
     "name": "#%%\n"
    }
   },
   "source": [
    "A"
   ],
   "execution_count": null,
   "outputs": [
    {
     "output_type": "execute_result",
     "data": {
      "text/plain": [
       "array([[1, 2],\n",
       "       [3, 4]])"
      ]
     },
     "metadata": {
      "tags": []
     },
     "execution_count": 125
    }
   ]
  },
  {
   "cell_type": "code",
   "metadata": {
    "id": "G_ulMJ6KraoJ",
    "colab_type": "code",
    "colab": {},
    "pycharm": {
     "name": "#%%\n"
    }
   },
   "source": [
    "B = np.array([1,-1])"
   ],
   "execution_count": null,
   "outputs": []
  },
  {
   "cell_type": "code",
   "metadata": {
    "id": "EDt_uz5ErdgZ",
    "colab_type": "code",
    "colab": {
     "base_uri": "https://localhost:8080/",
     "height": 34
    },
    "executionInfo": {
     "status": "ok",
     "timestamp": 1594995623796,
     "user_tz": -330,
     "elapsed": 9902,
     "user": {
      "displayName": "Writobrata Bandyopadhyay",
      "photoUrl": "https://lh3.googleusercontent.com/a-/AOh14GiIgrlWyXxBfdlbwdBYCHU67PdGKNP5LpuHvPiM=s64",
      "userId": "04904541693543299783"
     }
    },
    "outputId": "41b0e9f4-f0b1-4c80-89a0-c1c6b6fe1f75",
    "pycharm": {
     "name": "#%%\n"
    }
   },
   "source": [
    "B"
   ],
   "execution_count": null,
   "outputs": [
    {
     "output_type": "execute_result",
     "data": {
      "text/plain": [
       "array([ 1, -1])"
      ]
     },
     "metadata": {
      "tags": []
     },
     "execution_count": 127
    }
   ]
  },
  {
   "cell_type": "code",
   "metadata": {
    "id": "nONfE0Xerdv9",
    "colab_type": "code",
    "colab": {
     "base_uri": "https://localhost:8080/",
     "height": 68
    },
    "executionInfo": {
     "status": "ok",
     "timestamp": 1594995623799,
     "user_tz": -330,
     "elapsed": 9862,
     "user": {
      "displayName": "Writobrata Bandyopadhyay",
      "photoUrl": "https://lh3.googleusercontent.com/a-/AOh14GiIgrlWyXxBfdlbwdBYCHU67PdGKNP5LpuHvPiM=s64",
      "userId": "04904541693543299783"
     }
    },
    "outputId": "51c7b427-0ef0-42c6-fbc8-a4e378bca0e7",
    "pycharm": {
     "name": "#%%\n"
    }
   },
   "source": [
    "np.vstack((A,B))"
   ],
   "execution_count": null,
   "outputs": [
    {
     "output_type": "execute_result",
     "data": {
      "text/plain": [
       "array([[ 1,  2],\n",
       "       [ 3,  4],\n",
       "       [ 1, -1]])"
      ]
     },
     "metadata": {
      "tags": []
     },
     "execution_count": 128
    }
   ]
  },
  {
   "cell_type": "markdown",
   "metadata": {
    "id": "oSew4iScrlQY",
    "colab_type": "text",
    "pycharm": {
     "name": "#%% md\n"
    }
   },
   "source": [
    "A is 2 cross 2, B is 1 cross 2. So the cxolumns match. And so it can stack vertically"
   ]
  },
  {
   "cell_type": "code",
   "metadata": {
    "id": "l9Cv7oG_rgjK",
    "colab_type": "code",
    "colab": {},
    "pycharm": {
     "name": "#%%\n"
    }
   },
   "source": [
    "B = np.array([[1], [-1]])"
   ],
   "execution_count": null,
   "outputs": []
  },
  {
   "cell_type": "code",
   "metadata": {
    "id": "-HpV-9btr6b4",
    "colab_type": "code",
    "colab": {
     "base_uri": "https://localhost:8080/",
     "height": 51
    },
    "executionInfo": {
     "status": "ok",
     "timestamp": 1594995623806,
     "user_tz": -330,
     "elapsed": 9818,
     "user": {
      "displayName": "Writobrata Bandyopadhyay",
      "photoUrl": "https://lh3.googleusercontent.com/a-/AOh14GiIgrlWyXxBfdlbwdBYCHU67PdGKNP5LpuHvPiM=s64",
      "userId": "04904541693543299783"
     }
    },
    "outputId": "56fcd957-2d91-4a91-e325-b94d9544a4b7",
    "pycharm": {
     "name": "#%%\n"
    }
   },
   "source": [
    "B"
   ],
   "execution_count": null,
   "outputs": [
    {
     "output_type": "execute_result",
     "data": {
      "text/plain": [
       "array([[ 1],\n",
       "       [-1]])"
      ]
     },
     "metadata": {
      "tags": []
     },
     "execution_count": 130
    }
   ]
  },
  {
   "cell_type": "code",
   "metadata": {
    "id": "qYwNTTY3r67I",
    "colab_type": "code",
    "colab": {
     "base_uri": "https://localhost:8080/",
     "height": 51
    },
    "executionInfo": {
     "status": "ok",
     "timestamp": 1594995623809,
     "user_tz": -330,
     "elapsed": 9775,
     "user": {
      "displayName": "Writobrata Bandyopadhyay",
      "photoUrl": "https://lh3.googleusercontent.com/a-/AOh14GiIgrlWyXxBfdlbwdBYCHU67PdGKNP5LpuHvPiM=s64",
      "userId": "04904541693543299783"
     }
    },
    "outputId": "244da0d2-02e6-4fb8-9fb5-79b149184041",
    "pycharm": {
     "name": "#%%\n"
    }
   },
   "source": [
    "np.hstack((A,B))"
   ],
   "execution_count": null,
   "outputs": [
    {
     "output_type": "execute_result",
     "data": {
      "text/plain": [
       "array([[ 1,  2,  1],\n",
       "       [ 3,  4, -1]])"
      ]
     },
     "metadata": {
      "tags": []
     },
     "execution_count": 131
    }
   ]
  },
  {
   "cell_type": "markdown",
   "metadata": {
    "id": "MMGsYmMRsBin",
    "colab_type": "text",
    "pycharm": {
     "name": "#%% md\n"
    }
   },
   "source": [
    "B is 2 cross 1. So the rows match. And now it can stack horizontally"
   ]
  },
  {
   "cell_type": "markdown",
   "metadata": {
    "id": "QgjZQ6x9sUKB",
    "colab_type": "text",
    "pycharm": {
     "name": "#%% md\n"
    }
   },
   "source": [
    "#**Numpy Arrays in Python Part 4**"
   ]
  },
  {
   "cell_type": "markdown",
   "metadata": {
    "id": "j5d4R5JkshRd",
    "colab_type": "text",
    "pycharm": {
     "name": "#%% md\n"
    }
   },
   "source": [
    "##Complex Arrays"
   ]
  },
  {
   "cell_type": "code",
   "metadata": {
    "id": "6jZBYEV-sevO",
    "colab_type": "code",
    "colab": {},
    "pycharm": {
     "name": "#%%\n"
    }
   },
   "source": [
    "x = np.array([2+3j, 5+2j, 3-1j])"
   ],
   "execution_count": null,
   "outputs": []
  },
  {
   "cell_type": "code",
   "metadata": {
    "id": "il2Mols_y7hb",
    "colab_type": "code",
    "colab": {
     "base_uri": "https://localhost:8080/",
     "height": 34
    },
    "executionInfo": {
     "status": "ok",
     "timestamp": 1594995623815,
     "user_tz": -330,
     "elapsed": 9728,
     "user": {
      "displayName": "Writobrata Bandyopadhyay",
      "photoUrl": "https://lh3.googleusercontent.com/a-/AOh14GiIgrlWyXxBfdlbwdBYCHU67PdGKNP5LpuHvPiM=s64",
      "userId": "04904541693543299783"
     }
    },
    "outputId": "aff6be8d-d0d0-4472-9872-ba02efc2c546",
    "pycharm": {
     "name": "#%%\n"
    }
   },
   "source": [
    "x"
   ],
   "execution_count": null,
   "outputs": [
    {
     "output_type": "execute_result",
     "data": {
      "text/plain": [
       "array([2.+3.j, 5.+2.j, 3.-1.j])"
      ]
     },
     "metadata": {
      "tags": []
     },
     "execution_count": 133
    }
   ]
  },
  {
   "cell_type": "code",
   "metadata": {
    "id": "ZZ5YAk0oy75p",
    "colab_type": "code",
    "colab": {
     "base_uri": "https://localhost:8080/",
     "height": 34
    },
    "executionInfo": {
     "status": "ok",
     "timestamp": 1594995623817,
     "user_tz": -330,
     "elapsed": 9690,
     "user": {
      "displayName": "Writobrata Bandyopadhyay",
      "photoUrl": "https://lh3.googleusercontent.com/a-/AOh14GiIgrlWyXxBfdlbwdBYCHU67PdGKNP5LpuHvPiM=s64",
      "userId": "04904541693543299783"
     }
    },
    "outputId": "e7373103-85cb-4553-a745-339bb6955c16",
    "pycharm": {
     "name": "#%%\n"
    }
   },
   "source": [
    "x.real"
   ],
   "execution_count": null,
   "outputs": [
    {
     "output_type": "execute_result",
     "data": {
      "text/plain": [
       "array([2., 5., 3.])"
      ]
     },
     "metadata": {
      "tags": []
     },
     "execution_count": 134
    }
   ]
  },
  {
   "cell_type": "code",
   "metadata": {
    "id": "FG15o4fEy90p",
    "colab_type": "code",
    "colab": {
     "base_uri": "https://localhost:8080/",
     "height": 34
    },
    "executionInfo": {
     "status": "ok",
     "timestamp": 1594995623819,
     "user_tz": -330,
     "elapsed": 9638,
     "user": {
      "displayName": "Writobrata Bandyopadhyay",
      "photoUrl": "https://lh3.googleusercontent.com/a-/AOh14GiIgrlWyXxBfdlbwdBYCHU67PdGKNP5LpuHvPiM=s64",
      "userId": "04904541693543299783"
     }
    },
    "outputId": "cb54a6d1-55db-41d4-deb5-c33f408fa03b",
    "pycharm": {
     "name": "#%%\n"
    }
   },
   "source": [
    "x.imag"
   ],
   "execution_count": null,
   "outputs": [
    {
     "output_type": "execute_result",
     "data": {
      "text/plain": [
       "array([ 3.,  2., -1.])"
      ]
     },
     "metadata": {
      "tags": []
     },
     "execution_count": 135
    }
   ]
  },
  {
   "cell_type": "code",
   "metadata": {
    "id": "XtxUlVF7zB4R",
    "colab_type": "code",
    "colab": {
     "base_uri": "https://localhost:8080/",
     "height": 34
    },
    "executionInfo": {
     "status": "ok",
     "timestamp": 1594995623823,
     "user_tz": -330,
     "elapsed": 9597,
     "user": {
      "displayName": "Writobrata Bandyopadhyay",
      "photoUrl": "https://lh3.googleusercontent.com/a-/AOh14GiIgrlWyXxBfdlbwdBYCHU67PdGKNP5LpuHvPiM=s64",
      "userId": "04904541693543299783"
     }
    },
    "outputId": "03870562-06f5-4ce1-8217-f614d3d85a69",
    "pycharm": {
     "name": "#%%\n"
    }
   },
   "source": [
    "x.conj()"
   ],
   "execution_count": null,
   "outputs": [
    {
     "output_type": "execute_result",
     "data": {
      "text/plain": [
       "array([2.-3.j, 5.-2.j, 3.+1.j])"
      ]
     },
     "metadata": {
      "tags": []
     },
     "execution_count": 136
    }
   ]
  },
  {
   "cell_type": "code",
   "metadata": {
    "id": "YPp7EFaOzEcB",
    "colab_type": "code",
    "colab": {
     "base_uri": "https://localhost:8080/",
     "height": 34
    },
    "executionInfo": {
     "status": "ok",
     "timestamp": 1594995623824,
     "user_tz": -330,
     "elapsed": 9549,
     "user": {
      "displayName": "Writobrata Bandyopadhyay",
      "photoUrl": "https://lh3.googleusercontent.com/a-/AOh14GiIgrlWyXxBfdlbwdBYCHU67PdGKNP5LpuHvPiM=s64",
      "userId": "04904541693543299783"
     }
    },
    "outputId": "9200297a-8de6-4de8-9b16-d3daa5e185f4",
    "pycharm": {
     "name": "#%%\n"
    }
   },
   "source": [
    "np.conj(x)"
   ],
   "execution_count": null,
   "outputs": [
    {
     "output_type": "execute_result",
     "data": {
      "text/plain": [
       "array([2.-3.j, 5.-2.j, 3.+1.j])"
      ]
     },
     "metadata": {
      "tags": []
     },
     "execution_count": 137
    }
   ]
  },
  {
   "cell_type": "markdown",
   "metadata": {
    "id": "tYnI9skizV1v",
    "colab_type": "text",
    "pycharm": {
     "name": "#%% md\n"
    }
   },
   "source": [
    "##Statistics"
   ]
  },
  {
   "cell_type": "code",
   "metadata": {
    "id": "mshLyHlNzHoN",
    "colab_type": "code",
    "colab": {},
    "pycharm": {
     "name": "#%%\n"
    }
   },
   "source": [
    "x = np.arange(10, 100, 10)"
   ],
   "execution_count": null,
   "outputs": []
  },
  {
   "cell_type": "code",
   "metadata": {
    "id": "6G8brX8-zJAu",
    "colab_type": "code",
    "colab": {
     "base_uri": "https://localhost:8080/",
     "height": 34
    },
    "executionInfo": {
     "status": "ok",
     "timestamp": 1594995623828,
     "user_tz": -330,
     "elapsed": 9496,
     "user": {
      "displayName": "Writobrata Bandyopadhyay",
      "photoUrl": "https://lh3.googleusercontent.com/a-/AOh14GiIgrlWyXxBfdlbwdBYCHU67PdGKNP5LpuHvPiM=s64",
      "userId": "04904541693543299783"
     }
    },
    "outputId": "caa29f77-347e-4d66-b6e0-aad68a2a6c07",
    "pycharm": {
     "name": "#%%\n"
    }
   },
   "source": [
    "x"
   ],
   "execution_count": null,
   "outputs": [
    {
     "output_type": "execute_result",
     "data": {
      "text/plain": [
       "array([10, 20, 30, 40, 50, 60, 70, 80, 90])"
      ]
     },
     "metadata": {
      "tags": []
     },
     "execution_count": 139
    }
   ]
  },
  {
   "cell_type": "code",
   "metadata": {
    "id": "NQHKoriBzQ89",
    "colab_type": "code",
    "colab": {
     "base_uri": "https://localhost:8080/",
     "height": 34
    },
    "executionInfo": {
     "status": "ok",
     "timestamp": 1594995623830,
     "user_tz": -330,
     "elapsed": 9437,
     "user": {
      "displayName": "Writobrata Bandyopadhyay",
      "photoUrl": "https://lh3.googleusercontent.com/a-/AOh14GiIgrlWyXxBfdlbwdBYCHU67PdGKNP5LpuHvPiM=s64",
      "userId": "04904541693543299783"
     }
    },
    "outputId": "e405873a-00ac-4ded-fa47-6bfee7cd1f8f",
    "pycharm": {
     "name": "#%%\n"
    }
   },
   "source": [
    "np.sum(x)"
   ],
   "execution_count": null,
   "outputs": [
    {
     "output_type": "execute_result",
     "data": {
      "text/plain": [
       "450"
      ]
     },
     "metadata": {
      "tags": []
     },
     "execution_count": 140
    }
   ]
  },
  {
   "cell_type": "code",
   "metadata": {
    "id": "GLuj_4Z4zczd",
    "colab_type": "code",
    "colab": {
     "base_uri": "https://localhost:8080/",
     "height": 34
    },
    "executionInfo": {
     "status": "ok",
     "timestamp": 1594995623833,
     "user_tz": -330,
     "elapsed": 9375,
     "user": {
      "displayName": "Writobrata Bandyopadhyay",
      "photoUrl": "https://lh3.googleusercontent.com/a-/AOh14GiIgrlWyXxBfdlbwdBYCHU67PdGKNP5LpuHvPiM=s64",
      "userId": "04904541693543299783"
     }
    },
    "outputId": "c120901b-0075-4334-e10a-80a916974f18",
    "pycharm": {
     "name": "#%%\n"
    }
   },
   "source": [
    "np.cumsum(x)  #Cumulative sum"
   ],
   "execution_count": null,
   "outputs": [
    {
     "output_type": "execute_result",
     "data": {
      "text/plain": [
       "array([ 10,  30,  60, 100, 150, 210, 280, 360, 450])"
      ]
     },
     "metadata": {
      "tags": []
     },
     "execution_count": 141
    }
   ]
  },
  {
   "cell_type": "code",
   "metadata": {
    "id": "Fzqhb67lzi1V",
    "colab_type": "code",
    "colab": {},
    "pycharm": {
     "name": "#%%\n"
    }
   },
   "source": [
    "x = np.arange(10, 100, 10).reshape(3,3)"
   ],
   "execution_count": null,
   "outputs": []
  },
  {
   "cell_type": "code",
   "metadata": {
    "id": "LsNXaOnJzm-o",
    "colab_type": "code",
    "colab": {
     "base_uri": "https://localhost:8080/",
     "height": 68
    },
    "executionInfo": {
     "status": "ok",
     "timestamp": 1594995623837,
     "user_tz": -330,
     "elapsed": 9317,
     "user": {
      "displayName": "Writobrata Bandyopadhyay",
      "photoUrl": "https://lh3.googleusercontent.com/a-/AOh14GiIgrlWyXxBfdlbwdBYCHU67PdGKNP5LpuHvPiM=s64",
      "userId": "04904541693543299783"
     }
    },
    "outputId": "1bf2a062-ce8a-4fca-89dd-e0d58e27104a",
    "pycharm": {
     "name": "#%%\n"
    }
   },
   "source": [
    "x"
   ],
   "execution_count": null,
   "outputs": [
    {
     "output_type": "execute_result",
     "data": {
      "text/plain": [
       "array([[10, 20, 30],\n",
       "       [40, 50, 60],\n",
       "       [70, 80, 90]])"
      ]
     },
     "metadata": {
      "tags": []
     },
     "execution_count": 143
    }
   ]
  },
  {
   "cell_type": "code",
   "metadata": {
    "id": "cmX2x7d9znLo",
    "colab_type": "code",
    "colab": {
     "base_uri": "https://localhost:8080/",
     "height": 34
    },
    "executionInfo": {
     "status": "ok",
     "timestamp": 1594995623840,
     "user_tz": -330,
     "elapsed": 9267,
     "user": {
      "displayName": "Writobrata Bandyopadhyay",
      "photoUrl": "https://lh3.googleusercontent.com/a-/AOh14GiIgrlWyXxBfdlbwdBYCHU67PdGKNP5LpuHvPiM=s64",
      "userId": "04904541693543299783"
     }
    },
    "outputId": "d25acdf8-1ce9-4918-cd7b-a6968c1aa0d5",
    "pycharm": {
     "name": "#%%\n"
    }
   },
   "source": [
    "np.sum(x, 0)  # 0 axis Each column is added"
   ],
   "execution_count": null,
   "outputs": [
    {
     "output_type": "execute_result",
     "data": {
      "text/plain": [
       "array([120, 150, 180])"
      ]
     },
     "metadata": {
      "tags": []
     },
     "execution_count": 144
    }
   ]
  },
  {
   "cell_type": "markdown",
   "metadata": {
    "id": "lqwpSzSE0Dzn",
    "colab_type": "text",
    "pycharm": {
     "name": "#%% md\n"
    }
   },
   "source": [
    "10+40+70 = 120"
   ]
  },
  {
   "cell_type": "code",
   "metadata": {
    "id": "XcH2qCz-z1vi",
    "colab_type": "code",
    "colab": {
     "base_uri": "https://localhost:8080/",
     "height": 34
    },
    "executionInfo": {
     "status": "ok",
     "timestamp": 1594995623842,
     "user_tz": -330,
     "elapsed": 9220,
     "user": {
      "displayName": "Writobrata Bandyopadhyay",
      "photoUrl": "https://lh3.googleusercontent.com/a-/AOh14GiIgrlWyXxBfdlbwdBYCHU67PdGKNP5LpuHvPiM=s64",
      "userId": "04904541693543299783"
     }
    },
    "outputId": "3684f933-03bd-4291-cc9b-f5985a6b2969",
    "pycharm": {
     "name": "#%%\n"
    }
   },
   "source": [
    "np.sum(x, 1) # 1 axis Each row is added"
   ],
   "execution_count": null,
   "outputs": [
    {
     "output_type": "execute_result",
     "data": {
      "text/plain": [
       "array([ 60, 150, 240])"
      ]
     },
     "metadata": {
      "tags": []
     },
     "execution_count": 145
    }
   ]
  },
  {
   "cell_type": "markdown",
   "metadata": {
    "id": "gz23IskI0NnH",
    "colab_type": "text",
    "pycharm": {
     "name": "#%% md\n"
    }
   },
   "source": [
    "10+20+30 = 60"
   ]
  },
  {
   "cell_type": "code",
   "metadata": {
    "id": "x0mcIn060Mcl",
    "colab_type": "code",
    "colab": {
     "base_uri": "https://localhost:8080/",
     "height": 34
    },
    "executionInfo": {
     "status": "ok",
     "timestamp": 1594995623859,
     "user_tz": -330,
     "elapsed": 9182,
     "user": {
      "displayName": "Writobrata Bandyopadhyay",
      "photoUrl": "https://lh3.googleusercontent.com/a-/AOh14GiIgrlWyXxBfdlbwdBYCHU67PdGKNP5LpuHvPiM=s64",
      "userId": "04904541693543299783"
     }
    },
    "outputId": "e5c96641-5b30-4047-86ff-8af1899ca946",
    "pycharm": {
     "name": "#%%\n"
    }
   },
   "source": [
    "x.sum(0)"
   ],
   "execution_count": null,
   "outputs": [
    {
     "output_type": "execute_result",
     "data": {
      "text/plain": [
       "array([120, 150, 180])"
      ]
     },
     "metadata": {
      "tags": []
     },
     "execution_count": 146
    }
   ]
  },
  {
   "cell_type": "code",
   "metadata": {
    "id": "ldf8D5T00Uq1",
    "colab_type": "code",
    "colab": {
     "base_uri": "https://localhost:8080/",
     "height": 34
    },
    "executionInfo": {
     "status": "ok",
     "timestamp": 1594995623862,
     "user_tz": -330,
     "elapsed": 9138,
     "user": {
      "displayName": "Writobrata Bandyopadhyay",
      "photoUrl": "https://lh3.googleusercontent.com/a-/AOh14GiIgrlWyXxBfdlbwdBYCHU67PdGKNP5LpuHvPiM=s64",
      "userId": "04904541693543299783"
     }
    },
    "outputId": "5bef7f98-1609-4da4-8b7b-02578524e782",
    "pycharm": {
     "name": "#%%\n"
    }
   },
   "source": [
    "x.sum(1)"
   ],
   "execution_count": null,
   "outputs": [
    {
     "output_type": "execute_result",
     "data": {
      "text/plain": [
       "array([ 60, 150, 240])"
      ]
     },
     "metadata": {
      "tags": []
     },
     "execution_count": 147
    }
   ]
  },
  {
   "cell_type": "code",
   "metadata": {
    "id": "1CSl2C4l0Wu1",
    "colab_type": "code",
    "colab": {
     "base_uri": "https://localhost:8080/",
     "height": 68
    },
    "executionInfo": {
     "status": "ok",
     "timestamp": 1594995623864,
     "user_tz": -330,
     "elapsed": 9094,
     "user": {
      "displayName": "Writobrata Bandyopadhyay",
      "photoUrl": "https://lh3.googleusercontent.com/a-/AOh14GiIgrlWyXxBfdlbwdBYCHU67PdGKNP5LpuHvPiM=s64",
      "userId": "04904541693543299783"
     }
    },
    "outputId": "7602f7ba-a738-40f1-e86a-f8db8ab778fc",
    "pycharm": {
     "name": "#%%\n"
    }
   },
   "source": [
    "x"
   ],
   "execution_count": null,
   "outputs": [
    {
     "output_type": "execute_result",
     "data": {
      "text/plain": [
       "array([[10, 20, 30],\n",
       "       [40, 50, 60],\n",
       "       [70, 80, 90]])"
      ]
     },
     "metadata": {
      "tags": []
     },
     "execution_count": 148
    }
   ]
  },
  {
   "cell_type": "code",
   "metadata": {
    "id": "yO_bxF250bps",
    "colab_type": "code",
    "colab": {
     "base_uri": "https://localhost:8080/",
     "height": 34
    },
    "executionInfo": {
     "status": "ok",
     "timestamp": 1594995623866,
     "user_tz": -330,
     "elapsed": 9049,
     "user": {
      "displayName": "Writobrata Bandyopadhyay",
      "photoUrl": "https://lh3.googleusercontent.com/a-/AOh14GiIgrlWyXxBfdlbwdBYCHU67PdGKNP5LpuHvPiM=s64",
      "userId": "04904541693543299783"
     }
    },
    "outputId": "c4fc3fe1-4782-49e6-ac37-2d2b2c4d1f93",
    "pycharm": {
     "name": "#%%\n"
    }
   },
   "source": [
    "np.trace(x) #Trace of x"
   ],
   "execution_count": null,
   "outputs": [
    {
     "output_type": "execute_result",
     "data": {
      "text/plain": [
       "150"
      ]
     },
     "metadata": {
      "tags": []
     },
     "execution_count": 149
    }
   ]
  },
  {
   "cell_type": "code",
   "metadata": {
    "id": "oAvKIJG30dZl",
    "colab_type": "code",
    "colab": {
     "base_uri": "https://localhost:8080/",
     "height": 34
    },
    "executionInfo": {
     "status": "ok",
     "timestamp": 1594995623868,
     "user_tz": -330,
     "elapsed": 9006,
     "user": {
      "displayName": "Writobrata Bandyopadhyay",
      "photoUrl": "https://lh3.googleusercontent.com/a-/AOh14GiIgrlWyXxBfdlbwdBYCHU67PdGKNP5LpuHvPiM=s64",
      "userId": "04904541693543299783"
     }
    },
    "outputId": "c611925b-3ebb-488f-95e1-86c40907f632",
    "pycharm": {
     "name": "#%%\n"
    }
   },
   "source": [
    "np.trace(x, 1)    # 1 = Upper diagonal 20 + 60 = 80"
   ],
   "execution_count": null,
   "outputs": [
    {
     "output_type": "execute_result",
     "data": {
      "text/plain": [
       "80"
      ]
     },
     "metadata": {
      "tags": []
     },
     "execution_count": 150
    }
   ]
  },
  {
   "cell_type": "code",
   "metadata": {
    "id": "XitGP0wt8Q1_",
    "colab_type": "code",
    "colab": {
     "base_uri": "https://localhost:8080/",
     "height": 34
    },
    "executionInfo": {
     "status": "ok",
     "timestamp": 1594995623870,
     "user_tz": -330,
     "elapsed": 8958,
     "user": {
      "displayName": "Writobrata Bandyopadhyay",
      "photoUrl": "https://lh3.googleusercontent.com/a-/AOh14GiIgrlWyXxBfdlbwdBYCHU67PdGKNP5LpuHvPiM=s64",
      "userId": "04904541693543299783"
     }
    },
    "outputId": "614e0a1f-6d99-4e03-d6a5-fd07f34e0071",
    "pycharm": {
     "name": "#%%\n"
    }
   },
   "source": [
    "np.trace(x, -1)  # Lower diagonal 40 +80 = 120"
   ],
   "execution_count": null,
   "outputs": [
    {
     "output_type": "execute_result",
     "data": {
      "text/plain": [
       "120"
      ]
     },
     "metadata": {
      "tags": []
     },
     "execution_count": 151
    }
   ]
  },
  {
   "cell_type": "code",
   "metadata": {
    "id": "8kjffECD8ZLp",
    "colab_type": "code",
    "colab": {
     "base_uri": "https://localhost:8080/",
     "height": 34
    },
    "executionInfo": {
     "status": "ok",
     "timestamp": 1594995623873,
     "user_tz": -330,
     "elapsed": 8912,
     "user": {
      "displayName": "Writobrata Bandyopadhyay",
      "photoUrl": "https://lh3.googleusercontent.com/a-/AOh14GiIgrlWyXxBfdlbwdBYCHU67PdGKNP5LpuHvPiM=s64",
      "userId": "04904541693543299783"
     }
    },
    "outputId": "5fc39886-e411-4edc-d57f-4439a33bbc69",
    "pycharm": {
     "name": "#%%\n"
    }
   },
   "source": [
    "np.trace(x, 2)  "
   ],
   "execution_count": null,
   "outputs": [
    {
     "output_type": "execute_result",
     "data": {
      "text/plain": [
       "30"
      ]
     },
     "metadata": {
      "tags": []
     },
     "execution_count": 152
    }
   ]
  },
  {
   "cell_type": "code",
   "metadata": {
    "id": "sBo8WXcr8s3f",
    "colab_type": "code",
    "colab": {
     "base_uri": "https://localhost:8080/",
     "height": 34
    },
    "executionInfo": {
     "status": "ok",
     "timestamp": 1594995623875,
     "user_tz": -330,
     "elapsed": 8867,
     "user": {
      "displayName": "Writobrata Bandyopadhyay",
      "photoUrl": "https://lh3.googleusercontent.com/a-/AOh14GiIgrlWyXxBfdlbwdBYCHU67PdGKNP5LpuHvPiM=s64",
      "userId": "04904541693543299783"
     }
    },
    "outputId": "6fd9eda8-33f6-42ca-fbb1-6fbf15ff9670",
    "pycharm": {
     "name": "#%%\n"
    }
   },
   "source": [
    "np.trace(x, 0) #10+50+90=150"
   ],
   "execution_count": null,
   "outputs": [
    {
     "output_type": "execute_result",
     "data": {
      "text/plain": [
       "150"
      ]
     },
     "metadata": {
      "tags": []
     },
     "execution_count": 153
    }
   ]
  },
  {
   "cell_type": "code",
   "metadata": {
    "id": "vCufiXQ48yxZ",
    "colab_type": "code",
    "colab": {
     "base_uri": "https://localhost:8080/",
     "height": 34
    },
    "executionInfo": {
     "status": "ok",
     "timestamp": 1594995623877,
     "user_tz": -330,
     "elapsed": 8827,
     "user": {
      "displayName": "Writobrata Bandyopadhyay",
      "photoUrl": "https://lh3.googleusercontent.com/a-/AOh14GiIgrlWyXxBfdlbwdBYCHU67PdGKNP5LpuHvPiM=s64",
      "userId": "04904541693543299783"
     }
    },
    "outputId": "738577f7-370f-4745-cb3a-c4c18b70446b",
    "pycharm": {
     "name": "#%%\n"
    }
   },
   "source": [
    "np.trace(x, -2)"
   ],
   "execution_count": null,
   "outputs": [
    {
     "output_type": "execute_result",
     "data": {
      "text/plain": [
       "70"
      ]
     },
     "metadata": {
      "tags": []
     },
     "execution_count": 154
    }
   ]
  },
  {
   "cell_type": "code",
   "metadata": {
    "id": "85eBba0Y868n",
    "colab_type": "code",
    "colab": {
     "base_uri": "https://localhost:8080/",
     "height": 34
    },
    "executionInfo": {
     "status": "ok",
     "timestamp": 1594995624917,
     "user_tz": -330,
     "elapsed": 9786,
     "user": {
      "displayName": "Writobrata Bandyopadhyay",
      "photoUrl": "https://lh3.googleusercontent.com/a-/AOh14GiIgrlWyXxBfdlbwdBYCHU67PdGKNP5LpuHvPiM=s64",
      "userId": "04904541693543299783"
     }
    },
    "outputId": "69337113-ec81-46e7-8150-f14ad540a1f3",
    "pycharm": {
     "name": "#%%\n"
    }
   },
   "source": [
    "np.mean(x)"
   ],
   "execution_count": null,
   "outputs": [
    {
     "output_type": "execute_result",
     "data": {
      "text/plain": [
       "50.0"
      ]
     },
     "metadata": {
      "tags": []
     },
     "execution_count": 155
    }
   ]
  },
  {
   "cell_type": "code",
   "metadata": {
    "id": "VWpgkk0S89Wv",
    "colab_type": "code",
    "colab": {
     "base_uri": "https://localhost:8080/",
     "height": 68
    },
    "executionInfo": {
     "status": "ok",
     "timestamp": 1594995624919,
     "user_tz": -330,
     "elapsed": 9734,
     "user": {
      "displayName": "Writobrata Bandyopadhyay",
      "photoUrl": "https://lh3.googleusercontent.com/a-/AOh14GiIgrlWyXxBfdlbwdBYCHU67PdGKNP5LpuHvPiM=s64",
      "userId": "04904541693543299783"
     }
    },
    "outputId": "334f8585-e9d8-4775-c9d6-b0c89718e91d",
    "pycharm": {
     "name": "#%%\n"
    }
   },
   "source": [
    "x"
   ],
   "execution_count": null,
   "outputs": [
    {
     "output_type": "execute_result",
     "data": {
      "text/plain": [
       "array([[10, 20, 30],\n",
       "       [40, 50, 60],\n",
       "       [70, 80, 90]])"
      ]
     },
     "metadata": {
      "tags": []
     },
     "execution_count": 156
    }
   ]
  },
  {
   "cell_type": "code",
   "metadata": {
    "id": "BJsw07ms9LLP",
    "colab_type": "code",
    "colab": {
     "base_uri": "https://localhost:8080/",
     "height": 34
    },
    "executionInfo": {
     "status": "ok",
     "timestamp": 1594995624921,
     "user_tz": -330,
     "elapsed": 9702,
     "user": {
      "displayName": "Writobrata Bandyopadhyay",
      "photoUrl": "https://lh3.googleusercontent.com/a-/AOh14GiIgrlWyXxBfdlbwdBYCHU67PdGKNP5LpuHvPiM=s64",
      "userId": "04904541693543299783"
     }
    },
    "outputId": "101229aa-e7b4-47b9-a9d2-48541dd420a8",
    "pycharm": {
     "name": "#%%\n"
    }
   },
   "source": [
    "np.mean(x, 1)  # Mean of each row"
   ],
   "execution_count": null,
   "outputs": [
    {
     "output_type": "execute_result",
     "data": {
      "text/plain": [
       "array([20., 50., 80.])"
      ]
     },
     "metadata": {
      "tags": []
     },
     "execution_count": 157
    }
   ]
  },
  {
   "cell_type": "code",
   "metadata": {
    "id": "xNHYTmO49Sb-",
    "colab_type": "code",
    "colab": {
     "base_uri": "https://localhost:8080/",
     "height": 34
    },
    "executionInfo": {
     "status": "ok",
     "timestamp": 1594995624923,
     "user_tz": -330,
     "elapsed": 9668,
     "user": {
      "displayName": "Writobrata Bandyopadhyay",
      "photoUrl": "https://lh3.googleusercontent.com/a-/AOh14GiIgrlWyXxBfdlbwdBYCHU67PdGKNP5LpuHvPiM=s64",
      "userId": "04904541693543299783"
     }
    },
    "outputId": "9d9e0fe8-ee72-4edb-b163-182087c367f9",
    "pycharm": {
     "name": "#%%\n"
    }
   },
   "source": [
    "np.mean(x, 0) # Mean of each column"
   ],
   "execution_count": null,
   "outputs": [
    {
     "output_type": "execute_result",
     "data": {
      "text/plain": [
       "array([40., 50., 60.])"
      ]
     },
     "metadata": {
      "tags": []
     },
     "execution_count": 158
    }
   ]
  },
  {
   "cell_type": "code",
   "metadata": {
    "id": "3Pg_AdR79VbW",
    "colab_type": "code",
    "colab": {
     "base_uri": "https://localhost:8080/",
     "height": 34
    },
    "executionInfo": {
     "status": "ok",
     "timestamp": 1594995624926,
     "user_tz": -330,
     "elapsed": 9634,
     "user": {
      "displayName": "Writobrata Bandyopadhyay",
      "photoUrl": "https://lh3.googleusercontent.com/a-/AOh14GiIgrlWyXxBfdlbwdBYCHU67PdGKNP5LpuHvPiM=s64",
      "userId": "04904541693543299783"
     }
    },
    "outputId": "a4d7d236-dc16-4859-aa4a-1e5d6fdd1bdd",
    "pycharm": {
     "name": "#%%\n"
    }
   },
   "source": [
    "np.median(x)"
   ],
   "execution_count": null,
   "outputs": [
    {
     "output_type": "execute_result",
     "data": {
      "text/plain": [
       "50.0"
      ]
     },
     "metadata": {
      "tags": []
     },
     "execution_count": 159
    }
   ]
  },
  {
   "cell_type": "code",
   "metadata": {
    "id": "mQgndu3c9efW",
    "colab_type": "code",
    "colab": {
     "base_uri": "https://localhost:8080/",
     "height": 34
    },
    "executionInfo": {
     "status": "ok",
     "timestamp": 1594995624930,
     "user_tz": -330,
     "elapsed": 9600,
     "user": {
      "displayName": "Writobrata Bandyopadhyay",
      "photoUrl": "https://lh3.googleusercontent.com/a-/AOh14GiIgrlWyXxBfdlbwdBYCHU67PdGKNP5LpuHvPiM=s64",
      "userId": "04904541693543299783"
     }
    },
    "outputId": "bfac28de-c0d4-4081-87df-d40fcdc0bc16",
    "pycharm": {
     "name": "#%%\n"
    }
   },
   "source": [
    "np.median(x, 0)   # Median of each column"
   ],
   "execution_count": null,
   "outputs": [
    {
     "output_type": "execute_result",
     "data": {
      "text/plain": [
       "array([40., 50., 60.])"
      ]
     },
     "metadata": {
      "tags": []
     },
     "execution_count": 160
    }
   ]
  },
  {
   "cell_type": "code",
   "metadata": {
    "id": "dMM4wRJW9h7O",
    "colab_type": "code",
    "colab": {
     "base_uri": "https://localhost:8080/",
     "height": 34
    },
    "executionInfo": {
     "status": "ok",
     "timestamp": 1594995624932,
     "user_tz": -330,
     "elapsed": 9564,
     "user": {
      "displayName": "Writobrata Bandyopadhyay",
      "photoUrl": "https://lh3.googleusercontent.com/a-/AOh14GiIgrlWyXxBfdlbwdBYCHU67PdGKNP5LpuHvPiM=s64",
      "userId": "04904541693543299783"
     }
    },
    "outputId": "8cb2c8a2-b330-453f-acfe-6de1689f553b",
    "pycharm": {
     "name": "#%%\n"
    }
   },
   "source": [
    "np.median(x, 1)  #Median of each row"
   ],
   "execution_count": null,
   "outputs": [
    {
     "output_type": "execute_result",
     "data": {
      "text/plain": [
       "array([20., 50., 80.])"
      ]
     },
     "metadata": {
      "tags": []
     },
     "execution_count": 161
    }
   ]
  },
  {
   "cell_type": "code",
   "metadata": {
    "id": "wsIETbQ092Jd",
    "colab_type": "code",
    "colab": {},
    "pycharm": {
     "name": "#%%\n"
    }
   },
   "source": [
    "x = np.array([0, -1, 2, 5, 10, 3, -2, 4])"
   ],
   "execution_count": null,
   "outputs": []
  },
  {
   "cell_type": "code",
   "metadata": {
    "id": "-KJSi9Yw-Sik",
    "colab_type": "code",
    "colab": {
     "base_uri": "https://localhost:8080/",
     "height": 34
    },
    "executionInfo": {
     "status": "ok",
     "timestamp": 1594995624936,
     "user_tz": -330,
     "elapsed": 9523,
     "user": {
      "displayName": "Writobrata Bandyopadhyay",
      "photoUrl": "https://lh3.googleusercontent.com/a-/AOh14GiIgrlWyXxBfdlbwdBYCHU67PdGKNP5LpuHvPiM=s64",
      "userId": "04904541693543299783"
     }
    },
    "outputId": "6e728ab0-bf6f-407d-a1f1-f759721674e4",
    "pycharm": {
     "name": "#%%\n"
    }
   },
   "source": [
    "np.ptp(x)   # peak to peak  Highest - Lowest"
   ],
   "execution_count": null,
   "outputs": [
    {
     "output_type": "execute_result",
     "data": {
      "text/plain": [
       "12"
      ]
     },
     "metadata": {
      "tags": []
     },
     "execution_count": 163
    }
   ]
  },
  {
   "cell_type": "code",
   "metadata": {
    "id": "eOF-yS1O-Y5t",
    "colab_type": "code",
    "colab": {
     "base_uri": "https://localhost:8080/",
     "height": 34
    },
    "executionInfo": {
     "status": "ok",
     "timestamp": 1594995624938,
     "user_tz": -330,
     "elapsed": 9484,
     "user": {
      "displayName": "Writobrata Bandyopadhyay",
      "photoUrl": "https://lh3.googleusercontent.com/a-/AOh14GiIgrlWyXxBfdlbwdBYCHU67PdGKNP5LpuHvPiM=s64",
      "userId": "04904541693543299783"
     }
    },
    "outputId": "04c40f5b-dd7c-495e-b774-7a6ddc75ae3f",
    "pycharm": {
     "name": "#%%\n"
    }
   },
   "source": [
    "np.var(x)  #Variance"
   ],
   "execution_count": null,
   "outputs": [
    {
     "output_type": "execute_result",
     "data": {
      "text/plain": [
       "12.984375"
      ]
     },
     "metadata": {
      "tags": []
     },
     "execution_count": 164
    }
   ]
  },
  {
   "cell_type": "code",
   "metadata": {
    "id": "KZzScici-slz",
    "colab_type": "code",
    "colab": {
     "base_uri": "https://localhost:8080/",
     "height": 34
    },
    "executionInfo": {
     "status": "ok",
     "timestamp": 1594995624939,
     "user_tz": -330,
     "elapsed": 9446,
     "user": {
      "displayName": "Writobrata Bandyopadhyay",
      "photoUrl": "https://lh3.googleusercontent.com/a-/AOh14GiIgrlWyXxBfdlbwdBYCHU67PdGKNP5LpuHvPiM=s64",
      "userId": "04904541693543299783"
     }
    },
    "outputId": "3089a003-8d95-40c9-cde4-0bfd21eb9089",
    "pycharm": {
     "name": "#%%\n"
    }
   },
   "source": [
    "np.std(x)  # Standard Variation"
   ],
   "execution_count": null,
   "outputs": [
    {
     "output_type": "execute_result",
     "data": {
      "text/plain": [
       "3.6033838263498934"
      ]
     },
     "metadata": {
      "tags": []
     },
     "execution_count": 165
    }
   ]
  },
  {
   "cell_type": "code",
   "metadata": {
    "id": "yR3hPXro-zkj",
    "colab_type": "code",
    "colab": {},
    "pycharm": {
     "name": "#%%\n"
    }
   },
   "source": [
    "x = np.array([0, -1, 2, 5, 10, 3, -2, 4]).reshape(2,4)"
   ],
   "execution_count": null,
   "outputs": []
  },
  {
   "cell_type": "code",
   "metadata": {
    "id": "DDU4Z1pn_WJG",
    "colab_type": "code",
    "colab": {
     "base_uri": "https://localhost:8080/",
     "height": 51
    },
    "executionInfo": {
     "status": "ok",
     "timestamp": 1594995624947,
     "user_tz": -330,
     "elapsed": 9414,
     "user": {
      "displayName": "Writobrata Bandyopadhyay",
      "photoUrl": "https://lh3.googleusercontent.com/a-/AOh14GiIgrlWyXxBfdlbwdBYCHU67PdGKNP5LpuHvPiM=s64",
      "userId": "04904541693543299783"
     }
    },
    "outputId": "017de6fd-3eef-4e23-c40a-ae94e8d9855f",
    "pycharm": {
     "name": "#%%\n"
    }
   },
   "source": [
    "x"
   ],
   "execution_count": null,
   "outputs": [
    {
     "output_type": "execute_result",
     "data": {
      "text/plain": [
       "array([[ 0, -1,  2,  5],\n",
       "       [10,  3, -2,  4]])"
      ]
     },
     "metadata": {
      "tags": []
     },
     "execution_count": 167
    }
   ]
  },
  {
   "cell_type": "code",
   "metadata": {
    "id": "1lkUooog_WnR",
    "colab_type": "code",
    "colab": {
     "base_uri": "https://localhost:8080/",
     "height": 34
    },
    "executionInfo": {
     "status": "ok",
     "timestamp": 1594995624949,
     "user_tz": -330,
     "elapsed": 9377,
     "user": {
      "displayName": "Writobrata Bandyopadhyay",
      "photoUrl": "https://lh3.googleusercontent.com/a-/AOh14GiIgrlWyXxBfdlbwdBYCHU67PdGKNP5LpuHvPiM=s64",
      "userId": "04904541693543299783"
     }
    },
    "outputId": "c010ae38-ce61-432c-d4d9-c87673a70704",
    "pycharm": {
     "name": "#%%\n"
    }
   },
   "source": [
    "np.ptp(x, 0)  # Peak to peak of each column"
   ],
   "execution_count": null,
   "outputs": [
    {
     "output_type": "execute_result",
     "data": {
      "text/plain": [
       "array([10,  4,  4,  1])"
      ]
     },
     "metadata": {
      "tags": []
     },
     "execution_count": 168
    }
   ]
  },
  {
   "cell_type": "code",
   "metadata": {
    "id": "wEr3yROw_f1i",
    "colab_type": "code",
    "colab": {
     "base_uri": "https://localhost:8080/",
     "height": 34
    },
    "executionInfo": {
     "status": "ok",
     "timestamp": 1594995624951,
     "user_tz": -330,
     "elapsed": 9344,
     "user": {
      "displayName": "Writobrata Bandyopadhyay",
      "photoUrl": "https://lh3.googleusercontent.com/a-/AOh14GiIgrlWyXxBfdlbwdBYCHU67PdGKNP5LpuHvPiM=s64",
      "userId": "04904541693543299783"
     }
    },
    "outputId": "10eef61e-391a-4210-dd1e-b5e45b90423d",
    "pycharm": {
     "name": "#%%\n"
    }
   },
   "source": [
    "np.ptp(x, 1)"
   ],
   "execution_count": null,
   "outputs": [
    {
     "output_type": "execute_result",
     "data": {
      "text/plain": [
       "array([ 6, 12])"
      ]
     },
     "metadata": {
      "tags": []
     },
     "execution_count": 169
    }
   ]
  },
  {
   "cell_type": "markdown",
   "metadata": {
    "id": "_Wxql9-P__uQ",
    "colab_type": "text",
    "pycharm": {
     "name": "#%% md\n"
    }
   },
   "source": [
    "##Sorting"
   ]
  },
  {
   "cell_type": "code",
   "metadata": {
    "id": "razPplOj_iYR",
    "colab_type": "code",
    "colab": {},
    "pycharm": {
     "name": "#%%\n"
    }
   },
   "source": [
    "L = np.random.randint(-10, 10, (4,5))"
   ],
   "execution_count": null,
   "outputs": []
  },
  {
   "cell_type": "code",
   "metadata": {
    "id": "Z9Tx6qvVAKFq",
    "colab_type": "code",
    "colab": {
     "base_uri": "https://localhost:8080/",
     "height": 85
    },
    "executionInfo": {
     "status": "ok",
     "timestamp": 1594995624954,
     "user_tz": -330,
     "elapsed": 9307,
     "user": {
      "displayName": "Writobrata Bandyopadhyay",
      "photoUrl": "https://lh3.googleusercontent.com/a-/AOh14GiIgrlWyXxBfdlbwdBYCHU67PdGKNP5LpuHvPiM=s64",
      "userId": "04904541693543299783"
     }
    },
    "outputId": "b7c84647-7401-4beb-c803-7e811ef3c3cd",
    "pycharm": {
     "name": "#%%\n"
    }
   },
   "source": [
    "L"
   ],
   "execution_count": null,
   "outputs": [
    {
     "output_type": "execute_result",
     "data": {
      "text/plain": [
       "array([[-4,  2,  9, -5,  1],\n",
       "       [-3, -2,  3,  4, -5],\n",
       "       [-9,  1, -1,  6,  1],\n",
       "       [ 4, -2, -4, -8, -4]])"
      ]
     },
     "metadata": {
      "tags": []
     },
     "execution_count": 171
    }
   ]
  },
  {
   "cell_type": "code",
   "metadata": {
    "id": "wFGJXs_hAKbw",
    "colab_type": "code",
    "colab": {
     "base_uri": "https://localhost:8080/",
     "height": 85
    },
    "executionInfo": {
     "status": "ok",
     "timestamp": 1594995624956,
     "user_tz": -330,
     "elapsed": 9271,
     "user": {
      "displayName": "Writobrata Bandyopadhyay",
      "photoUrl": "https://lh3.googleusercontent.com/a-/AOh14GiIgrlWyXxBfdlbwdBYCHU67PdGKNP5LpuHvPiM=s64",
      "userId": "04904541693543299783"
     }
    },
    "outputId": "365f380f-5674-4a8f-dcb1-d2bc60a2fc7f",
    "pycharm": {
     "name": "#%%\n"
    }
   },
   "source": [
    "np.sort(L)  #Sorted each row Defalut axis = 1"
   ],
   "execution_count": null,
   "outputs": [
    {
     "output_type": "execute_result",
     "data": {
      "text/plain": [
       "array([[-5, -4,  1,  2,  9],\n",
       "       [-5, -3, -2,  3,  4],\n",
       "       [-9, -1,  1,  1,  6],\n",
       "       [-8, -4, -4, -2,  4]])"
      ]
     },
     "metadata": {
      "tags": []
     },
     "execution_count": 172
    }
   ]
  },
  {
   "cell_type": "code",
   "metadata": {
    "id": "qcQkFQWVAO8X",
    "colab_type": "code",
    "colab": {
     "base_uri": "https://localhost:8080/",
     "height": 85
    },
    "executionInfo": {
     "status": "ok",
     "timestamp": 1594995624960,
     "user_tz": -330,
     "elapsed": 9235,
     "user": {
      "displayName": "Writobrata Bandyopadhyay",
      "photoUrl": "https://lh3.googleusercontent.com/a-/AOh14GiIgrlWyXxBfdlbwdBYCHU67PdGKNP5LpuHvPiM=s64",
      "userId": "04904541693543299783"
     }
    },
    "outputId": "7a9944fa-2570-4b16-db67-3b2e717bd0f0",
    "pycharm": {
     "name": "#%%\n"
    }
   },
   "source": [
    "np.sort(L, 0)"
   ],
   "execution_count": null,
   "outputs": [
    {
     "output_type": "execute_result",
     "data": {
      "text/plain": [
       "array([[-9, -2, -4, -8, -5],\n",
       "       [-4, -2, -1, -5, -4],\n",
       "       [-3,  1,  3,  4,  1],\n",
       "       [ 4,  2,  9,  6,  1]])"
      ]
     },
     "metadata": {
      "tags": []
     },
     "execution_count": 173
    }
   ]
  },
  {
   "cell_type": "code",
   "metadata": {
    "id": "De8ibpodAlHv",
    "colab_type": "code",
    "colab": {
     "base_uri": "https://localhost:8080/",
     "height": 85
    },
    "executionInfo": {
     "status": "ok",
     "timestamp": 1594995624963,
     "user_tz": -330,
     "elapsed": 9199,
     "user": {
      "displayName": "Writobrata Bandyopadhyay",
      "photoUrl": "https://lh3.googleusercontent.com/a-/AOh14GiIgrlWyXxBfdlbwdBYCHU67PdGKNP5LpuHvPiM=s64",
      "userId": "04904541693543299783"
     }
    },
    "outputId": "a856e71b-9eac-4eaa-d32a-aac611ff02e6",
    "pycharm": {
     "name": "#%%\n"
    }
   },
   "source": [
    "np.sort(L, 1)"
   ],
   "execution_count": null,
   "outputs": [
    {
     "output_type": "execute_result",
     "data": {
      "text/plain": [
       "array([[-5, -4,  1,  2,  9],\n",
       "       [-5, -3, -2,  3,  4],\n",
       "       [-9, -1,  1,  1,  6],\n",
       "       [-8, -4, -4, -2,  4]])"
      ]
     },
     "metadata": {
      "tags": []
     },
     "execution_count": 174
    }
   ]
  },
  {
   "cell_type": "markdown",
   "metadata": {
    "id": "iyhaxHyHAr0h",
    "colab_type": "text",
    "pycharm": {
     "name": "#%% md\n"
    }
   },
   "source": [
    "##Concatenation"
   ]
  },
  {
   "cell_type": "code",
   "metadata": {
    "id": "kjoz70acAqLf",
    "colab_type": "code",
    "colab": {},
    "pycharm": {
     "name": "#%%\n"
    }
   },
   "source": [
    "x = np.array([10,20,30])"
   ],
   "execution_count": null,
   "outputs": []
  },
  {
   "cell_type": "code",
   "metadata": {
    "id": "pmIRc_6oA2VO",
    "colab_type": "code",
    "colab": {},
    "pycharm": {
     "name": "#%%\n"
    }
   },
   "source": [
    "y = np.array([40,50,60])"
   ],
   "execution_count": null,
   "outputs": []
  },
  {
   "cell_type": "code",
   "metadata": {
    "id": "iazWy_CdA4kd",
    "colab_type": "code",
    "colab": {
     "base_uri": "https://localhost:8080/",
     "height": 34
    },
    "executionInfo": {
     "status": "ok",
     "timestamp": 1594995624972,
     "user_tz": -330,
     "elapsed": 9163,
     "user": {
      "displayName": "Writobrata Bandyopadhyay",
      "photoUrl": "https://lh3.googleusercontent.com/a-/AOh14GiIgrlWyXxBfdlbwdBYCHU67PdGKNP5LpuHvPiM=s64",
      "userId": "04904541693543299783"
     }
    },
    "outputId": "b06900f6-27c0-461c-b210-40a23e280748",
    "pycharm": {
     "name": "#%%\n"
    }
   },
   "source": [
    "np.concatenate((x,y))"
   ],
   "execution_count": null,
   "outputs": [
    {
     "output_type": "execute_result",
     "data": {
      "text/plain": [
       "array([10, 20, 30, 40, 50, 60])"
      ]
     },
     "metadata": {
      "tags": []
     },
     "execution_count": 177
    }
   ]
  },
  {
   "cell_type": "code",
   "metadata": {
    "id": "JEkzQYzHA7F-",
    "colab_type": "code",
    "colab": {},
    "pycharm": {
     "name": "#%%\n"
    }
   },
   "source": [
    "x = np.array([[1,2,3], [4,5,6]])"
   ],
   "execution_count": null,
   "outputs": []
  },
  {
   "cell_type": "code",
   "metadata": {
    "id": "-j9Ux_m6BPlN",
    "colab_type": "code",
    "colab": {},
    "pycharm": {
     "name": "#%%\n"
    }
   },
   "source": [
    "y = np.array([[7,8,9], [10,11,12]])"
   ],
   "execution_count": null,
   "outputs": []
  },
  {
   "cell_type": "code",
   "metadata": {
    "id": "YxD9akwvBT9V",
    "colab_type": "code",
    "colab": {
     "base_uri": "https://localhost:8080/",
     "height": 51
    },
    "executionInfo": {
     "status": "ok",
     "timestamp": 1594995624983,
     "user_tz": -330,
     "elapsed": 9123,
     "user": {
      "displayName": "Writobrata Bandyopadhyay",
      "photoUrl": "https://lh3.googleusercontent.com/a-/AOh14GiIgrlWyXxBfdlbwdBYCHU67PdGKNP5LpuHvPiM=s64",
      "userId": "04904541693543299783"
     }
    },
    "outputId": "a97e0767-c2f1-4399-af45-4270b2fe038c",
    "pycharm": {
     "name": "#%%\n"
    }
   },
   "source": [
    "x"
   ],
   "execution_count": null,
   "outputs": [
    {
     "output_type": "execute_result",
     "data": {
      "text/plain": [
       "array([[1, 2, 3],\n",
       "       [4, 5, 6]])"
      ]
     },
     "metadata": {
      "tags": []
     },
     "execution_count": 180
    }
   ]
  },
  {
   "cell_type": "code",
   "metadata": {
    "id": "sJap8s4lBUeV",
    "colab_type": "code",
    "colab": {
     "base_uri": "https://localhost:8080/",
     "height": 51
    },
    "executionInfo": {
     "status": "ok",
     "timestamp": 1594995624985,
     "user_tz": -330,
     "elapsed": 9087,
     "user": {
      "displayName": "Writobrata Bandyopadhyay",
      "photoUrl": "https://lh3.googleusercontent.com/a-/AOh14GiIgrlWyXxBfdlbwdBYCHU67PdGKNP5LpuHvPiM=s64",
      "userId": "04904541693543299783"
     }
    },
    "outputId": "ece8c79a-eb19-4d91-92f1-6704b41bb03a",
    "pycharm": {
     "name": "#%%\n"
    }
   },
   "source": [
    "y"
   ],
   "execution_count": null,
   "outputs": [
    {
     "output_type": "execute_result",
     "data": {
      "text/plain": [
       "array([[ 7,  8,  9],\n",
       "       [10, 11, 12]])"
      ]
     },
     "metadata": {
      "tags": []
     },
     "execution_count": 181
    }
   ]
  },
  {
   "cell_type": "code",
   "metadata": {
    "id": "EoTUNqKnBUr6",
    "colab_type": "code",
    "colab": {
     "base_uri": "https://localhost:8080/",
     "height": 85
    },
    "executionInfo": {
     "status": "ok",
     "timestamp": 1594995624987,
     "user_tz": -330,
     "elapsed": 9052,
     "user": {
      "displayName": "Writobrata Bandyopadhyay",
      "photoUrl": "https://lh3.googleusercontent.com/a-/AOh14GiIgrlWyXxBfdlbwdBYCHU67PdGKNP5LpuHvPiM=s64",
      "userId": "04904541693543299783"
     }
    },
    "outputId": "b579d187-f359-4578-b21a-8b0aac563405",
    "pycharm": {
     "name": "#%%\n"
    }
   },
   "source": [
    "np.concatenate((x,y))  #Default axis = 0"
   ],
   "execution_count": null,
   "outputs": [
    {
     "output_type": "execute_result",
     "data": {
      "text/plain": [
       "array([[ 1,  2,  3],\n",
       "       [ 4,  5,  6],\n",
       "       [ 7,  8,  9],\n",
       "       [10, 11, 12]])"
      ]
     },
     "metadata": {
      "tags": []
     },
     "execution_count": 182
    }
   ]
  },
  {
   "cell_type": "code",
   "metadata": {
    "id": "m5JPUlRGBXbW",
    "colab_type": "code",
    "colab": {
     "base_uri": "https://localhost:8080/",
     "height": 51
    },
    "executionInfo": {
     "status": "ok",
     "timestamp": 1594995624989,
     "user_tz": -330,
     "elapsed": 9015,
     "user": {
      "displayName": "Writobrata Bandyopadhyay",
      "photoUrl": "https://lh3.googleusercontent.com/a-/AOh14GiIgrlWyXxBfdlbwdBYCHU67PdGKNP5LpuHvPiM=s64",
      "userId": "04904541693543299783"
     }
    },
    "outputId": "04fcc139-d0a5-4c50-bd23-e6a174b2f668",
    "pycharm": {
     "name": "#%%\n"
    }
   },
   "source": [
    "np.concatenate((x,y), axis = 1)"
   ],
   "execution_count": null,
   "outputs": [
    {
     "output_type": "execute_result",
     "data": {
      "text/plain": [
       "array([[ 1,  2,  3,  7,  8,  9],\n",
       "       [ 4,  5,  6, 10, 11, 12]])"
      ]
     },
     "metadata": {
      "tags": []
     },
     "execution_count": 183
    }
   ]
  },
  {
   "cell_type": "markdown",
   "metadata": {
    "id": "8jJOesGbBx0y",
    "colab_type": "text",
    "pycharm": {
     "name": "#%% md\n"
    }
   },
   "source": [
    "#**Numpy Arrays in Python Part 5**"
   ]
  },
  {
   "cell_type": "markdown",
   "metadata": {
    "id": "kIar89YCB9yr",
    "colab_type": "text",
    "pycharm": {
     "name": "#%% md\n"
    }
   },
   "source": [
    "##Indexing"
   ]
  },
  {
   "cell_type": "code",
   "metadata": {
    "id": "9Hfqy72PBesc",
    "colab_type": "code",
    "colab": {},
    "pycharm": {
     "name": "#%%\n"
    }
   },
   "source": [
    "x = np.arange(2,15,3)"
   ],
   "execution_count": null,
   "outputs": []
  },
  {
   "cell_type": "code",
   "metadata": {
    "id": "PGQpe2BaCJHf",
    "colab_type": "code",
    "colab": {
     "base_uri": "https://localhost:8080/",
     "height": 34
    },
    "executionInfo": {
     "status": "ok",
     "timestamp": 1594995624997,
     "user_tz": -330,
     "elapsed": 8974,
     "user": {
      "displayName": "Writobrata Bandyopadhyay",
      "photoUrl": "https://lh3.googleusercontent.com/a-/AOh14GiIgrlWyXxBfdlbwdBYCHU67PdGKNP5LpuHvPiM=s64",
      "userId": "04904541693543299783"
     }
    },
    "outputId": "c539f3b1-45ec-4859-c7ea-672a507aeeac",
    "pycharm": {
     "name": "#%%\n"
    }
   },
   "source": [
    "x"
   ],
   "execution_count": null,
   "outputs": [
    {
     "output_type": "execute_result",
     "data": {
      "text/plain": [
       "array([ 2,  5,  8, 11, 14])"
      ]
     },
     "metadata": {
      "tags": []
     },
     "execution_count": 185
    }
   ]
  },
  {
   "cell_type": "code",
   "metadata": {
    "id": "zMXCznusCJ8r",
    "colab_type": "code",
    "colab": {
     "base_uri": "https://localhost:8080/",
     "height": 34
    },
    "executionInfo": {
     "status": "ok",
     "timestamp": 1594995625000,
     "user_tz": -330,
     "elapsed": 8941,
     "user": {
      "displayName": "Writobrata Bandyopadhyay",
      "photoUrl": "https://lh3.googleusercontent.com/a-/AOh14GiIgrlWyXxBfdlbwdBYCHU67PdGKNP5LpuHvPiM=s64",
      "userId": "04904541693543299783"
     }
    },
    "outputId": "72eb9f9a-85c5-4a3d-9a52-1e0282a67464",
    "pycharm": {
     "name": "#%%\n"
    }
   },
   "source": [
    "x[0]"
   ],
   "execution_count": null,
   "outputs": [
    {
     "output_type": "execute_result",
     "data": {
      "text/plain": [
       "2"
      ]
     },
     "metadata": {
      "tags": []
     },
     "execution_count": 186
    }
   ]
  },
  {
   "cell_type": "code",
   "metadata": {
    "id": "-9ENs9iaCLwb",
    "colab_type": "code",
    "colab": {
     "base_uri": "https://localhost:8080/",
     "height": 34
    },
    "executionInfo": {
     "status": "ok",
     "timestamp": 1594995625002,
     "user_tz": -330,
     "elapsed": 8906,
     "user": {
      "displayName": "Writobrata Bandyopadhyay",
      "photoUrl": "https://lh3.googleusercontent.com/a-/AOh14GiIgrlWyXxBfdlbwdBYCHU67PdGKNP5LpuHvPiM=s64",
      "userId": "04904541693543299783"
     }
    },
    "outputId": "6c1994f4-5ea8-460f-c51b-475c5dbc1376",
    "pycharm": {
     "name": "#%%\n"
    }
   },
   "source": [
    "x[2]"
   ],
   "execution_count": null,
   "outputs": [
    {
     "output_type": "execute_result",
     "data": {
      "text/plain": [
       "8"
      ]
     },
     "metadata": {
      "tags": []
     },
     "execution_count": 187
    }
   ]
  },
  {
   "cell_type": "code",
   "metadata": {
    "id": "UVTjPy6yCMNT",
    "colab_type": "code",
    "colab": {
     "base_uri": "https://localhost:8080/",
     "height": 34
    },
    "executionInfo": {
     "status": "ok",
     "timestamp": 1594995625004,
     "user_tz": -330,
     "elapsed": 8872,
     "user": {
      "displayName": "Writobrata Bandyopadhyay",
      "photoUrl": "https://lh3.googleusercontent.com/a-/AOh14GiIgrlWyXxBfdlbwdBYCHU67PdGKNP5LpuHvPiM=s64",
      "userId": "04904541693543299783"
     }
    },
    "outputId": "3a895015-8f7c-4532-d32b-1da0fe2d18f2",
    "pycharm": {
     "name": "#%%\n"
    }
   },
   "source": [
    "x[-1]"
   ],
   "execution_count": null,
   "outputs": [
    {
     "output_type": "execute_result",
     "data": {
      "text/plain": [
       "14"
      ]
     },
     "metadata": {
      "tags": []
     },
     "execution_count": 188
    }
   ]
  },
  {
   "cell_type": "code",
   "metadata": {
    "id": "9D-lTDQ9CNm-",
    "colab_type": "code",
    "colab": {
     "base_uri": "https://localhost:8080/",
     "height": 34
    },
    "executionInfo": {
     "status": "ok",
     "timestamp": 1594995625005,
     "user_tz": -330,
     "elapsed": 8838,
     "user": {
      "displayName": "Writobrata Bandyopadhyay",
      "photoUrl": "https://lh3.googleusercontent.com/a-/AOh14GiIgrlWyXxBfdlbwdBYCHU67PdGKNP5LpuHvPiM=s64",
      "userId": "04904541693543299783"
     }
    },
    "outputId": "f7541e17-de11-42af-8185-c7195bc715a5",
    "pycharm": {
     "name": "#%%\n"
    }
   },
   "source": [
    "x[-5]"
   ],
   "execution_count": null,
   "outputs": [
    {
     "output_type": "execute_result",
     "data": {
      "text/plain": [
       "2"
      ]
     },
     "metadata": {
      "tags": []
     },
     "execution_count": 189
    }
   ]
  },
  {
   "cell_type": "markdown",
   "metadata": {
    "id": "FjO10dHSCcG6",
    "colab_type": "text",
    "pycharm": {
     "name": "#%% md\n"
    }
   },
   "source": [
    "##Slicing"
   ]
  },
  {
   "cell_type": "code",
   "metadata": {
    "id": "_JINSMaKCTWU",
    "colab_type": "code",
    "colab": {
     "base_uri": "https://localhost:8080/",
     "height": 34
    },
    "executionInfo": {
     "status": "ok",
     "timestamp": 1594995625010,
     "user_tz": -330,
     "elapsed": 8805,
     "user": {
      "displayName": "Writobrata Bandyopadhyay",
      "photoUrl": "https://lh3.googleusercontent.com/a-/AOh14GiIgrlWyXxBfdlbwdBYCHU67PdGKNP5LpuHvPiM=s64",
      "userId": "04904541693543299783"
     }
    },
    "outputId": "3054db74-c4bc-4fe4-e5f1-a7922b3f0cb4",
    "pycharm": {
     "name": "#%%\n"
    }
   },
   "source": [
    "x"
   ],
   "execution_count": null,
   "outputs": [
    {
     "output_type": "execute_result",
     "data": {
      "text/plain": [
       "array([ 2,  5,  8, 11, 14])"
      ]
     },
     "metadata": {
      "tags": []
     },
     "execution_count": 190
    }
   ]
  },
  {
   "cell_type": "code",
   "metadata": {
    "id": "8_CSvAj_CgXi",
    "colab_type": "code",
    "colab": {
     "base_uri": "https://localhost:8080/",
     "height": 34
    },
    "executionInfo": {
     "status": "ok",
     "timestamp": 1594995625014,
     "user_tz": -330,
     "elapsed": 8767,
     "user": {
      "displayName": "Writobrata Bandyopadhyay",
      "photoUrl": "https://lh3.googleusercontent.com/a-/AOh14GiIgrlWyXxBfdlbwdBYCHU67PdGKNP5LpuHvPiM=s64",
      "userId": "04904541693543299783"
     }
    },
    "outputId": "7cc087d5-5c8b-4220-f5d1-e01529fb77be",
    "pycharm": {
     "name": "#%%\n"
    }
   },
   "source": [
    "x[1:5:1]  # [start: end(exclusive), step]"
   ],
   "execution_count": null,
   "outputs": [
    {
     "output_type": "execute_result",
     "data": {
      "text/plain": [
       "array([ 5,  8, 11, 14])"
      ]
     },
     "metadata": {
      "tags": []
     },
     "execution_count": 191
    }
   ]
  },
  {
   "cell_type": "code",
   "metadata": {
    "id": "2H6lUBvMCtFB",
    "colab_type": "code",
    "colab": {
     "base_uri": "https://localhost:8080/",
     "height": 34
    },
    "executionInfo": {
     "status": "ok",
     "timestamp": 1594995625016,
     "user_tz": -330,
     "elapsed": 8732,
     "user": {
      "displayName": "Writobrata Bandyopadhyay",
      "photoUrl": "https://lh3.googleusercontent.com/a-/AOh14GiIgrlWyXxBfdlbwdBYCHU67PdGKNP5LpuHvPiM=s64",
      "userId": "04904541693543299783"
     }
    },
    "outputId": "08c16383-746c-44d3-f1c7-01b088665c76",
    "pycharm": {
     "name": "#%%\n"
    }
   },
   "source": [
    "x[1:5:2]"
   ],
   "execution_count": null,
   "outputs": [
    {
     "output_type": "execute_result",
     "data": {
      "text/plain": [
       "array([ 5, 11])"
      ]
     },
     "metadata": {
      "tags": []
     },
     "execution_count": 192
    }
   ]
  },
  {
   "cell_type": "code",
   "metadata": {
    "id": "-8MX1veLC6zx",
    "colab_type": "code",
    "colab": {
     "base_uri": "https://localhost:8080/",
     "height": 34
    },
    "executionInfo": {
     "status": "ok",
     "timestamp": 1594995625018,
     "user_tz": -330,
     "elapsed": 8691,
     "user": {
      "displayName": "Writobrata Bandyopadhyay",
      "photoUrl": "https://lh3.googleusercontent.com/a-/AOh14GiIgrlWyXxBfdlbwdBYCHU67PdGKNP5LpuHvPiM=s64",
      "userId": "04904541693543299783"
     }
    },
    "outputId": "340325a7-9bad-460e-822b-2b8911d87bbe",
    "pycharm": {
     "name": "#%%\n"
    }
   },
   "source": [
    "x"
   ],
   "execution_count": null,
   "outputs": [
    {
     "output_type": "execute_result",
     "data": {
      "text/plain": [
       "array([ 2,  5,  8, 11, 14])"
      ]
     },
     "metadata": {
      "tags": []
     },
     "execution_count": 193
    }
   ]
  },
  {
   "cell_type": "code",
   "metadata": {
    "id": "Bf3wmVqjDGvp",
    "colab_type": "code",
    "colab": {
     "base_uri": "https://localhost:8080/",
     "height": 34
    },
    "executionInfo": {
     "status": "ok",
     "timestamp": 1594995625020,
     "user_tz": -330,
     "elapsed": 8647,
     "user": {
      "displayName": "Writobrata Bandyopadhyay",
      "photoUrl": "https://lh3.googleusercontent.com/a-/AOh14GiIgrlWyXxBfdlbwdBYCHU67PdGKNP5LpuHvPiM=s64",
      "userId": "04904541693543299783"
     }
    },
    "outputId": "06275892-cdcc-4ce8-eeff-82fe6029d5ed",
    "pycharm": {
     "name": "#%%\n"
    }
   },
   "source": [
    "x[3:]"
   ],
   "execution_count": null,
   "outputs": [
    {
     "output_type": "execute_result",
     "data": {
      "text/plain": [
       "array([11, 14])"
      ]
     },
     "metadata": {
      "tags": []
     },
     "execution_count": 194
    }
   ]
  },
  {
   "cell_type": "code",
   "metadata": {
    "id": "bN-3V3bNDIJT",
    "colab_type": "code",
    "colab": {
     "base_uri": "https://localhost:8080/",
     "height": 34
    },
    "executionInfo": {
     "status": "ok",
     "timestamp": 1594995625022,
     "user_tz": -330,
     "elapsed": 8612,
     "user": {
      "displayName": "Writobrata Bandyopadhyay",
      "photoUrl": "https://lh3.googleusercontent.com/a-/AOh14GiIgrlWyXxBfdlbwdBYCHU67PdGKNP5LpuHvPiM=s64",
      "userId": "04904541693543299783"
     }
    },
    "outputId": "b39aed74-bc03-43b8-9441-a7850daa0ac7",
    "pycharm": {
     "name": "#%%\n"
    }
   },
   "source": [
    "x[:4]"
   ],
   "execution_count": null,
   "outputs": [
    {
     "output_type": "execute_result",
     "data": {
      "text/plain": [
       "array([ 2,  5,  8, 11])"
      ]
     },
     "metadata": {
      "tags": []
     },
     "execution_count": 195
    }
   ]
  },
  {
   "cell_type": "code",
   "metadata": {
    "id": "dCXWDbmXDShT",
    "colab_type": "code",
    "colab": {
     "base_uri": "https://localhost:8080/",
     "height": 34
    },
    "executionInfo": {
     "status": "ok",
     "timestamp": 1594995625023,
     "user_tz": -330,
     "elapsed": 8576,
     "user": {
      "displayName": "Writobrata Bandyopadhyay",
      "photoUrl": "https://lh3.googleusercontent.com/a-/AOh14GiIgrlWyXxBfdlbwdBYCHU67PdGKNP5LpuHvPiM=s64",
      "userId": "04904541693543299783"
     }
    },
    "outputId": "98ec6733-7896-4738-cba6-af2ecb355476",
    "pycharm": {
     "name": "#%%\n"
    }
   },
   "source": [
    "x[::2]"
   ],
   "execution_count": null,
   "outputs": [
    {
     "output_type": "execute_result",
     "data": {
      "text/plain": [
       "array([ 2,  8, 14])"
      ]
     },
     "metadata": {
      "tags": []
     },
     "execution_count": 196
    }
   ]
  },
  {
   "cell_type": "code",
   "metadata": {
    "id": "FWp6u58yDWRw",
    "colab_type": "code",
    "colab": {
     "base_uri": "https://localhost:8080/",
     "height": 34
    },
    "executionInfo": {
     "status": "ok",
     "timestamp": 1594995625030,
     "user_tz": -330,
     "elapsed": 8534,
     "user": {
      "displayName": "Writobrata Bandyopadhyay",
      "photoUrl": "https://lh3.googleusercontent.com/a-/AOh14GiIgrlWyXxBfdlbwdBYCHU67PdGKNP5LpuHvPiM=s64",
      "userId": "04904541693543299783"
     }
    },
    "outputId": "7e1748bb-32f0-4eea-9f2d-15e7421f3096",
    "pycharm": {
     "name": "#%%\n"
    }
   },
   "source": [
    "x[2::]"
   ],
   "execution_count": null,
   "outputs": [
    {
     "output_type": "execute_result",
     "data": {
      "text/plain": [
       "array([ 8, 11, 14])"
      ]
     },
     "metadata": {
      "tags": []
     },
     "execution_count": 197
    }
   ]
  },
  {
   "cell_type": "code",
   "metadata": {
    "id": "DtDg4UPCDb8A",
    "colab_type": "code",
    "colab": {
     "base_uri": "https://localhost:8080/",
     "height": 34
    },
    "executionInfo": {
     "status": "ok",
     "timestamp": 1594995625032,
     "user_tz": -330,
     "elapsed": 8486,
     "user": {
      "displayName": "Writobrata Bandyopadhyay",
      "photoUrl": "https://lh3.googleusercontent.com/a-/AOh14GiIgrlWyXxBfdlbwdBYCHU67PdGKNP5LpuHvPiM=s64",
      "userId": "04904541693543299783"
     }
    },
    "outputId": "962112d7-287b-4289-90d6-bba48e4f70a7",
    "pycharm": {
     "name": "#%%\n"
    }
   },
   "source": [
    "x[::-1]"
   ],
   "execution_count": null,
   "outputs": [
    {
     "output_type": "execute_result",
     "data": {
      "text/plain": [
       "array([14, 11,  8,  5,  2])"
      ]
     },
     "metadata": {
      "tags": []
     },
     "execution_count": 198
    }
   ]
  },
  {
   "cell_type": "code",
   "metadata": {
    "id": "SgCANpL-Df5X",
    "colab_type": "code",
    "colab": {
     "base_uri": "https://localhost:8080/",
     "height": 34
    },
    "executionInfo": {
     "status": "ok",
     "timestamp": 1594995625034,
     "user_tz": -330,
     "elapsed": 8453,
     "user": {
      "displayName": "Writobrata Bandyopadhyay",
      "photoUrl": "https://lh3.googleusercontent.com/a-/AOh14GiIgrlWyXxBfdlbwdBYCHU67PdGKNP5LpuHvPiM=s64",
      "userId": "04904541693543299783"
     }
    },
    "outputId": "6711ee6e-5934-4463-8c76-1c55a154bed1",
    "pycharm": {
     "name": "#%%\n"
    }
   },
   "source": [
    "x[::-2]"
   ],
   "execution_count": null,
   "outputs": [
    {
     "output_type": "execute_result",
     "data": {
      "text/plain": [
       "array([14,  8,  2])"
      ]
     },
     "metadata": {
      "tags": []
     },
     "execution_count": 199
    }
   ]
  },
  {
   "cell_type": "code",
   "metadata": {
    "id": "C7jFkbKIFSBY",
    "colab_type": "code",
    "colab": {},
    "pycharm": {
     "name": "#%%\n"
    }
   },
   "source": [
    "x = np.arange(0,12,1).reshape(4,3)"
   ],
   "execution_count": null,
   "outputs": []
  },
  {
   "cell_type": "code",
   "metadata": {
    "id": "wIOLXOGOFf39",
    "colab_type": "code",
    "colab": {
     "base_uri": "https://localhost:8080/",
     "height": 85
    },
    "executionInfo": {
     "status": "ok",
     "timestamp": 1594995625037,
     "user_tz": -330,
     "elapsed": 8419,
     "user": {
      "displayName": "Writobrata Bandyopadhyay",
      "photoUrl": "https://lh3.googleusercontent.com/a-/AOh14GiIgrlWyXxBfdlbwdBYCHU67PdGKNP5LpuHvPiM=s64",
      "userId": "04904541693543299783"
     }
    },
    "outputId": "02eb0af3-3719-4677-a7ad-2270c9b3cd40",
    "pycharm": {
     "name": "#%%\n"
    }
   },
   "source": [
    "x"
   ],
   "execution_count": null,
   "outputs": [
    {
     "output_type": "execute_result",
     "data": {
      "text/plain": [
       "array([[ 0,  1,  2],\n",
       "       [ 3,  4,  5],\n",
       "       [ 6,  7,  8],\n",
       "       [ 9, 10, 11]])"
      ]
     },
     "metadata": {
      "tags": []
     },
     "execution_count": 201
    }
   ]
  },
  {
   "cell_type": "code",
   "metadata": {
    "id": "aMgmU3aGFgYQ",
    "colab_type": "code",
    "colab": {
     "base_uri": "https://localhost:8080/",
     "height": 51
    },
    "executionInfo": {
     "status": "ok",
     "timestamp": 1594995686733,
     "user_tz": -330,
     "elapsed": 949,
     "user": {
      "displayName": "Writobrata Bandyopadhyay",
      "photoUrl": "https://lh3.googleusercontent.com/a-/AOh14GiIgrlWyXxBfdlbwdBYCHU67PdGKNP5LpuHvPiM=s64",
      "userId": "04904541693543299783"
     }
    },
    "outputId": "6cfe9886-9901-4ef3-c92a-fe6af25ba9be",
    "pycharm": {
     "name": "#%%\n"
    }
   },
   "source": [
    "x[2:]  #2nd row to last"
   ],
   "execution_count": null,
   "outputs": [
    {
     "output_type": "execute_result",
     "data": {
      "text/plain": [
       "array([[ 6,  7,  8],\n",
       "       [ 9, 10, 11]])"
      ]
     },
     "metadata": {
      "tags": []
     },
     "execution_count": 202
    }
   ]
  },
  {
   "cell_type": "code",
   "metadata": {
    "id": "0UiPt7ZpJriF",
    "colab_type": "code",
    "colab": {
     "base_uri": "https://localhost:8080/",
     "height": 68
    },
    "executionInfo": {
     "status": "ok",
     "timestamp": 1594995715594,
     "user_tz": -330,
     "elapsed": 1117,
     "user": {
      "displayName": "Writobrata Bandyopadhyay",
      "photoUrl": "https://lh3.googleusercontent.com/a-/AOh14GiIgrlWyXxBfdlbwdBYCHU67PdGKNP5LpuHvPiM=s64",
      "userId": "04904541693543299783"
     }
    },
    "outputId": "6d2c6cf6-5996-453f-ef15-c82fdd9b8c65",
    "pycharm": {
     "name": "#%%\n"
    }
   },
   "source": [
    "x[:3]"
   ],
   "execution_count": null,
   "outputs": [
    {
     "output_type": "execute_result",
     "data": {
      "text/plain": [
       "array([[0, 1, 2],\n",
       "       [3, 4, 5],\n",
       "       [6, 7, 8]])"
      ]
     },
     "metadata": {
      "tags": []
     },
     "execution_count": 203
    }
   ]
  },
  {
   "cell_type": "code",
   "metadata": {
    "id": "H2JDEWgwJyjn",
    "colab_type": "code",
    "colab": {
     "base_uri": "https://localhost:8080/",
     "height": 51
    },
    "executionInfo": {
     "status": "ok",
     "timestamp": 1594995758408,
     "user_tz": -330,
     "elapsed": 1056,
     "user": {
      "displayName": "Writobrata Bandyopadhyay",
      "photoUrl": "https://lh3.googleusercontent.com/a-/AOh14GiIgrlWyXxBfdlbwdBYCHU67PdGKNP5LpuHvPiM=s64",
      "userId": "04904541693543299783"
     }
    },
    "outputId": "57bdce6a-fd82-416c-f340-2aac29184119",
    "pycharm": {
     "name": "#%%\n"
    }
   },
   "source": [
    "x[::2]"
   ],
   "execution_count": null,
   "outputs": [
    {
     "output_type": "execute_result",
     "data": {
      "text/plain": [
       "array([[0, 1, 2],\n",
       "       [6, 7, 8]])"
      ]
     },
     "metadata": {
      "tags": []
     },
     "execution_count": 204
    }
   ]
  },
  {
   "cell_type": "code",
   "metadata": {
    "id": "KDrIXZuVJ9By",
    "colab_type": "code",
    "colab": {
     "base_uri": "https://localhost:8080/",
     "height": 85
    },
    "executionInfo": {
     "status": "ok",
     "timestamp": 1594995784601,
     "user_tz": -330,
     "elapsed": 1051,
     "user": {
      "displayName": "Writobrata Bandyopadhyay",
      "photoUrl": "https://lh3.googleusercontent.com/a-/AOh14GiIgrlWyXxBfdlbwdBYCHU67PdGKNP5LpuHvPiM=s64",
      "userId": "04904541693543299783"
     }
    },
    "outputId": "a13a76ed-5ef3-4b67-aa90-6bd622877ee2",
    "pycharm": {
     "name": "#%%\n"
    }
   },
   "source": [
    "x[:]"
   ],
   "execution_count": null,
   "outputs": [
    {
     "output_type": "execute_result",
     "data": {
      "text/plain": [
       "array([[ 0,  1,  2],\n",
       "       [ 3,  4,  5],\n",
       "       [ 6,  7,  8],\n",
       "       [ 9, 10, 11]])"
      ]
     },
     "metadata": {
      "tags": []
     },
     "execution_count": 205
    }
   ]
  },
  {
   "cell_type": "code",
   "metadata": {
    "id": "iH195C1cKDaf",
    "colab_type": "code",
    "colab": {
     "base_uri": "https://localhost:8080/",
     "height": 34
    },
    "executionInfo": {
     "status": "ok",
     "timestamp": 1594995875155,
     "user_tz": -330,
     "elapsed": 1148,
     "user": {
      "displayName": "Writobrata Bandyopadhyay",
      "photoUrl": "https://lh3.googleusercontent.com/a-/AOh14GiIgrlWyXxBfdlbwdBYCHU67PdGKNP5LpuHvPiM=s64",
      "userId": "04904541693543299783"
     }
    },
    "outputId": "fda51ba5-3f68-44fd-d98b-f3bc3647221e",
    "pycharm": {
     "name": "#%%\n"
    }
   },
   "source": [
    "x[:, 0]  #Before comma row   After comma column"
   ],
   "execution_count": null,
   "outputs": [
    {
     "output_type": "execute_result",
     "data": {
      "text/plain": [
       "array([0, 3, 6, 9])"
      ]
     },
     "metadata": {
      "tags": []
     },
     "execution_count": 206
    }
   ]
  },
  {
   "cell_type": "code",
   "metadata": {
    "id": "qHVOUCWEKZcc",
    "colab_type": "code",
    "colab": {},
    "pycharm": {
     "name": "#%%\n"
    }
   },
   "source": [
    "x = np.arange(0, 12, 1).reshape(3,4)"
   ],
   "execution_count": null,
   "outputs": []
  },
  {
   "cell_type": "code",
   "metadata": {
    "id": "KE8AFZnkKsjp",
    "colab_type": "code",
    "colab": {
     "base_uri": "https://localhost:8080/",
     "height": 68
    },
    "executionInfo": {
     "status": "ok",
     "timestamp": 1594995955088,
     "user_tz": -330,
     "elapsed": 726,
     "user": {
      "displayName": "Writobrata Bandyopadhyay",
      "photoUrl": "https://lh3.googleusercontent.com/a-/AOh14GiIgrlWyXxBfdlbwdBYCHU67PdGKNP5LpuHvPiM=s64",
      "userId": "04904541693543299783"
     }
    },
    "outputId": "1a419d00-58ab-467e-9fdf-d4c45a84638f",
    "pycharm": {
     "name": "#%%\n"
    }
   },
   "source": [
    "x"
   ],
   "execution_count": null,
   "outputs": [
    {
     "output_type": "execute_result",
     "data": {
      "text/plain": [
       "array([[ 0,  1,  2,  3],\n",
       "       [ 4,  5,  6,  7],\n",
       "       [ 8,  9, 10, 11]])"
      ]
     },
     "metadata": {
      "tags": []
     },
     "execution_count": 208
    }
   ]
  },
  {
   "cell_type": "code",
   "metadata": {
    "id": "RZUSjxEfKs79",
    "colab_type": "code",
    "colab": {
     "base_uri": "https://localhost:8080/",
     "height": 34
    },
    "executionInfo": {
     "status": "ok",
     "timestamp": 1594995964303,
     "user_tz": -330,
     "elapsed": 1370,
     "user": {
      "displayName": "Writobrata Bandyopadhyay",
      "photoUrl": "https://lh3.googleusercontent.com/a-/AOh14GiIgrlWyXxBfdlbwdBYCHU67PdGKNP5LpuHvPiM=s64",
      "userId": "04904541693543299783"
     }
    },
    "outputId": "9a648a91-e68a-45e4-a1e2-f9eb07862b4f",
    "pycharm": {
     "name": "#%%\n"
    }
   },
   "source": [
    "x[:,0]"
   ],
   "execution_count": null,
   "outputs": [
    {
     "output_type": "execute_result",
     "data": {
      "text/plain": [
       "array([0, 4, 8])"
      ]
     },
     "metadata": {
      "tags": []
     },
     "execution_count": 209
    }
   ]
  },
  {
   "cell_type": "code",
   "metadata": {
    "id": "vklJ_cudKvMK",
    "colab_type": "code",
    "colab": {
     "base_uri": "https://localhost:8080/",
     "height": 68
    },
    "executionInfo": {
     "status": "ok",
     "timestamp": 1594995978360,
     "user_tz": -330,
     "elapsed": 1022,
     "user": {
      "displayName": "Writobrata Bandyopadhyay",
      "photoUrl": "https://lh3.googleusercontent.com/a-/AOh14GiIgrlWyXxBfdlbwdBYCHU67PdGKNP5LpuHvPiM=s64",
      "userId": "04904541693543299783"
     }
    },
    "outputId": "10e2d080-01d8-4c75-f2af-d88d71e6f0a8",
    "pycharm": {
     "name": "#%%\n"
    }
   },
   "source": [
    "x[:, 1:3]"
   ],
   "execution_count": null,
   "outputs": [
    {
     "output_type": "execute_result",
     "data": {
      "text/plain": [
       "array([[ 1,  2],\n",
       "       [ 5,  6],\n",
       "       [ 9, 10]])"
      ]
     },
     "metadata": {
      "tags": []
     },
     "execution_count": 210
    }
   ]
  },
  {
   "cell_type": "code",
   "metadata": {
    "id": "lHQvpvSMKyu6",
    "colab_type": "code",
    "colab": {
     "base_uri": "https://localhost:8080/",
     "height": 51
    },
    "executionInfo": {
     "status": "ok",
     "timestamp": 1594996014024,
     "user_tz": -330,
     "elapsed": 1052,
     "user": {
      "displayName": "Writobrata Bandyopadhyay",
      "photoUrl": "https://lh3.googleusercontent.com/a-/AOh14GiIgrlWyXxBfdlbwdBYCHU67PdGKNP5LpuHvPiM=s64",
      "userId": "04904541693543299783"
     }
    },
    "outputId": "a304c18b-cada-4e6e-ab42-be76e3670cf2",
    "pycharm": {
     "name": "#%%\n"
    }
   },
   "source": [
    "x[1:3, 1:3]"
   ],
   "execution_count": null,
   "outputs": [
    {
     "output_type": "execute_result",
     "data": {
      "text/plain": [
       "array([[ 5,  6],\n",
       "       [ 9, 10]])"
      ]
     },
     "metadata": {
      "tags": []
     },
     "execution_count": 211
    }
   ]
  },
  {
   "cell_type": "code",
   "metadata": {
    "id": "tkCxjXixK7bk",
    "colab_type": "code",
    "colab": {
     "base_uri": "https://localhost:8080/",
     "height": 34
    },
    "executionInfo": {
     "status": "ok",
     "timestamp": 1594996260996,
     "user_tz": -330,
     "elapsed": 2418,
     "user": {
      "displayName": "Writobrata Bandyopadhyay",
      "photoUrl": "https://lh3.googleusercontent.com/a-/AOh14GiIgrlWyXxBfdlbwdBYCHU67PdGKNP5LpuHvPiM=s64",
      "userId": "04904541693543299783"
     }
    },
    "outputId": "09c1cde2-37c3-4b3f-fd34-4299d54ca8da",
    "pycharm": {
     "name": "#%%\n"
    }
   },
   "source": [
    "x[x > 3]  #returns the elements in 1D array"
   ],
   "execution_count": null,
   "outputs": [
    {
     "output_type": "execute_result",
     "data": {
      "text/plain": [
       "array([ 4,  5,  6,  7,  8,  9, 10, 11])"
      ]
     },
     "metadata": {
      "tags": []
     },
     "execution_count": 213
    }
   ]
  },
  {
   "cell_type": "code",
   "metadata": {
    "id": "dHX5QXRRLxKK",
    "colab_type": "code",
    "colab": {
     "base_uri": "https://localhost:8080/",
     "height": 34
    },
    "executionInfo": {
     "status": "ok",
     "timestamp": 1594996301588,
     "user_tz": -330,
     "elapsed": 1391,
     "user": {
      "displayName": "Writobrata Bandyopadhyay",
      "photoUrl": "https://lh3.googleusercontent.com/a-/AOh14GiIgrlWyXxBfdlbwdBYCHU67PdGKNP5LpuHvPiM=s64",
      "userId": "04904541693543299783"
     }
    },
    "outputId": "1019bf73-c7b5-4f82-cbe0-6c920856f3a6",
    "pycharm": {
     "name": "#%%\n"
    }
   },
   "source": [
    "x.flatten()"
   ],
   "execution_count": null,
   "outputs": [
    {
     "output_type": "execute_result",
     "data": {
      "text/plain": [
       "array([ 0,  1,  2,  3,  4,  5,  6,  7,  8,  9, 10, 11])"
      ]
     },
     "metadata": {
      "tags": []
     },
     "execution_count": 214
    }
   ]
  },
  {
   "cell_type": "code",
   "metadata": {
    "id": "ObmltI8fMBi3",
    "colab_type": "code",
    "colab": {
     "base_uri": "https://localhost:8080/",
     "height": 68
    },
    "executionInfo": {
     "status": "ok",
     "timestamp": 1594996312939,
     "user_tz": -330,
     "elapsed": 947,
     "user": {
      "displayName": "Writobrata Bandyopadhyay",
      "photoUrl": "https://lh3.googleusercontent.com/a-/AOh14GiIgrlWyXxBfdlbwdBYCHU67PdGKNP5LpuHvPiM=s64",
      "userId": "04904541693543299783"
     }
    },
    "outputId": "cc464daa-8953-467c-9796-cd6900eed97b",
    "pycharm": {
     "name": "#%%\n"
    }
   },
   "source": [
    "x"
   ],
   "execution_count": null,
   "outputs": [
    {
     "output_type": "execute_result",
     "data": {
      "text/plain": [
       "array([[ 0,  1,  2,  3],\n",
       "       [ 4,  5,  6,  7],\n",
       "       [ 8,  9, 10, 11]])"
      ]
     },
     "metadata": {
      "tags": []
     },
     "execution_count": 215
    }
   ]
  },
  {
   "cell_type": "code",
   "metadata": {
    "id": "pRo11WI2MESQ",
    "colab_type": "code",
    "colab": {
     "base_uri": "https://localhost:8080/",
     "height": 34
    },
    "executionInfo": {
     "status": "ok",
     "timestamp": 1594996377160,
     "user_tz": -330,
     "elapsed": 1075,
     "user": {
      "displayName": "Writobrata Bandyopadhyay",
      "photoUrl": "https://lh3.googleusercontent.com/a-/AOh14GiIgrlWyXxBfdlbwdBYCHU67PdGKNP5LpuHvPiM=s64",
      "userId": "04904541693543299783"
     }
    },
    "outputId": "9a646cd3-9727-416d-a9bd-b7ca77e2ff80",
    "pycharm": {
     "name": "#%%\n"
    }
   },
   "source": [
    "x.flatten('C')"
   ],
   "execution_count": null,
   "outputs": [
    {
     "output_type": "execute_result",
     "data": {
      "text/plain": [
       "array([ 0,  1,  2,  3,  4,  5,  6,  7,  8,  9, 10, 11])"
      ]
     },
     "metadata": {
      "tags": []
     },
     "execution_count": 218
    }
   ]
  },
  {
   "cell_type": "code",
   "metadata": {
    "id": "-6Y1kFBMMHsd",
    "colab_type": "code",
    "colab": {
     "base_uri": "https://localhost:8080/",
     "height": 34
    },
    "executionInfo": {
     "status": "ok",
     "timestamp": 1594996385661,
     "user_tz": -330,
     "elapsed": 1095,
     "user": {
      "displayName": "Writobrata Bandyopadhyay",
      "photoUrl": "https://lh3.googleusercontent.com/a-/AOh14GiIgrlWyXxBfdlbwdBYCHU67PdGKNP5LpuHvPiM=s64",
      "userId": "04904541693543299783"
     }
    },
    "outputId": "f4a2040b-9025-4da3-f5f0-09606f6dfd87",
    "pycharm": {
     "name": "#%%\n"
    }
   },
   "source": [
    "x.flatten('F')"
   ],
   "execution_count": null,
   "outputs": [
    {
     "output_type": "execute_result",
     "data": {
      "text/plain": [
       "array([ 0,  4,  8,  1,  5,  9,  2,  6, 10,  3,  7, 11])"
      ]
     },
     "metadata": {
      "tags": []
     },
     "execution_count": 219
    }
   ]
  },
  {
   "cell_type": "markdown",
   "metadata": {
    "id": "zk2VBEaLMYJA",
    "colab_type": "text",
    "pycharm": {
     "name": "#%% md\n"
    }
   },
   "source": [
    "##Arithmetic Operations"
   ]
  },
  {
   "cell_type": "code",
   "metadata": {
    "id": "nsFWGs2kMWKK",
    "colab_type": "code",
    "colab": {},
    "pycharm": {
     "name": "#%%\n"
    }
   },
   "source": [
    "x = np.array([1., 2., 3., 4.])"
   ],
   "execution_count": null,
   "outputs": []
  },
  {
   "cell_type": "code",
   "metadata": {
    "id": "lTj8B-ehNCOG",
    "colab_type": "code",
    "colab": {},
    "pycharm": {
     "name": "#%%\n"
    }
   },
   "source": [
    "y = np.array([5.,6.,7.,8.])"
   ],
   "execution_count": null,
   "outputs": []
  },
  {
   "cell_type": "code",
   "metadata": {
    "id": "KclCCSOwNGjd",
    "colab_type": "code",
    "colab": {
     "base_uri": "https://localhost:8080/",
     "height": 34
    },
    "executionInfo": {
     "status": "ok",
     "timestamp": 1594996590129,
     "user_tz": -330,
     "elapsed": 1470,
     "user": {
      "displayName": "Writobrata Bandyopadhyay",
      "photoUrl": "https://lh3.googleusercontent.com/a-/AOh14GiIgrlWyXxBfdlbwdBYCHU67PdGKNP5LpuHvPiM=s64",
      "userId": "04904541693543299783"
     }
    },
    "outputId": "12711ef8-beee-4bfa-dc8c-37243a4ca535",
    "pycharm": {
     "name": "#%%\n"
    }
   },
   "source": [
    "x + y"
   ],
   "execution_count": null,
   "outputs": [
    {
     "output_type": "execute_result",
     "data": {
      "text/plain": [
       "array([ 6.,  8., 10., 12.])"
      ]
     },
     "metadata": {
      "tags": []
     },
     "execution_count": 222
    }
   ]
  },
  {
   "cell_type": "code",
   "metadata": {
    "id": "alyVbhnANHxb",
    "colab_type": "code",
    "colab": {
     "base_uri": "https://localhost:8080/",
     "height": 34
    },
    "executionInfo": {
     "status": "ok",
     "timestamp": 1594996602225,
     "user_tz": -330,
     "elapsed": 1187,
     "user": {
      "displayName": "Writobrata Bandyopadhyay",
      "photoUrl": "https://lh3.googleusercontent.com/a-/AOh14GiIgrlWyXxBfdlbwdBYCHU67PdGKNP5LpuHvPiM=s64",
      "userId": "04904541693543299783"
     }
    },
    "outputId": "bdf4ca95-5716-43ce-ba83-66fd171041e5",
    "pycharm": {
     "name": "#%%\n"
    }
   },
   "source": [
    "x - y"
   ],
   "execution_count": null,
   "outputs": [
    {
     "output_type": "execute_result",
     "data": {
      "text/plain": [
       "array([-4., -4., -4., -4.])"
      ]
     },
     "metadata": {
      "tags": []
     },
     "execution_count": 223
    }
   ]
  },
  {
   "cell_type": "code",
   "metadata": {
    "id": "lLR-wxezNK-H",
    "colab_type": "code",
    "colab": {
     "base_uri": "https://localhost:8080/",
     "height": 34
    },
    "executionInfo": {
     "status": "ok",
     "timestamp": 1594996615053,
     "user_tz": -330,
     "elapsed": 1174,
     "user": {
      "displayName": "Writobrata Bandyopadhyay",
      "photoUrl": "https://lh3.googleusercontent.com/a-/AOh14GiIgrlWyXxBfdlbwdBYCHU67PdGKNP5LpuHvPiM=s64",
      "userId": "04904541693543299783"
     }
    },
    "outputId": "162cb7b4-a0f7-415a-c8e0-be418ba55313",
    "pycharm": {
     "name": "#%%\n"
    }
   },
   "source": [
    "x * y"
   ],
   "execution_count": null,
   "outputs": [
    {
     "output_type": "execute_result",
     "data": {
      "text/plain": [
       "array([ 5., 12., 21., 32.])"
      ]
     },
     "metadata": {
      "tags": []
     },
     "execution_count": 224
    }
   ]
  },
  {
   "cell_type": "code",
   "metadata": {
    "id": "ip568fDZNN77",
    "colab_type": "code",
    "colab": {
     "base_uri": "https://localhost:8080/",
     "height": 34
    },
    "executionInfo": {
     "status": "ok",
     "timestamp": 1594996620533,
     "user_tz": -330,
     "elapsed": 681,
     "user": {
      "displayName": "Writobrata Bandyopadhyay",
      "photoUrl": "https://lh3.googleusercontent.com/a-/AOh14GiIgrlWyXxBfdlbwdBYCHU67PdGKNP5LpuHvPiM=s64",
      "userId": "04904541693543299783"
     }
    },
    "outputId": "1e58b490-6979-4581-f8f6-9c0615948048",
    "pycharm": {
     "name": "#%%\n"
    }
   },
   "source": [
    "x / y"
   ],
   "execution_count": null,
   "outputs": [
    {
     "output_type": "execute_result",
     "data": {
      "text/plain": [
       "array([0.2       , 0.33333333, 0.42857143, 0.5       ])"
      ]
     },
     "metadata": {
      "tags": []
     },
     "execution_count": 225
    }
   ]
  },
  {
   "cell_type": "code",
   "metadata": {
    "id": "xzaroAg1NPkX",
    "colab_type": "code",
    "colab": {
     "base_uri": "https://localhost:8080/",
     "height": 34
    },
    "executionInfo": {
     "status": "ok",
     "timestamp": 1594996701952,
     "user_tz": -330,
     "elapsed": 1212,
     "user": {
      "displayName": "Writobrata Bandyopadhyay",
      "photoUrl": "https://lh3.googleusercontent.com/a-/AOh14GiIgrlWyXxBfdlbwdBYCHU67PdGKNP5LpuHvPiM=s64",
      "userId": "04904541693543299783"
     }
    },
    "outputId": "427c4959-ea4b-49cc-dbf2-9f975a7ed71d",
    "pycharm": {
     "name": "#%%\n"
    }
   },
   "source": [
    "x**y"
   ],
   "execution_count": null,
   "outputs": [
    {
     "output_type": "execute_result",
     "data": {
      "text/plain": [
       "array([1.0000e+00, 6.4000e+01, 2.1870e+03, 6.5536e+04])"
      ]
     },
     "metadata": {
      "tags": []
     },
     "execution_count": 226
    }
   ]
  },
  {
   "cell_type": "code",
   "metadata": {
    "id": "7WU-zN7dNjRT",
    "colab_type": "code",
    "colab": {
     "base_uri": "https://localhost:8080/",
     "height": 51
    },
    "executionInfo": {
     "status": "ok",
     "timestamp": 1594996768019,
     "user_tz": -330,
     "elapsed": 1450,
     "user": {
      "displayName": "Writobrata Bandyopadhyay",
      "photoUrl": "https://lh3.googleusercontent.com/a-/AOh14GiIgrlWyXxBfdlbwdBYCHU67PdGKNP5LpuHvPiM=s64",
      "userId": "04904541693543299783"
     }
    },
    "outputId": "68d6eec4-ec9a-4955-d1e6-a802f4f32419",
    "pycharm": {
     "name": "#%%\n"
    }
   },
   "source": [
    "x = np.array([[1,2,3],[4,5,6]])\n",
    "x"
   ],
   "execution_count": null,
   "outputs": [
    {
     "output_type": "execute_result",
     "data": {
      "text/plain": [
       "array([[1, 2, 3],\n",
       "       [4, 5, 6]])"
      ]
     },
     "metadata": {
      "tags": []
     },
     "execution_count": 229
    }
   ]
  },
  {
   "cell_type": "code",
   "metadata": {
    "id": "HVNoYBzANuvD",
    "colab_type": "code",
    "colab": {
     "base_uri": "https://localhost:8080/",
     "height": 34
    },
    "executionInfo": {
     "status": "ok",
     "timestamp": 1594996763048,
     "user_tz": -330,
     "elapsed": 758,
     "user": {
      "displayName": "Writobrata Bandyopadhyay",
      "photoUrl": "https://lh3.googleusercontent.com/a-/AOh14GiIgrlWyXxBfdlbwdBYCHU67PdGKNP5LpuHvPiM=s64",
      "userId": "04904541693543299783"
     }
    },
    "outputId": "e94446fd-4dc6-496b-9d0c-724b7b869a19",
    "pycharm": {
     "name": "#%%\n"
    }
   },
   "source": [
    "y = np.array([10,11,12])\n",
    "y"
   ],
   "execution_count": null,
   "outputs": [
    {
     "output_type": "execute_result",
     "data": {
      "text/plain": [
       "array([10, 11, 12])"
      ]
     },
     "metadata": {
      "tags": []
     },
     "execution_count": 228
    }
   ]
  },
  {
   "cell_type": "code",
   "metadata": {
    "id": "xEDvC2iENyN8",
    "colab_type": "code",
    "colab": {
     "base_uri": "https://localhost:8080/",
     "height": 51
    },
    "executionInfo": {
     "status": "ok",
     "timestamp": 1594996783847,
     "user_tz": -330,
     "elapsed": 1152,
     "user": {
      "displayName": "Writobrata Bandyopadhyay",
      "photoUrl": "https://lh3.googleusercontent.com/a-/AOh14GiIgrlWyXxBfdlbwdBYCHU67PdGKNP5LpuHvPiM=s64",
      "userId": "04904541693543299783"
     }
    },
    "outputId": "facd5764-25d5-45b5-e46b-41d5763f7452",
    "pycharm": {
     "name": "#%%\n"
    }
   },
   "source": [
    "x + y  #y is added to each row of x"
   ],
   "execution_count": null,
   "outputs": [
    {
     "output_type": "execute_result",
     "data": {
      "text/plain": [
       "array([[11, 13, 15],\n",
       "       [14, 16, 18]])"
      ]
     },
     "metadata": {
      "tags": []
     },
     "execution_count": 230
    }
   ]
  },
  {
   "cell_type": "code",
   "metadata": {
    "id": "MJRjLVETN3Me",
    "colab_type": "code",
    "colab": {
     "base_uri": "https://localhost:8080/",
     "height": 51
    },
    "executionInfo": {
     "status": "ok",
     "timestamp": 1594997408919,
     "user_tz": -330,
     "elapsed": 2541,
     "user": {
      "displayName": "Writobrata Bandyopadhyay",
      "photoUrl": "https://lh3.googleusercontent.com/a-/AOh14GiIgrlWyXxBfdlbwdBYCHU67PdGKNP5LpuHvPiM=s64",
      "userId": "04904541693543299783"
     }
    },
    "outputId": "efa8e096-1313-434a-941b-d5c163bd02aa",
    "pycharm": {
     "name": "#%%\n"
    }
   },
   "source": [
    "x + 2"
   ],
   "execution_count": null,
   "outputs": [
    {
     "output_type": "execute_result",
     "data": {
      "text/plain": [
       "array([[3, 4, 5],\n",
       "       [6, 7, 8]])"
      ]
     },
     "metadata": {
      "tags": []
     },
     "execution_count": 231
    }
   ]
  },
  {
   "cell_type": "code",
   "metadata": {
    "id": "d-Ye0Re0QPnq",
    "colab_type": "code",
    "colab": {
     "base_uri": "https://localhost:8080/",
     "height": 51
    },
    "executionInfo": {
     "status": "ok",
     "timestamp": 1594997436969,
     "user_tz": -330,
     "elapsed": 2545,
     "user": {
      "displayName": "Writobrata Bandyopadhyay",
      "photoUrl": "https://lh3.googleusercontent.com/a-/AOh14GiIgrlWyXxBfdlbwdBYCHU67PdGKNP5LpuHvPiM=s64",
      "userId": "04904541693543299783"
     }
    },
    "outputId": "71040209-893c-423c-c87f-24116271510b",
    "pycharm": {
     "name": "#%%\n"
    }
   },
   "source": [
    "x + [2,3,4]"
   ],
   "execution_count": null,
   "outputs": [
    {
     "output_type": "execute_result",
     "data": {
      "text/plain": [
       "array([[ 3,  5,  7],\n",
       "       [ 6,  8, 10]])"
      ]
     },
     "metadata": {
      "tags": []
     },
     "execution_count": 232
    }
   ]
  },
  {
   "cell_type": "markdown",
   "metadata": {
    "id": "jm3gyYEgQzfV",
    "colab_type": "text",
    "pycharm": {
     "name": "#%% md\n"
    }
   },
   "source": [
    "##Array Manipulation"
   ]
  },
  {
   "cell_type": "code",
   "metadata": {
    "id": "aW8G_XOvQWdy",
    "colab_type": "code",
    "colab": {
     "base_uri": "https://localhost:8080/",
     "height": 51
    },
    "executionInfo": {
     "status": "ok",
     "timestamp": 1594997576049,
     "user_tz": -330,
     "elapsed": 713,
     "user": {
      "displayName": "Writobrata Bandyopadhyay",
      "photoUrl": "https://lh3.googleusercontent.com/a-/AOh14GiIgrlWyXxBfdlbwdBYCHU67PdGKNP5LpuHvPiM=s64",
      "userId": "04904541693543299783"
     }
    },
    "outputId": "3b9e644b-22a8-4521-eb9d-5941f459eb24",
    "pycharm": {
     "name": "#%%\n"
    }
   },
   "source": [
    "x"
   ],
   "execution_count": null,
   "outputs": [
    {
     "output_type": "execute_result",
     "data": {
      "text/plain": [
       "array([[1, 2, 3],\n",
       "       [4, 5, 6]])"
      ]
     },
     "metadata": {
      "tags": []
     },
     "execution_count": 233
    }
   ]
  },
  {
   "cell_type": "code",
   "metadata": {
    "id": "AwlS6RhuQ4y5",
    "colab_type": "code",
    "colab": {
     "base_uri": "https://localhost:8080/",
     "height": 68
    },
    "executionInfo": {
     "status": "ok",
     "timestamp": 1594997596616,
     "user_tz": -330,
     "elapsed": 1174,
     "user": {
      "displayName": "Writobrata Bandyopadhyay",
      "photoUrl": "https://lh3.googleusercontent.com/a-/AOh14GiIgrlWyXxBfdlbwdBYCHU67PdGKNP5LpuHvPiM=s64",
      "userId": "04904541693543299783"
     }
    },
    "outputId": "54764e9f-2036-4a06-b71f-9a80252f368f",
    "pycharm": {
     "name": "#%%\n"
    }
   },
   "source": [
    "x.T              #Transpose"
   ],
   "execution_count": null,
   "outputs": [
    {
     "output_type": "execute_result",
     "data": {
      "text/plain": [
       "array([[1, 4],\n",
       "       [2, 5],\n",
       "       [3, 6]])"
      ]
     },
     "metadata": {
      "tags": []
     },
     "execution_count": 234
    }
   ]
  },
  {
   "cell_type": "code",
   "metadata": {
    "id": "ZlTGTSRcQ9yJ",
    "colab_type": "code",
    "colab": {
     "base_uri": "https://localhost:8080/",
     "height": 68
    },
    "executionInfo": {
     "status": "ok",
     "timestamp": 1594997607623,
     "user_tz": -330,
     "elapsed": 1036,
     "user": {
      "displayName": "Writobrata Bandyopadhyay",
      "photoUrl": "https://lh3.googleusercontent.com/a-/AOh14GiIgrlWyXxBfdlbwdBYCHU67PdGKNP5LpuHvPiM=s64",
      "userId": "04904541693543299783"
     }
    },
    "outputId": "b4ab30b3-491f-48c4-87e0-e071b2258d60",
    "pycharm": {
     "name": "#%%\n"
    }
   },
   "source": [
    "x.transpose()"
   ],
   "execution_count": null,
   "outputs": [
    {
     "output_type": "execute_result",
     "data": {
      "text/plain": [
       "array([[1, 4],\n",
       "       [2, 5],\n",
       "       [3, 6]])"
      ]
     },
     "metadata": {
      "tags": []
     },
     "execution_count": 235
    }
   ]
  },
  {
   "cell_type": "markdown",
   "metadata": {
    "id": "GUaWmcoURbXl",
    "colab_type": "text",
    "pycharm": {
     "name": "#%% md\n"
    }
   },
   "source": [
    "##Functions over arrays"
   ]
  },
  {
   "cell_type": "code",
   "metadata": {
    "id": "APpLUkB6RAgJ",
    "colab_type": "code",
    "colab": {
     "base_uri": "https://localhost:8080/",
     "height": 34
    },
    "executionInfo": {
     "status": "ok",
     "timestamp": 1594998148517,
     "user_tz": -330,
     "elapsed": 1438,
     "user": {
      "displayName": "Writobrata Bandyopadhyay",
      "photoUrl": "https://lh3.googleusercontent.com/a-/AOh14GiIgrlWyXxBfdlbwdBYCHU67PdGKNP5LpuHvPiM=s64",
      "userId": "04904541693543299783"
     }
    },
    "outputId": "5dc35efe-c227-445f-ba95-bdbeaa33053b",
    "pycharm": {
     "name": "#%%\n"
    }
   },
   "source": [
    "x = np.arange(0,1,0.1)\n",
    "x"
   ],
   "execution_count": null,
   "outputs": [
    {
     "output_type": "execute_result",
     "data": {
      "text/plain": [
       "array([0. , 0.1, 0.2, 0.3, 0.4, 0.5, 0.6, 0.7, 0.8, 0.9])"
      ]
     },
     "metadata": {
      "tags": []
     },
     "execution_count": 237
    }
   ]
  },
  {
   "cell_type": "code",
   "metadata": {
    "id": "8boyAWRETDK-",
    "colab_type": "code",
    "colab": {
     "base_uri": "https://localhost:8080/",
     "height": 51
    },
    "executionInfo": {
     "status": "ok",
     "timestamp": 1594998161132,
     "user_tz": -330,
     "elapsed": 1655,
     "user": {
      "displayName": "Writobrata Bandyopadhyay",
      "photoUrl": "https://lh3.googleusercontent.com/a-/AOh14GiIgrlWyXxBfdlbwdBYCHU67PdGKNP5LpuHvPiM=s64",
      "userId": "04904541693543299783"
     }
    },
    "outputId": "a08a5259-7e51-4874-d645-3e8f12f28cd6",
    "pycharm": {
     "name": "#%%\n"
    }
   },
   "source": [
    "np.sin(x)  #Vectorized numpy Functions"
   ],
   "execution_count": null,
   "outputs": [
    {
     "output_type": "execute_result",
     "data": {
      "text/plain": [
       "array([0.        , 0.09983342, 0.19866933, 0.29552021, 0.38941834,\n",
       "       0.47942554, 0.56464247, 0.64421769, 0.71735609, 0.78332691])"
      ]
     },
     "metadata": {
      "tags": []
     },
     "execution_count": 238
    }
   ]
  },
  {
   "cell_type": "code",
   "metadata": {
    "id": "5AYsDM1NTHR1",
    "colab_type": "code",
    "colab": {
     "base_uri": "https://localhost:8080/",
     "height": 34
    },
    "executionInfo": {
     "status": "ok",
     "timestamp": 1594998185771,
     "user_tz": -330,
     "elapsed": 2186,
     "user": {
      "displayName": "Writobrata Bandyopadhyay",
      "photoUrl": "https://lh3.googleusercontent.com/a-/AOh14GiIgrlWyXxBfdlbwdBYCHU67PdGKNP5LpuHvPiM=s64",
      "userId": "04904541693543299783"
     }
    },
    "outputId": "937f33f0-882b-4e59-c803-c4dd011a843a",
    "pycharm": {
     "name": "#%%\n"
    }
   },
   "source": [
    "np.sin(np.pi/2)"
   ],
   "execution_count": null,
   "outputs": [
    {
     "output_type": "execute_result",
     "data": {
      "text/plain": [
       "1.0"
      ]
     },
     "metadata": {
      "tags": []
     },
     "execution_count": 240
    }
   ]
  },
  {
   "cell_type": "code",
   "metadata": {
    "id": "KzyK2Up5TJr8",
    "colab_type": "code",
    "colab": {
     "base_uri": "https://localhost:8080/",
     "height": 34
    },
    "executionInfo": {
     "status": "ok",
     "timestamp": 1594998255186,
     "user_tz": -330,
     "elapsed": 774,
     "user": {
      "displayName": "Writobrata Bandyopadhyay",
      "photoUrl": "https://lh3.googleusercontent.com/a-/AOh14GiIgrlWyXxBfdlbwdBYCHU67PdGKNP5LpuHvPiM=s64",
      "userId": "04904541693543299783"
     }
    },
    "outputId": "19b1c535-db18-4bc0-fc94-9774f877e75e",
    "pycharm": {
     "name": "#%%\n"
    }
   },
   "source": [
    "x = range(1,5)\n",
    "x"
   ],
   "execution_count": null,
   "outputs": [
    {
     "output_type": "execute_result",
     "data": {
      "text/plain": [
       "range(1, 5)"
      ]
     },
     "metadata": {
      "tags": []
     },
     "execution_count": 241
    }
   ]
  },
  {
   "cell_type": "code",
   "metadata": {
    "id": "i-PW3Yn5TelR",
    "colab_type": "code",
    "colab": {
     "base_uri": "https://localhost:8080/"
    },
    "executionInfo": {
     "status": "ok",
     "timestamp": 1594998273125,
     "user_tz": -330,
     "elapsed": 1588,
     "user": {
      "displayName": "Writobrata Bandyopadhyay",
      "photoUrl": "https://lh3.googleusercontent.com/a-/AOh14GiIgrlWyXxBfdlbwdBYCHU67PdGKNP5LpuHvPiM=s64",
      "userId": "04904541693543299783"
     }
    },
    "outputId": "fe851e8c-d483-478c-ea18-fa162eec2f74",
    "pycharm": {
     "name": "#%%\n"
    }
   },
   "source": [
    "np.sqrt(x)"
   ],
   "execution_count": null,
   "outputs": [
    {
     "output_type": "execute_result",
     "data": {
      "text/plain": [
       "array([1.        , 1.41421356, 1.73205081, 2.        ])"
      ]
     },
     "metadata": {
      "tags": []
     },
     "execution_count": 242
    }
   ]
  },
  {
   "cell_type": "code",
   "metadata": {
    "id": "kvEmK6kLTina",
    "colab_type": "code",
    "colab": {
     "base_uri": "https://localhost:8080/",
     "height": 34
    },
    "executionInfo": {
     "status": "ok",
     "timestamp": 1594998330725,
     "user_tz": -330,
     "elapsed": 2523,
     "user": {
      "displayName": "Writobrata Bandyopadhyay",
      "photoUrl": "https://lh3.googleusercontent.com/a-/AOh14GiIgrlWyXxBfdlbwdBYCHU67PdGKNP5LpuHvPiM=s64",
      "userId": "04904541693543299783"
     }
    },
    "outputId": "b3581d45-8f06-42b0-95ce-0877900409d7",
    "pycharm": {
     "name": "#%%\n"
    }
   },
   "source": [
    "x = np.arange(0,1,0.1)\n",
    "x"
   ],
   "execution_count": null,
   "outputs": [
    {
     "output_type": "execute_result",
     "data": {
      "text/plain": [
       "array([0. , 0.1, 0.2, 0.3, 0.4, 0.5, 0.6, 0.7, 0.8, 0.9])"
      ]
     },
     "metadata": {
      "tags": []
     },
     "execution_count": 244
    }
   ]
  },
  {
   "cell_type": "code",
   "metadata": {
    "id": "FsXqXnoVTsa0",
    "colab_type": "code",
    "colab": {},
    "pycharm": {
     "name": "#%%\n"
    }
   },
   "source": [
    "from math import sin"
   ],
   "execution_count": null,
   "outputs": []
  },
  {
   "cell_type": "code",
   "metadata": {
    "id": "Y3CmYq7YT1Q6",
    "colab_type": "code",
    "colab": {},
    "pycharm": {
     "name": "#%%\n"
    }
   },
   "source": [
    "# sin(x) Not vectorized"
   ],
   "execution_count": null,
   "outputs": []
  },
  {
   "cell_type": "code",
   "metadata": {
    "id": "4tuyrBKvT2gS",
    "colab_type": "code",
    "colab": {},
    "pycharm": {
     "name": "#%%\n"
    }
   },
   "source": [
    "x = range(1,5)"
   ],
   "execution_count": null,
   "outputs": []
  },
  {
   "cell_type": "code",
   "metadata": {
    "id": "_za-oQ60UGiZ",
    "colab_type": "code",
    "colab": {},
    "pycharm": {
     "name": "#%%\n"
    }
   },
   "source": [
    "def f(x):\n",
    "  return x**2"
   ],
   "execution_count": null,
   "outputs": []
  },
  {
   "cell_type": "code",
   "metadata": {
    "id": "VavNq6CtUK3Z",
    "colab_type": "code",
    "colab": {},
    "pycharm": {
     "name": "#%%\n"
    }
   },
   "source": [
    "# f(x)    Error f(x) not vectorized"
   ],
   "execution_count": null,
   "outputs": []
  },
  {
   "cell_type": "markdown",
   "metadata": {
    "id": "4yubobsAUmoO",
    "colab_type": "text",
    "pycharm": {
     "name": "#%% md\n"
    }
   },
   "source": [
    "###Vectorize"
   ]
  },
  {
   "cell_type": "code",
   "metadata": {
    "id": "_LEgV2DcUNYg",
    "colab_type": "code",
    "colab": {},
    "pycharm": {
     "name": "#%%\n"
    }
   },
   "source": [
    "f = np.vectorize(f)"
   ],
   "execution_count": null,
   "outputs": []
  },
  {
   "cell_type": "code",
   "metadata": {
    "id": "v0Xs0vCnUf7B",
    "colab_type": "code",
    "colab": {
     "base_uri": "https://localhost:8080/",
     "height": 34
    },
    "executionInfo": {
     "status": "ok",
     "timestamp": 1594998529441,
     "user_tz": -330,
     "elapsed": 1599,
     "user": {
      "displayName": "Writobrata Bandyopadhyay",
      "photoUrl": "https://lh3.googleusercontent.com/a-/AOh14GiIgrlWyXxBfdlbwdBYCHU67PdGKNP5LpuHvPiM=s64",
      "userId": "04904541693543299783"
     }
    },
    "outputId": "b82539a4-ef83-44c6-bc4c-acedb7c85b3d",
    "pycharm": {
     "name": "#%%\n"
    }
   },
   "source": [
    "type(f)"
   ],
   "execution_count": null,
   "outputs": [
    {
     "output_type": "execute_result",
     "data": {
      "text/plain": [
       "numpy.vectorize"
      ]
     },
     "metadata": {
      "tags": []
     },
     "execution_count": 253
    }
   ]
  },
  {
   "cell_type": "code",
   "metadata": {
    "id": "HdIkzGI7UhTQ",
    "colab_type": "code",
    "colab": {
     "base_uri": "https://localhost:8080/",
     "height": 34
    },
    "executionInfo": {
     "status": "ok",
     "timestamp": 1594998532051,
     "user_tz": -330,
     "elapsed": 736,
     "user": {
      "displayName": "Writobrata Bandyopadhyay",
      "photoUrl": "https://lh3.googleusercontent.com/a-/AOh14GiIgrlWyXxBfdlbwdBYCHU67PdGKNP5LpuHvPiM=s64",
      "userId": "04904541693543299783"
     }
    },
    "outputId": "017df33d-1c4e-4c26-fade-12a72f4bc2d8",
    "pycharm": {
     "name": "#%%\n"
    }
   },
   "source": [
    "x"
   ],
   "execution_count": null,
   "outputs": [
    {
     "output_type": "execute_result",
     "data": {
      "text/plain": [
       "range(1, 5)"
      ]
     },
     "metadata": {
      "tags": []
     },
     "execution_count": 254
    }
   ]
  },
  {
   "cell_type": "code",
   "metadata": {
    "id": "R2DdjLKEUiPB",
    "colab_type": "code",
    "colab": {
     "base_uri": "https://localhost:8080/",
     "height": 34
    },
    "executionInfo": {
     "status": "ok",
     "timestamp": 1594998540635,
     "user_tz": -330,
     "elapsed": 785,
     "user": {
      "displayName": "Writobrata Bandyopadhyay",
      "photoUrl": "https://lh3.googleusercontent.com/a-/AOh14GiIgrlWyXxBfdlbwdBYCHU67PdGKNP5LpuHvPiM=s64",
      "userId": "04904541693543299783"
     }
    },
    "outputId": "194e7792-e4ba-46c4-e019-01bc45a5cee4",
    "pycharm": {
     "name": "#%%\n"
    }
   },
   "source": [
    "f(x)"
   ],
   "execution_count": null,
   "outputs": [
    {
     "output_type": "execute_result",
     "data": {
      "text/plain": [
       "array([ 1,  4,  9, 16])"
      ]
     },
     "metadata": {
      "tags": []
     },
     "execution_count": 255
    }
   ]
  },
  {
   "cell_type": "markdown",
   "metadata": {
    "id": "BP1NqYvbVI0O",
    "colab_type": "text",
    "pycharm": {
     "name": "#%% md\n"
    }
   },
   "source": [
    "#**Numpy Arrays in Python Part 6**"
   ]
  },
  {
   "cell_type": "markdown",
   "metadata": {
    "id": "VdgkhYI_VZ3j",
    "colab_type": "text",
    "pycharm": {
     "name": "#%% md\n"
    }
   },
   "source": [
    "##Special Arrays"
   ]
  },
  {
   "cell_type": "code",
   "metadata": {
    "id": "a5kqaCVMUkGD",
    "colab_type": "code",
    "colab": {
     "base_uri": "https://localhost:8080/",
     "height": 68
    },
    "executionInfo": {
     "status": "ok",
     "timestamp": 1594998784351,
     "user_tz": -330,
     "elapsed": 1481,
     "user": {
      "displayName": "Writobrata Bandyopadhyay",
      "photoUrl": "https://lh3.googleusercontent.com/a-/AOh14GiIgrlWyXxBfdlbwdBYCHU67PdGKNP5LpuHvPiM=s64",
      "userId": "04904541693543299783"
     }
    },
    "outputId": "62278297-c273-4f8b-e5a5-87543cde2d6b",
    "pycharm": {
     "name": "#%%\n"
    }
   },
   "source": [
    "np.eye(3)  #Identity matrix"
   ],
   "execution_count": null,
   "outputs": [
    {
     "output_type": "execute_result",
     "data": {
      "text/plain": [
       "array([[1., 0., 0.],\n",
       "       [0., 1., 0.],\n",
       "       [0., 0., 1.]])"
      ]
     },
     "metadata": {
      "tags": []
     },
     "execution_count": 256
    }
   ]
  },
  {
   "cell_type": "code",
   "metadata": {
    "id": "osPHyEY-Vfk5",
    "colab_type": "code",
    "colab": {
     "base_uri": "https://localhost:8080/",
     "height": 34
    },
    "executionInfo": {
     "status": "ok",
     "timestamp": 1594998947587,
     "user_tz": -330,
     "elapsed": 1511,
     "user": {
      "displayName": "Writobrata Bandyopadhyay",
      "photoUrl": "https://lh3.googleusercontent.com/a-/AOh14GiIgrlWyXxBfdlbwdBYCHU67PdGKNP5LpuHvPiM=s64",
      "userId": "04904541693543299783"
     }
    },
    "outputId": "8196b3c3-e6aa-4037-99fc-79cb1324d9fb",
    "pycharm": {
     "name": "#%%\n"
    }
   },
   "source": [
    "np.zeros(3)"
   ],
   "execution_count": null,
   "outputs": [
    {
     "output_type": "execute_result",
     "data": {
      "text/plain": [
       "array([0., 0., 0.])"
      ]
     },
     "metadata": {
      "tags": []
     },
     "execution_count": 260
    }
   ]
  },
  {
   "cell_type": "code",
   "metadata": {
    "id": "pjxGTo0hWBCN",
    "colab_type": "code",
    "colab": {
     "base_uri": "https://localhost:8080/",
     "height": 68
    },
    "executionInfo": {
     "status": "ok",
     "timestamp": 1594998931492,
     "user_tz": -330,
     "elapsed": 1198,
     "user": {
      "displayName": "Writobrata Bandyopadhyay",
      "photoUrl": "https://lh3.googleusercontent.com/a-/AOh14GiIgrlWyXxBfdlbwdBYCHU67PdGKNP5LpuHvPiM=s64",
      "userId": "04904541693543299783"
     }
    },
    "outputId": "e7a551fe-bdca-4c5e-f7a9-803eb0137899",
    "pycharm": {
     "name": "#%%\n"
    }
   },
   "source": [
    "np.zeros((3,3))"
   ],
   "execution_count": null,
   "outputs": [
    {
     "output_type": "execute_result",
     "data": {
      "text/plain": [
       "array([[0., 0., 0.],\n",
       "       [0., 0., 0.],\n",
       "       [0., 0., 0.]])"
      ]
     },
     "metadata": {
      "tags": []
     },
     "execution_count": 258
    }
   ]
  },
  {
   "cell_type": "code",
   "metadata": {
    "id": "Jw48AsHCWDp9",
    "colab_type": "code",
    "colab": {
     "base_uri": "https://localhost:8080/",
     "height": 68
    },
    "executionInfo": {
     "status": "ok",
     "timestamp": 1594998963706,
     "user_tz": -330,
     "elapsed": 1129,
     "user": {
      "displayName": "Writobrata Bandyopadhyay",
      "photoUrl": "https://lh3.googleusercontent.com/a-/AOh14GiIgrlWyXxBfdlbwdBYCHU67PdGKNP5LpuHvPiM=s64",
      "userId": "04904541693543299783"
     }
    },
    "outputId": "10bf4fd5-1788-4491-f66d-56047b4a4e24",
    "pycharm": {
     "name": "#%%\n"
    }
   },
   "source": [
    "np.full((3,3), 5)"
   ],
   "execution_count": null,
   "outputs": [
    {
     "output_type": "execute_result",
     "data": {
      "text/plain": [
       "array([[5, 5, 5],\n",
       "       [5, 5, 5],\n",
       "       [5, 5, 5]])"
      ]
     },
     "metadata": {
      "tags": []
     },
     "execution_count": 261
    }
   ]
  },
  {
   "cell_type": "code",
   "metadata": {
    "id": "HnNsnaLzWLjk",
    "colab_type": "code",
    "colab": {
     "base_uri": "https://localhost:8080/",
     "height": 51
    },
    "executionInfo": {
     "status": "ok",
     "timestamp": 1594999115334,
     "user_tz": -330,
     "elapsed": 1403,
     "user": {
      "displayName": "Writobrata Bandyopadhyay",
      "photoUrl": "https://lh3.googleusercontent.com/a-/AOh14GiIgrlWyXxBfdlbwdBYCHU67PdGKNP5LpuHvPiM=s64",
      "userId": "04904541693543299783"
     }
    },
    "outputId": "7737f43a-bbc8-4225-ef7f-289a122ca300",
    "pycharm": {
     "name": "#%%\n"
    }
   },
   "source": [
    "a = np.array([[1,2],[3,4]])\n",
    "a"
   ],
   "execution_count": null,
   "outputs": [
    {
     "output_type": "execute_result",
     "data": {
      "text/plain": [
       "array([[1, 2],\n",
       "       [3, 4]])"
      ]
     },
     "metadata": {
      "tags": []
     },
     "execution_count": 262
    }
   ]
  },
  {
   "cell_type": "code",
   "metadata": {
    "id": "pgG7EQ4iWwU7",
    "colab_type": "code",
    "colab": {
     "base_uri": "https://localhost:8080/",
     "height": 51
    },
    "executionInfo": {
     "status": "ok",
     "timestamp": 1594999161035,
     "user_tz": -330,
     "elapsed": 1381,
     "user": {
      "displayName": "Writobrata Bandyopadhyay",
      "photoUrl": "https://lh3.googleusercontent.com/a-/AOh14GiIgrlWyXxBfdlbwdBYCHU67PdGKNP5LpuHvPiM=s64",
      "userId": "04904541693543299783"
     }
    },
    "outputId": "7ae4530f-7f7d-49a0-a9d1-eef999020da1",
    "pycharm": {
     "name": "#%%\n"
    }
   },
   "source": [
    "np.zeros_like(a)  #Same ordered matrix as a but all 0"
   ],
   "execution_count": null,
   "outputs": [
    {
     "output_type": "execute_result",
     "data": {
      "text/plain": [
       "array([[0, 0],\n",
       "       [0, 0]])"
      ]
     },
     "metadata": {
      "tags": []
     },
     "execution_count": 264
    }
   ]
  },
  {
   "cell_type": "code",
   "metadata": {
    "id": "tcNN2Ha9W1Sd",
    "colab_type": "code",
    "colab": {
     "base_uri": "https://localhost:8080/",
     "height": 68
    },
    "executionInfo": {
     "status": "ok",
     "timestamp": 1594999190681,
     "user_tz": -330,
     "elapsed": 1421,
     "user": {
      "displayName": "Writobrata Bandyopadhyay",
      "photoUrl": "https://lh3.googleusercontent.com/a-/AOh14GiIgrlWyXxBfdlbwdBYCHU67PdGKNP5LpuHvPiM=s64",
      "userId": "04904541693543299783"
     }
    },
    "outputId": "2ea7e815-56b0-4efa-dc09-45711235dd21",
    "pycharm": {
     "name": "#%%\n"
    }
   },
   "source": [
    "np.diag((1,2,3))  #Diagonal matrix"
   ],
   "execution_count": null,
   "outputs": [
    {
     "output_type": "execute_result",
     "data": {
      "text/plain": [
       "array([[1, 0, 0],\n",
       "       [0, 2, 0],\n",
       "       [0, 0, 3]])"
      ]
     },
     "metadata": {
      "tags": []
     },
     "execution_count": 265
    }
   ]
  },
  {
   "cell_type": "code",
   "metadata": {
    "id": "KLq6OCBdXC0i",
    "colab_type": "code",
    "colab": {
     "base_uri": "https://localhost:8080/",
     "height": 85
    },
    "executionInfo": {
     "status": "ok",
     "timestamp": 1594999219509,
     "user_tz": -330,
     "elapsed": 1178,
     "user": {
      "displayName": "Writobrata Bandyopadhyay",
      "photoUrl": "https://lh3.googleusercontent.com/a-/AOh14GiIgrlWyXxBfdlbwdBYCHU67PdGKNP5LpuHvPiM=s64",
      "userId": "04904541693543299783"
     }
    },
    "outputId": "d17d1e2b-6be7-4bc3-c814-59d18bf294fc",
    "pycharm": {
     "name": "#%%\n"
    }
   },
   "source": [
    "np.diag((1,2,3), k = 1)"
   ],
   "execution_count": null,
   "outputs": [
    {
     "output_type": "execute_result",
     "data": {
      "text/plain": [
       "array([[0, 1, 0, 0],\n",
       "       [0, 0, 2, 0],\n",
       "       [0, 0, 0, 3],\n",
       "       [0, 0, 0, 0]])"
      ]
     },
     "metadata": {
      "tags": []
     },
     "execution_count": 266
    }
   ]
  },
  {
   "cell_type": "markdown",
   "metadata": {
    "id": "vLhXKcXrXUee",
    "colab_type": "text",
    "pycharm": {
     "name": "#%% md\n"
    }
   },
   "source": [
    "##Inner Product"
   ]
  },
  {
   "cell_type": "code",
   "metadata": {
    "id": "upIytVs-XJ_C",
    "colab_type": "code",
    "colab": {
     "base_uri": "https://localhost:8080/",
     "height": 34
    },
    "executionInfo": {
     "status": "ok",
     "timestamp": 1594999461241,
     "user_tz": -330,
     "elapsed": 763,
     "user": {
      "displayName": "Writobrata Bandyopadhyay",
      "photoUrl": "https://lh3.googleusercontent.com/a-/AOh14GiIgrlWyXxBfdlbwdBYCHU67PdGKNP5LpuHvPiM=s64",
      "userId": "04904541693543299783"
     }
    },
    "outputId": "a06edcd8-5309-40a1-c29a-b7eeb7f53fd3",
    "pycharm": {
     "name": "#%%\n"
    }
   },
   "source": [
    "u = np.array([1,2,3])\n",
    "u"
   ],
   "execution_count": null,
   "outputs": [
    {
     "output_type": "execute_result",
     "data": {
      "text/plain": [
       "array([1, 2, 3])"
      ]
     },
     "metadata": {
      "tags": []
     },
     "execution_count": 267
    }
   ]
  },
  {
   "cell_type": "code",
   "metadata": {
    "id": "k-47eF0iYE8B",
    "colab_type": "code",
    "colab": {
     "base_uri": "https://localhost:8080/",
     "height": 34
    },
    "executionInfo": {
     "status": "ok",
     "timestamp": 1594999477377,
     "user_tz": -330,
     "elapsed": 1263,
     "user": {
      "displayName": "Writobrata Bandyopadhyay",
      "photoUrl": "https://lh3.googleusercontent.com/a-/AOh14GiIgrlWyXxBfdlbwdBYCHU67PdGKNP5LpuHvPiM=s64",
      "userId": "04904541693543299783"
     }
    },
    "outputId": "1f6eb37c-89d8-428a-9561-2fdabc87354a",
    "pycharm": {
     "name": "#%%\n"
    }
   },
   "source": [
    "v = np.array([-1,0,1])\n",
    "v"
   ],
   "execution_count": null,
   "outputs": [
    {
     "output_type": "execute_result",
     "data": {
      "text/plain": [
       "array([-1,  0,  1])"
      ]
     },
     "metadata": {
      "tags": []
     },
     "execution_count": 268
    }
   ]
  },
  {
   "cell_type": "code",
   "metadata": {
    "id": "_XBlhFvTYIvR",
    "colab_type": "code",
    "colab": {
     "base_uri": "https://localhost:8080/",
     "height": 34
    },
    "executionInfo": {
     "status": "ok",
     "timestamp": 1595000169025,
     "user_tz": -330,
     "elapsed": 814,
     "user": {
      "displayName": "Writobrata Bandyopadhyay",
      "photoUrl": "https://lh3.googleusercontent.com/a-/AOh14GiIgrlWyXxBfdlbwdBYCHU67PdGKNP5LpuHvPiM=s64",
      "userId": "04904541693543299783"
     }
    },
    "outputId": "66276e7f-cf3a-46f8-c580-6ef7fa9907b4",
    "pycharm": {
     "name": "#%%\n"
    }
   },
   "source": [
    "np.inner(u, v)"
   ],
   "execution_count": null,
   "outputs": [
    {
     "output_type": "execute_result",
     "data": {
      "text/plain": [
       "2"
      ]
     },
     "metadata": {
      "tags": []
     },
     "execution_count": 269
    }
   ]
  },
  {
   "cell_type": "code",
   "metadata": {
    "id": "0x6YnOC2ax2R",
    "colab_type": "code",
    "colab": {
     "base_uri": "https://localhost:8080/",
     "height": 34
    },
    "executionInfo": {
     "status": "ok",
     "timestamp": 1595000191459,
     "user_tz": -330,
     "elapsed": 1487,
     "user": {
      "displayName": "Writobrata Bandyopadhyay",
      "photoUrl": "https://lh3.googleusercontent.com/a-/AOh14GiIgrlWyXxBfdlbwdBYCHU67PdGKNP5LpuHvPiM=s64",
      "userId": "04904541693543299783"
     }
    },
    "outputId": "ab075d77-aa47-4437-8e6a-cdf6d471a3a0",
    "pycharm": {
     "name": "#%%\n"
    }
   },
   "source": [
    "np.inner(u,2)"
   ],
   "execution_count": null,
   "outputs": [
    {
     "output_type": "execute_result",
     "data": {
      "text/plain": [
       "array([2, 4, 6])"
      ]
     },
     "metadata": {
      "tags": []
     },
     "execution_count": 270
    }
   ]
  },
  {
   "cell_type": "code",
   "metadata": {
    "id": "D5rHOpF3a3Nx",
    "colab_type": "code",
    "colab": {
     "base_uri": "https://localhost:8080/",
     "height": 34
    },
    "executionInfo": {
     "status": "ok",
     "timestamp": 1595000202331,
     "user_tz": -330,
     "elapsed": 1340,
     "user": {
      "displayName": "Writobrata Bandyopadhyay",
      "photoUrl": "https://lh3.googleusercontent.com/a-/AOh14GiIgrlWyXxBfdlbwdBYCHU67PdGKNP5LpuHvPiM=s64",
      "userId": "04904541693543299783"
     }
    },
    "outputId": "f640b86c-c2e1-4b62-b149-b425dd0f06d9",
    "pycharm": {
     "name": "#%%\n"
    }
   },
   "source": [
    "u*2"
   ],
   "execution_count": null,
   "outputs": [
    {
     "output_type": "execute_result",
     "data": {
      "text/plain": [
       "array([2, 4, 6])"
      ]
     },
     "metadata": {
      "tags": []
     },
     "execution_count": 271
    }
   ]
  },
  {
   "cell_type": "code",
   "metadata": {
    "id": "fK81F48Va56B",
    "colab_type": "code",
    "colab": {
     "base_uri": "https://localhost:8080/",
     "height": 34
    },
    "executionInfo": {
     "status": "ok",
     "timestamp": 1595000208363,
     "user_tz": -330,
     "elapsed": 1501,
     "user": {
      "displayName": "Writobrata Bandyopadhyay",
      "photoUrl": "https://lh3.googleusercontent.com/a-/AOh14GiIgrlWyXxBfdlbwdBYCHU67PdGKNP5LpuHvPiM=s64",
      "userId": "04904541693543299783"
     }
    },
    "outputId": "bcbcf326-10ba-4465-839b-b12b8e69793e",
    "pycharm": {
     "name": "#%%\n"
    }
   },
   "source": [
    "2*u"
   ],
   "execution_count": null,
   "outputs": [
    {
     "output_type": "execute_result",
     "data": {
      "text/plain": [
       "array([2, 4, 6])"
      ]
     },
     "metadata": {
      "tags": []
     },
     "execution_count": 272
    }
   ]
  },
  {
   "cell_type": "code",
   "metadata": {
    "id": "wnKpeQ73a7LJ",
    "colab_type": "code",
    "colab": {
     "base_uri": "https://localhost:8080/",
     "height": 68
    },
    "executionInfo": {
     "status": "ok",
     "timestamp": 1595000358498,
     "user_tz": -330,
     "elapsed": 1872,
     "user": {
      "displayName": "Writobrata Bandyopadhyay",
      "photoUrl": "https://lh3.googleusercontent.com/a-/AOh14GiIgrlWyXxBfdlbwdBYCHU67PdGKNP5LpuHvPiM=s64",
      "userId": "04904541693543299783"
     }
    },
    "outputId": "fc6c0c59-36d3-41b3-96d1-9d3529c54e4f",
    "pycharm": {
     "name": "#%%\n"
    }
   },
   "source": [
    "np.inner(np.eye(3), 5)"
   ],
   "execution_count": null,
   "outputs": [
    {
     "output_type": "execute_result",
     "data": {
      "text/plain": [
       "array([[5., 0., 0.],\n",
       "       [0., 5., 0.],\n",
       "       [0., 0., 5.]])"
      ]
     },
     "metadata": {
      "tags": []
     },
     "execution_count": 275
    }
   ]
  },
  {
   "cell_type": "code",
   "metadata": {
    "id": "G19UgGBvbZX4",
    "colab_type": "code",
    "colab": {
     "base_uri": "https://localhost:8080/",
     "height": 51
    },
    "executionInfo": {
     "status": "ok",
     "timestamp": 1595000388771,
     "user_tz": -330,
     "elapsed": 709,
     "user": {
      "displayName": "Writobrata Bandyopadhyay",
      "photoUrl": "https://lh3.googleusercontent.com/a-/AOh14GiIgrlWyXxBfdlbwdBYCHU67PdGKNP5LpuHvPiM=s64",
      "userId": "04904541693543299783"
     }
    },
    "outputId": "189a9a9f-99c8-450d-bd25-528aa75ba64f",
    "pycharm": {
     "name": "#%%\n"
    }
   },
   "source": [
    "A = np.array([[1,2,3], [4,5,6]])\n",
    "A"
   ],
   "execution_count": null,
   "outputs": [
    {
     "output_type": "execute_result",
     "data": {
      "text/plain": [
       "array([[1, 2, 3],\n",
       "       [4, 5, 6]])"
      ]
     },
     "metadata": {
      "tags": []
     },
     "execution_count": 276
    }
   ]
  },
  {
   "cell_type": "code",
   "metadata": {
    "id": "Jr8o5oiZbnMf",
    "colab_type": "code",
    "colab": {
     "base_uri": "https://localhost:8080/",
     "height": 51
    },
    "executionInfo": {
     "status": "ok",
     "timestamp": 1595000583482,
     "user_tz": -330,
     "elapsed": 1293,
     "user": {
      "displayName": "Writobrata Bandyopadhyay",
      "photoUrl": "https://lh3.googleusercontent.com/a-/AOh14GiIgrlWyXxBfdlbwdBYCHU67PdGKNP5LpuHvPiM=s64",
      "userId": "04904541693543299783"
     }
    },
    "outputId": "73f8b858-476a-49f3-bfc2-70fee7b16496",
    "pycharm": {
     "name": "#%%\n"
    }
   },
   "source": [
    "B = np.array([[1,0,1], [0,1,0]])\n",
    "B"
   ],
   "execution_count": null,
   "outputs": [
    {
     "output_type": "execute_result",
     "data": {
      "text/plain": [
       "array([[1, 0, 1],\n",
       "       [0, 1, 0]])"
      ]
     },
     "metadata": {
      "tags": []
     },
     "execution_count": 277
    }
   ]
  },
  {
   "cell_type": "code",
   "metadata": {
    "id": "HhsDPxFMcWxt",
    "colab_type": "code",
    "colab": {
     "base_uri": "https://localhost:8080/",
     "height": 51
    },
    "executionInfo": {
     "status": "ok",
     "timestamp": 1595001147893,
     "user_tz": -330,
     "elapsed": 1242,
     "user": {
      "displayName": "Writobrata Bandyopadhyay",
      "photoUrl": "https://lh3.googleusercontent.com/a-/AOh14GiIgrlWyXxBfdlbwdBYCHU67PdGKNP5LpuHvPiM=s64",
      "userId": "04904541693543299783"
     }
    },
    "outputId": "ae56c603-4756-4bf7-e3fa-9da4e571ce17",
    "pycharm": {
     "name": "#%%\n"
    }
   },
   "source": [
    "np.inner(A,B)  #This is different from matrix multiplication."
   ],
   "execution_count": null,
   "outputs": [
    {
     "output_type": "execute_result",
     "data": {
      "text/plain": [
       "array([[ 4,  2],\n",
       "       [10,  5]])"
      ]
     },
     "metadata": {
      "tags": []
     },
     "execution_count": 280
    }
   ]
  },
  {
   "cell_type": "markdown",
   "metadata": {
    "id": "COoeM7qMczYw",
    "colab_type": "text",
    "pycharm": {
     "name": "#%% md\n"
    }
   },
   "source": [
    "This is row row multiplication.                           \n",
    "1\\*1 + 2\\*0 + 3\\*1 = 4                                        \n",
    "1\\*0 + 2\\*1 + 3\\*0 = 2                    \n",
    "4\\*1 + 5\\*0 + 6\\* 1 = 10                          \n",
    "4\\*0 + 5\\*1 + 6\\*0 = 5"
   ]
  },
  {
   "cell_type": "markdown",
   "metadata": {
    "id": "yb53SjE_ejWI",
    "colab_type": "text",
    "pycharm": {
     "name": "#%% md\n"
    }
   },
   "source": [
    "##Matrix Like Operations"
   ]
  },
  {
   "cell_type": "code",
   "metadata": {
    "id": "TMWazla-ceF1",
    "colab_type": "code",
    "colab": {
     "base_uri": "https://localhost:8080/",
     "height": 51
    },
    "executionInfo": {
     "status": "ok",
     "timestamp": 1595001268919,
     "user_tz": -330,
     "elapsed": 1333,
     "user": {
      "displayName": "Writobrata Bandyopadhyay",
      "photoUrl": "https://lh3.googleusercontent.com/a-/AOh14GiIgrlWyXxBfdlbwdBYCHU67PdGKNP5LpuHvPiM=s64",
      "userId": "04904541693543299783"
     }
    },
    "outputId": "79b36fed-8ad6-45f5-eed4-bb4d28cc20d9",
    "pycharm": {
     "name": "#%%\n"
    }
   },
   "source": [
    "A"
   ],
   "execution_count": null,
   "outputs": [
    {
     "output_type": "execute_result",
     "data": {
      "text/plain": [
       "array([[1, 2, 3],\n",
       "       [4, 5, 6]])"
      ]
     },
     "metadata": {
      "tags": []
     },
     "execution_count": 281
    }
   ]
  },
  {
   "cell_type": "code",
   "metadata": {
    "id": "UeACk3jRe-TQ",
    "colab_type": "code",
    "colab": {},
    "pycharm": {
     "name": "#%%\n"
    }
   },
   "source": [
    "B = np.arange(1,7).reshape(3,2)"
   ],
   "execution_count": null,
   "outputs": []
  },
  {
   "cell_type": "code",
   "metadata": {
    "id": "YoikGHA4fFXf",
    "colab_type": "code",
    "colab": {
     "base_uri": "https://localhost:8080/",
     "height": 68
    },
    "executionInfo": {
     "status": "ok",
     "timestamp": 1595001301490,
     "user_tz": -330,
     "elapsed": 1334,
     "user": {
      "displayName": "Writobrata Bandyopadhyay",
      "photoUrl": "https://lh3.googleusercontent.com/a-/AOh14GiIgrlWyXxBfdlbwdBYCHU67PdGKNP5LpuHvPiM=s64",
      "userId": "04904541693543299783"
     }
    },
    "outputId": "edb49099-edc9-49f4-8deb-40c2679e8726",
    "pycharm": {
     "name": "#%%\n"
    }
   },
   "source": [
    "B"
   ],
   "execution_count": null,
   "outputs": [
    {
     "output_type": "execute_result",
     "data": {
      "text/plain": [
       "array([[1, 2],\n",
       "       [3, 4],\n",
       "       [5, 6]])"
      ]
     },
     "metadata": {
      "tags": []
     },
     "execution_count": 283
    }
   ]
  },
  {
   "cell_type": "code",
   "metadata": {
    "id": "FQc4fpRTfF4f",
    "colab_type": "code",
    "colab": {
     "base_uri": "https://localhost:8080/",
     "height": 51
    },
    "executionInfo": {
     "status": "ok",
     "timestamp": 1595001333056,
     "user_tz": -330,
     "elapsed": 785,
     "user": {
      "displayName": "Writobrata Bandyopadhyay",
      "photoUrl": "https://lh3.googleusercontent.com/a-/AOh14GiIgrlWyXxBfdlbwdBYCHU67PdGKNP5LpuHvPiM=s64",
      "userId": "04904541693543299783"
     }
    },
    "outputId": "ca5618cc-d20a-4b7d-98a1-1e6c0f916ab4",
    "pycharm": {
     "name": "#%%\n"
    }
   },
   "source": [
    "np.dot(A,B)   #This is matrix multiplication"
   ],
   "execution_count": null,
   "outputs": [
    {
     "output_type": "execute_result",
     "data": {
      "text/plain": [
       "array([[22, 28],\n",
       "       [49, 64]])"
      ]
     },
     "metadata": {
      "tags": []
     },
     "execution_count": 284
    }
   ]
  },
  {
   "cell_type": "code",
   "metadata": {
    "id": "QWvIwLAYfN7G",
    "colab_type": "code",
    "colab": {
     "base_uri": "https://localhost:8080/",
     "height": 51
    },
    "executionInfo": {
     "status": "ok",
     "timestamp": 1595001378923,
     "user_tz": -330,
     "elapsed": 1594,
     "user": {
      "displayName": "Writobrata Bandyopadhyay",
      "photoUrl": "https://lh3.googleusercontent.com/a-/AOh14GiIgrlWyXxBfdlbwdBYCHU67PdGKNP5LpuHvPiM=s64",
      "userId": "04904541693543299783"
     }
    },
    "outputId": "a67821d2-7122-45c3-c151-506be17ed496",
    "pycharm": {
     "name": "#%%\n"
    }
   },
   "source": [
    "A.dot(B)"
   ],
   "execution_count": null,
   "outputs": [
    {
     "output_type": "execute_result",
     "data": {
      "text/plain": [
       "array([[22, 28],\n",
       "       [49, 64]])"
      ]
     },
     "metadata": {
      "tags": []
     },
     "execution_count": 285
    }
   ]
  },
  {
   "cell_type": "code",
   "metadata": {
    "id": "h2SDX0zlfY1e",
    "colab_type": "code",
    "colab": {
     "base_uri": "https://localhost:8080/",
     "height": 68
    },
    "executionInfo": {
     "status": "ok",
     "timestamp": 1595001387258,
     "user_tz": -330,
     "elapsed": 979,
     "user": {
      "displayName": "Writobrata Bandyopadhyay",
      "photoUrl": "https://lh3.googleusercontent.com/a-/AOh14GiIgrlWyXxBfdlbwdBYCHU67PdGKNP5LpuHvPiM=s64",
      "userId": "04904541693543299783"
     }
    },
    "outputId": "5123a1c8-6b1b-45de-aa1c-9a4550d80c05",
    "pycharm": {
     "name": "#%%\n"
    }
   },
   "source": [
    "B.dot(A)"
   ],
   "execution_count": null,
   "outputs": [
    {
     "output_type": "execute_result",
     "data": {
      "text/plain": [
       "array([[ 9, 12, 15],\n",
       "       [19, 26, 33],\n",
       "       [29, 40, 51]])"
      ]
     },
     "metadata": {
      "tags": []
     },
     "execution_count": 286
    }
   ]
  },
  {
   "cell_type": "code",
   "metadata": {
    "id": "R6SbupSFfbG-",
    "colab_type": "code",
    "colab": {
     "base_uri": "https://localhost:8080/",
     "height": 68
    },
    "executionInfo": {
     "status": "ok",
     "timestamp": 1595001397164,
     "user_tz": -330,
     "elapsed": 2172,
     "user": {
      "displayName": "Writobrata Bandyopadhyay",
      "photoUrl": "https://lh3.googleusercontent.com/a-/AOh14GiIgrlWyXxBfdlbwdBYCHU67PdGKNP5LpuHvPiM=s64",
      "userId": "04904541693543299783"
     }
    },
    "outputId": "8f749ff0-6c8a-4d4a-8cc5-3bcec87f2703",
    "pycharm": {
     "name": "#%%\n"
    }
   },
   "source": [
    "np.dot(B,A)"
   ],
   "execution_count": null,
   "outputs": [
    {
     "output_type": "execute_result",
     "data": {
      "text/plain": [
       "array([[ 9, 12, 15],\n",
       "       [19, 26, 33],\n",
       "       [29, 40, 51]])"
      ]
     },
     "metadata": {
      "tags": []
     },
     "execution_count": 287
    }
   ]
  },
  {
   "cell_type": "markdown",
   "metadata": {
    "id": "TVopFnbHfhbN",
    "colab_type": "text",
    "pycharm": {
     "name": "#%% md\n"
    }
   },
   "source": [
    "##Matrix"
   ]
  },
  {
   "cell_type": "code",
   "metadata": {
    "id": "7ZIXaxDug0DB",
    "colab_type": "code",
    "colab": {
     "base_uri": "https://localhost:8080/",
     "height": 51
    },
    "executionInfo": {
     "status": "ok",
     "timestamp": 1595001756001,
     "user_tz": -330,
     "elapsed": 1401,
     "user": {
      "displayName": "Writobrata Bandyopadhyay",
      "photoUrl": "https://lh3.googleusercontent.com/a-/AOh14GiIgrlWyXxBfdlbwdBYCHU67PdGKNP5LpuHvPiM=s64",
      "userId": "04904541693543299783"
     }
    },
    "outputId": "2048f37c-22ac-4621-9e90-0cc9f5aeb52c",
    "pycharm": {
     "name": "#%%\n"
    }
   },
   "source": [
    "A"
   ],
   "execution_count": null,
   "outputs": [
    {
     "output_type": "execute_result",
     "data": {
      "text/plain": [
       "array([[1, 2, 3],\n",
       "       [4, 5, 6]])"
      ]
     },
     "metadata": {
      "tags": []
     },
     "execution_count": 289
    }
   ]
  },
  {
   "cell_type": "code",
   "metadata": {
    "id": "3qw8IQe6fdO-",
    "colab_type": "code",
    "colab": {
     "base_uri": "https://localhost:8080/",
     "height": 51
    },
    "executionInfo": {
     "status": "ok",
     "timestamp": 1595001792641,
     "user_tz": -330,
     "elapsed": 1502,
     "user": {
      "displayName": "Writobrata Bandyopadhyay",
      "photoUrl": "https://lh3.googleusercontent.com/a-/AOh14GiIgrlWyXxBfdlbwdBYCHU67PdGKNP5LpuHvPiM=s64",
      "userId": "04904541693543299783"
     }
    },
    "outputId": "27313f68-d13a-4c6a-9916-beaeaeed646d",
    "pycharm": {
     "name": "#%%\n"
    }
   },
   "source": [
    "X = np.matrix(A)\n",
    "X"
   ],
   "execution_count": null,
   "outputs": [
    {
     "output_type": "execute_result",
     "data": {
      "text/plain": [
       "matrix([[1, 2, 3],\n",
       "        [4, 5, 6]])"
      ]
     },
     "metadata": {
      "tags": []
     },
     "execution_count": 292
    }
   ]
  },
  {
   "cell_type": "code",
   "metadata": {
    "id": "63e02gDnguxb",
    "colab_type": "code",
    "colab": {
     "base_uri": "https://localhost:8080/",
     "height": 68
    },
    "executionInfo": {
     "status": "ok",
     "timestamp": 1595001763972,
     "user_tz": -330,
     "elapsed": 1279,
     "user": {
      "displayName": "Writobrata Bandyopadhyay",
      "photoUrl": "https://lh3.googleusercontent.com/a-/AOh14GiIgrlWyXxBfdlbwdBYCHU67PdGKNP5LpuHvPiM=s64",
      "userId": "04904541693543299783"
     }
    },
    "outputId": "c912b8b9-ccf6-4d83-85c1-e3e4a57e4d01",
    "pycharm": {
     "name": "#%%\n"
    }
   },
   "source": [
    "B"
   ],
   "execution_count": null,
   "outputs": [
    {
     "output_type": "execute_result",
     "data": {
      "text/plain": [
       "array([[1, 2],\n",
       "       [3, 4],\n",
       "       [5, 6]])"
      ]
     },
     "metadata": {
      "tags": []
     },
     "execution_count": 290
    }
   ]
  },
  {
   "cell_type": "code",
   "metadata": {
    "id": "553HsjiWg3Iq",
    "colab_type": "code",
    "colab": {
     "base_uri": "https://localhost:8080/",
     "height": 68
    },
    "executionInfo": {
     "status": "ok",
     "timestamp": 1595001796933,
     "user_tz": -330,
     "elapsed": 1149,
     "user": {
      "displayName": "Writobrata Bandyopadhyay",
      "photoUrl": "https://lh3.googleusercontent.com/a-/AOh14GiIgrlWyXxBfdlbwdBYCHU67PdGKNP5LpuHvPiM=s64",
      "userId": "04904541693543299783"
     }
    },
    "outputId": "bebd2395-62a9-4903-ae4b-c896926fb490",
    "pycharm": {
     "name": "#%%\n"
    }
   },
   "source": [
    "Y = np.matrix(B)\n",
    "Y"
   ],
   "execution_count": null,
   "outputs": [
    {
     "output_type": "execute_result",
     "data": {
      "text/plain": [
       "matrix([[1, 2],\n",
       "        [3, 4],\n",
       "        [5, 6]])"
      ]
     },
     "metadata": {
      "tags": []
     },
     "execution_count": 293
    }
   ]
  },
  {
   "cell_type": "code",
   "metadata": {
    "id": "FJl9IGxEg7Oi",
    "colab_type": "code",
    "colab": {
     "base_uri": "https://localhost:8080/",
     "height": 51
    },
    "executionInfo": {
     "status": "ok",
     "timestamp": 1595001810902,
     "user_tz": -330,
     "elapsed": 3839,
     "user": {
      "displayName": "Writobrata Bandyopadhyay",
      "photoUrl": "https://lh3.googleusercontent.com/a-/AOh14GiIgrlWyXxBfdlbwdBYCHU67PdGKNP5LpuHvPiM=s64",
      "userId": "04904541693543299783"
     }
    },
    "outputId": "672699de-e33a-4fe5-cc63-b10508c03960",
    "pycharm": {
     "name": "#%%\n"
    }
   },
   "source": [
    "X*Y"
   ],
   "execution_count": null,
   "outputs": [
    {
     "output_type": "execute_result",
     "data": {
      "text/plain": [
       "matrix([[22, 28],\n",
       "        [49, 64]])"
      ]
     },
     "metadata": {
      "tags": []
     },
     "execution_count": 294
    }
   ]
  },
  {
   "cell_type": "code",
   "metadata": {
    "id": "RQcpaSCshBma",
    "colab_type": "code",
    "colab": {
     "base_uri": "https://localhost:8080/",
     "height": 68
    },
    "executionInfo": {
     "status": "ok",
     "timestamp": 1595001818906,
     "user_tz": -330,
     "elapsed": 2222,
     "user": {
      "displayName": "Writobrata Bandyopadhyay",
      "photoUrl": "https://lh3.googleusercontent.com/a-/AOh14GiIgrlWyXxBfdlbwdBYCHU67PdGKNP5LpuHvPiM=s64",
      "userId": "04904541693543299783"
     }
    },
    "outputId": "3ce1ad64-0587-4249-d66c-dcd664460287",
    "pycharm": {
     "name": "#%%\n"
    }
   },
   "source": [
    "Y*X"
   ],
   "execution_count": null,
   "outputs": [
    {
     "output_type": "execute_result",
     "data": {
      "text/plain": [
       "matrix([[ 9, 12, 15],\n",
       "        [19, 26, 33],\n",
       "        [29, 40, 51]])"
      ]
     },
     "metadata": {
      "tags": []
     },
     "execution_count": 296
    }
   ]
  },
  {
   "cell_type": "code",
   "metadata": {
    "id": "dCu3E4dsimPO",
    "colab_type": "code",
    "colab": {
     "base_uri": "https://localhost:8080/",
     "height": 68
    },
    "executionInfo": {
     "status": "ok",
     "timestamp": 1595002236279,
     "user_tz": -330,
     "elapsed": 1895,
     "user": {
      "displayName": "Writobrata Bandyopadhyay",
      "photoUrl": "https://lh3.googleusercontent.com/a-/AOh14GiIgrlWyXxBfdlbwdBYCHU67PdGKNP5LpuHvPiM=s64",
      "userId": "04904541693543299783"
     }
    },
    "outputId": "f885d03a-9afb-488c-e7ec-6041c2e3f070",
    "pycharm": {
     "name": "#%%\n"
    }
   },
   "source": [
    "X.H   #Dagger of matrix - -> Transpose of complex conjugate"
   ],
   "execution_count": null,
   "outputs": [
    {
     "output_type": "execute_result",
     "data": {
      "text/plain": [
       "matrix([[1, 4],\n",
       "        [2, 5],\n",
       "        [3, 6]])"
      ]
     },
     "metadata": {
      "tags": []
     },
     "execution_count": 301
    }
   ]
  },
  {
   "cell_type": "markdown",
   "metadata": {
    "id": "9YGffoOGhIzw",
    "colab_type": "text",
    "pycharm": {
     "name": "#%% md\n"
    }
   },
   "source": [
    "##Complex Matrix"
   ]
  },
  {
   "cell_type": "code",
   "metadata": {
    "id": "ZEFbbSDwhCaa",
    "colab_type": "code",
    "colab": {
     "base_uri": "https://localhost:8080/",
     "height": 51
    },
    "executionInfo": {
     "status": "ok",
     "timestamp": 1595002039061,
     "user_tz": -330,
     "elapsed": 850,
     "user": {
      "displayName": "Writobrata Bandyopadhyay",
      "photoUrl": "https://lh3.googleusercontent.com/a-/AOh14GiIgrlWyXxBfdlbwdBYCHU67PdGKNP5LpuHvPiM=s64",
      "userId": "04904541693543299783"
     }
    },
    "outputId": "6c62eb41-f2ac-4657-b301-a2f68e559267",
    "pycharm": {
     "name": "#%%\n"
    }
   },
   "source": [
    "C = np.matrix([[1 + 2j, 0 + 1j],\n",
    "               [2 - 3j, 0 + 4j]])\n",
    "C"
   ],
   "execution_count": null,
   "outputs": [
    {
     "output_type": "execute_result",
     "data": {
      "text/plain": [
       "matrix([[1.+2.j, 0.+1.j],\n",
       "        [2.-3.j, 0.+4.j]])"
      ]
     },
     "metadata": {
      "tags": []
     },
     "execution_count": 297
    }
   ]
  },
  {
   "cell_type": "code",
   "metadata": {
    "id": "Zfhe5Z5gh6aA",
    "colab_type": "code",
    "colab": {
     "base_uri": "https://localhost:8080/",
     "height": 51
    },
    "executionInfo": {
     "status": "ok",
     "timestamp": 1595002049513,
     "user_tz": -330,
     "elapsed": 1340,
     "user": {
      "displayName": "Writobrata Bandyopadhyay",
      "photoUrl": "https://lh3.googleusercontent.com/a-/AOh14GiIgrlWyXxBfdlbwdBYCHU67PdGKNP5LpuHvPiM=s64",
      "userId": "04904541693543299783"
     }
    },
    "outputId": "89c344ca-1701-479c-ccbc-6b3ae0b0dc36",
    "pycharm": {
     "name": "#%%\n"
    }
   },
   "source": [
    "C.T"
   ],
   "execution_count": null,
   "outputs": [
    {
     "output_type": "execute_result",
     "data": {
      "text/plain": [
       "matrix([[1.+2.j, 2.-3.j],\n",
       "        [0.+1.j, 0.+4.j]])"
      ]
     },
     "metadata": {
      "tags": []
     },
     "execution_count": 298
    }
   ]
  },
  {
   "cell_type": "code",
   "metadata": {
    "id": "jwSqASn_h8zh",
    "colab_type": "code",
    "colab": {
     "base_uri": "https://localhost:8080/",
     "height": 51
    },
    "executionInfo": {
     "status": "ok",
     "timestamp": 1595002063707,
     "user_tz": -330,
     "elapsed": 942,
     "user": {
      "displayName": "Writobrata Bandyopadhyay",
      "photoUrl": "https://lh3.googleusercontent.com/a-/AOh14GiIgrlWyXxBfdlbwdBYCHU67PdGKNP5LpuHvPiM=s64",
      "userId": "04904541693543299783"
     }
    },
    "outputId": "504ea119-53a8-4e86-c0c3-28f36154ddf7",
    "pycharm": {
     "name": "#%%\n"
    }
   },
   "source": [
    "C.conjugate()"
   ],
   "execution_count": null,
   "outputs": [
    {
     "output_type": "execute_result",
     "data": {
      "text/plain": [
       "matrix([[1.-2.j, 0.-1.j],\n",
       "        [2.+3.j, 0.-4.j]])"
      ]
     },
     "metadata": {
      "tags": []
     },
     "execution_count": 299
    }
   ]
  },
  {
   "cell_type": "code",
   "metadata": {
    "id": "geiJvWMhiAZI",
    "colab_type": "code",
    "colab": {
     "base_uri": "https://localhost:8080/",
     "height": 51
    },
    "executionInfo": {
     "status": "ok",
     "timestamp": 1595002079052,
     "user_tz": -330,
     "elapsed": 1624,
     "user": {
      "displayName": "Writobrata Bandyopadhyay",
      "photoUrl": "https://lh3.googleusercontent.com/a-/AOh14GiIgrlWyXxBfdlbwdBYCHU67PdGKNP5LpuHvPiM=s64",
      "userId": "04904541693543299783"
     }
    },
    "outputId": "62e1aa5b-b088-4a57-b930-a91d2a21414b",
    "pycharm": {
     "name": "#%%\n"
    }
   },
   "source": [
    "C.H   "
   ],
   "execution_count": null,
   "outputs": [
    {
     "output_type": "execute_result",
     "data": {
      "text/plain": [
       "matrix([[1.-2.j, 2.+3.j],\n",
       "        [0.-1.j, 0.-4.j]])"
      ]
     },
     "metadata": {
      "tags": []
     },
     "execution_count": 300
    }
   ]
  },
  {
   "cell_type": "markdown",
   "metadata": {
    "id": "GFKEyVU1kQ5q",
    "colab_type": "text",
    "pycharm": {
     "name": "#%% md\n"
    }
   },
   "source": [
    "##Meshgrid"
   ]
  },
  {
   "cell_type": "code",
   "metadata": {
    "id": "FO-R1I0ciEA_",
    "colab_type": "code",
    "colab": {},
    "pycharm": {
     "name": "#%%\n"
    }
   },
   "source": [
    "import matplotlib.pyplot as plt"
   ],
   "execution_count": null,
   "outputs": []
  },
  {
   "cell_type": "code",
   "metadata": {
    "id": "WkfkfokDkWFI",
    "colab_type": "code",
    "colab": {},
    "pycharm": {
     "name": "#%%\n"
    }
   },
   "source": [
    "x = np.arange(-5, 5, 0.1)"
   ],
   "execution_count": null,
   "outputs": []
  },
  {
   "cell_type": "code",
   "metadata": {
    "id": "w3hvPUXmkcvq",
    "colab_type": "code",
    "colab": {},
    "pycharm": {
     "name": "#%%\n"
    }
   },
   "source": [
    "x"
   ],
   "execution_count": null,
   "outputs": []
  },
  {
   "cell_type": "code",
   "metadata": {
    "id": "mCbCrqydkdt6",
    "colab_type": "code",
    "colab": {
     "base_uri": "https://localhost:8080/",
     "height": 34
    },
    "executionInfo": {
     "status": "ok",
     "timestamp": 1595002721217,
     "user_tz": -330,
     "elapsed": 1191,
     "user": {
      "displayName": "Writobrata Bandyopadhyay",
      "photoUrl": "https://lh3.googleusercontent.com/a-/AOh14GiIgrlWyXxBfdlbwdBYCHU67PdGKNP5LpuHvPiM=s64",
      "userId": "04904541693543299783"
     }
    },
    "outputId": "881a6466-6392-477a-cbd8-0d64aac9ca73",
    "pycharm": {
     "name": "#%%\n"
    }
   },
   "source": [
    "x.shape"
   ],
   "execution_count": null,
   "outputs": [
    {
     "output_type": "execute_result",
     "data": {
      "text/plain": [
       "(100,)"
      ]
     },
     "metadata": {
      "tags": []
     },
     "execution_count": 306
    }
   ]
  },
  {
   "cell_type": "code",
   "metadata": {
    "id": "uGjYr0Jikgpy",
    "colab_type": "code",
    "colab": {},
    "pycharm": {
     "name": "#%%\n"
    }
   },
   "source": [
    "y = x"
   ],
   "execution_count": null,
   "outputs": []
  },
  {
   "cell_type": "code",
   "metadata": {
    "id": "Q2xqECb0kixK",
    "colab_type": "code",
    "colab": {},
    "pycharm": {
     "name": "#%%\n"
    }
   },
   "source": [
    "X, Y = np.meshgrid(x, y)"
   ],
   "execution_count": null,
   "outputs": []
  },
  {
   "cell_type": "code",
   "metadata": {
    "id": "LMc7tB1nknzp",
    "colab_type": "code",
    "colab": {},
    "pycharm": {
     "name": "#%%\n"
    }
   },
   "source": [
    "Z = np.sin(X**2 - Y**2)"
   ],
   "execution_count": null,
   "outputs": []
  },
  {
   "cell_type": "code",
   "metadata": {
    "id": "zLiCDZBRkuTJ",
    "colab_type": "code",
    "colab": {
     "base_uri": "https://localhost:8080/",
     "height": 282
    },
    "executionInfo": {
     "status": "ok",
     "timestamp": 1595002808146,
     "user_tz": -330,
     "elapsed": 2148,
     "user": {
      "displayName": "Writobrata Bandyopadhyay",
      "photoUrl": "https://lh3.googleusercontent.com/a-/AOh14GiIgrlWyXxBfdlbwdBYCHU67PdGKNP5LpuHvPiM=s64",
      "userId": "04904541693543299783"
     }
    },
    "outputId": "ca46725e-826c-4980-aa34-159d4325a3d9",
    "pycharm": {
     "name": "#%%\n"
    }
   },
   "source": [
    "plt.contourf(X,Y,Z)"
   ],
   "execution_count": null,
   "outputs": [
    {
     "output_type": "execute_result",
     "data": {
      "text/plain": [
       "<matplotlib.contour.QuadContourSet at 0x7fcef6d2d630>"
      ]
     },
     "metadata": {
      "tags": []
     },
     "execution_count": 312
    },
    {
     "output_type": "display_data",
     "data": {
      "image/png": "[encoded data removed]",
      "text/plain": [
       "<Figure size 432x288 with 1 Axes>"
      ]
     },
     "metadata": {
      "tags": [],
      "needs_background": "light"
     }
    }
   ]
  },
  {
   "cell_type": "markdown",
   "metadata": {
    "id": "-m2A3DcPmwGG",
    "colab_type": "text",
    "pycharm": {
     "name": "#%% md\n"
    }
   },
   "source": [
    "#**Python Numpy Applications**"
   ]
  },
  {
   "cell_type": "markdown",
   "metadata": {
    "id": "CzfouGI37jcc",
    "colab_type": "text",
    "pycharm": {
     "name": "#%% md\n"
    }
   },
   "source": [
    "##A text book problem:"
   ]
  },
  {
   "cell_type": "markdown",
   "metadata": {
    "id": "bEEq5j3S7mVy",
    "colab_type": "text",
    "pycharm": {
     "name": "#%% md\n"
    }
   },
   "source": [
    "Volume of a Parallelopiped:                 \n",
    "Three sides are given by three vetors:        \n",
    "A = 2i - 3j                                \n",
    "B = i + j - k                                  \n",
    "C = 3i - k                                \n",
    "Volume = A.(B cross C)"
   ]
  },
  {
   "cell_type": "code",
   "metadata": {
    "id": "cuG9LYAs7Qx8",
    "colab_type": "code",
    "colab": {},
    "executionInfo": {
     "status": "ok",
     "timestamp": 1595042489631,
     "user_tz": -330,
     "elapsed": 1310,
     "user": {
      "displayName": "Writobrata Bandyopadhyay",
      "photoUrl": "https://lh3.googleusercontent.com/a-/AOh14GiIgrlWyXxBfdlbwdBYCHU67PdGKNP5LpuHvPiM=s64",
      "userId": "04904541693543299783"
     }
    },
    "pycharm": {
     "name": "#%%\n"
    }
   },
   "source": [
    "A = np.array([2, -3, 0])"
   ],
   "execution_count": 4,
   "outputs": []
  },
  {
   "cell_type": "code",
   "metadata": {
    "id": "2cqhr7IB8N8Y",
    "colab_type": "code",
    "colab": {},
    "executionInfo": {
     "status": "ok",
     "timestamp": 1595042499874,
     "user_tz": -330,
     "elapsed": 849,
     "user": {
      "displayName": "Writobrata Bandyopadhyay",
      "photoUrl": "https://lh3.googleusercontent.com/a-/AOh14GiIgrlWyXxBfdlbwdBYCHU67PdGKNP5LpuHvPiM=s64",
      "userId": "04904541693543299783"
     }
    },
    "pycharm": {
     "name": "#%%\n"
    }
   },
   "source": [
    "B = np.array([1,1,-1])"
   ],
   "execution_count": 5,
   "outputs": []
  },
  {
   "cell_type": "code",
   "metadata": {
    "id": "BjcgqOZ68Qko",
    "colab_type": "code",
    "colab": {},
    "executionInfo": {
     "status": "ok",
     "timestamp": 1595042510035,
     "user_tz": -330,
     "elapsed": 1208,
     "user": {
      "displayName": "Writobrata Bandyopadhyay",
      "photoUrl": "https://lh3.googleusercontent.com/a-/AOh14GiIgrlWyXxBfdlbwdBYCHU67PdGKNP5LpuHvPiM=s64",
      "userId": "04904541693543299783"
     }
    },
    "pycharm": {
     "name": "#%%\n"
    }
   },
   "source": [
    "C = np.array([3,0,-1])"
   ],
   "execution_count": 6,
   "outputs": []
  },
  {
   "cell_type": "code",
   "metadata": {
    "id": "tiqjIXjn8S-U",
    "colab_type": "code",
    "colab": {},
    "executionInfo": {
     "status": "ok",
     "timestamp": 1595042549663,
     "user_tz": -330,
     "elapsed": 755,
     "user": {
      "displayName": "Writobrata Bandyopadhyay",
      "photoUrl": "https://lh3.googleusercontent.com/a-/AOh14GiIgrlWyXxBfdlbwdBYCHU67PdGKNP5LpuHvPiM=s64",
      "userId": "04904541693543299783"
     }
    },
    "pycharm": {
     "name": "#%%\n"
    }
   },
   "source": [
    "X = np.cross(B, C)"
   ],
   "execution_count": 7,
   "outputs": []
  },
  {
   "cell_type": "code",
   "metadata": {
    "id": "jTWwBcqn8clk",
    "colab_type": "code",
    "colab": {
     "base_uri": "https://localhost:8080/",
     "height": 34
    },
    "executionInfo": {
     "status": "ok",
     "timestamp": 1595042565247,
     "user_tz": -330,
     "elapsed": 1457,
     "user": {
      "displayName": "Writobrata Bandyopadhyay",
      "photoUrl": "https://lh3.googleusercontent.com/a-/AOh14GiIgrlWyXxBfdlbwdBYCHU67PdGKNP5LpuHvPiM=s64",
      "userId": "04904541693543299783"
     }
    },
    "outputId": "b493a299-aa83-4e71-fd42-807da1f22841",
    "pycharm": {
     "name": "#%%\n"
    }
   },
   "source": [
    "X"
   ],
   "execution_count": 9,
   "outputs": [
    {
     "output_type": "execute_result",
     "data": {
      "text/plain": [
       "array([-1, -2, -3])"
      ]
     },
     "metadata": {
      "tags": []
     },
     "execution_count": 9
    }
   ]
  },
  {
   "cell_type": "code",
   "metadata": {
    "id": "DxV1G_SI8fjS",
    "colab_type": "code",
    "colab": {
     "base_uri": "https://localhost:8080/",
     "height": 34
    },
    "executionInfo": {
     "status": "ok",
     "timestamp": 1595042600994,
     "user_tz": -330,
     "elapsed": 688,
     "user": {
      "displayName": "Writobrata Bandyopadhyay",
      "photoUrl": "https://lh3.googleusercontent.com/a-/AOh14GiIgrlWyXxBfdlbwdBYCHU67PdGKNP5LpuHvPiM=s64",
      "userId": "04904541693543299783"
     }
    },
    "outputId": "3de68c66-388e-42fe-d797-76bfab2d8889",
    "pycharm": {
     "name": "#%%\n"
    }
   },
   "source": [
    "np.inner(A,X)"
   ],
   "execution_count": 12,
   "outputs": [
    {
     "output_type": "execute_result",
     "data": {
      "text/plain": [
       "4"
      ]
     },
     "metadata": {
      "tags": []
     },
     "execution_count": 12
    }
   ]
  },
  {
   "cell_type": "markdown",
   "metadata": {
    "id": "FFz1R8zN8_yl",
    "colab_type": "text",
    "pycharm": {
     "name": "#%% md\n"
    }
   },
   "source": [
    "##Matrix Inverse"
   ]
  },
  {
   "cell_type": "code",
   "metadata": {
    "id": "vfgZyeI08i1S",
    "colab_type": "code",
    "colab": {
     "base_uri": "https://localhost:8080/",
     "height": 68
    },
    "executionInfo": {
     "status": "ok",
     "timestamp": 1595042783249,
     "user_tz": -330,
     "elapsed": 1750,
     "user": {
      "displayName": "Writobrata Bandyopadhyay",
      "photoUrl": "https://lh3.googleusercontent.com/a-/AOh14GiIgrlWyXxBfdlbwdBYCHU67PdGKNP5LpuHvPiM=s64",
      "userId": "04904541693543299783"
     }
    },
    "outputId": "3ff622ee-e03a-44c4-a9a0-c8d8c3b6383e",
    "pycharm": {
     "name": "#%%\n"
    }
   },
   "source": [
    "A = np.array([[1,1,1], [1,2,3], [1,4,9]])\n",
    "A"
   ],
   "execution_count": 16,
   "outputs": [
    {
     "output_type": "execute_result",
     "data": {
      "text/plain": [
       "array([[1, 1, 1],\n",
       "       [1, 2, 3],\n",
       "       [1, 4, 9]])"
      ]
     },
     "metadata": {
      "tags": []
     },
     "execution_count": 16
    }
   ]
  },
  {
   "cell_type": "code",
   "metadata": {
    "id": "gwyNsKKv9UcE",
    "colab_type": "code",
    "colab": {},
    "executionInfo": {
     "status": "ok",
     "timestamp": 1595042800741,
     "user_tz": -330,
     "elapsed": 1203,
     "user": {
      "displayName": "Writobrata Bandyopadhyay",
      "photoUrl": "https://lh3.googleusercontent.com/a-/AOh14GiIgrlWyXxBfdlbwdBYCHU67PdGKNP5LpuHvPiM=s64",
      "userId": "04904541693543299783"
     }
    },
    "pycharm": {
     "name": "#%%\n"
    }
   },
   "source": [
    "Ainv = np.linalg.inv(A)"
   ],
   "execution_count": 17,
   "outputs": []
  },
  {
   "cell_type": "code",
   "metadata": {
    "id": "EEiiDsgR9Z8x",
    "colab_type": "code",
    "colab": {
     "base_uri": "https://localhost:8080/",
     "height": 68
    },
    "executionInfo": {
     "status": "ok",
     "timestamp": 1595042806590,
     "user_tz": -330,
     "elapsed": 1323,
     "user": {
      "displayName": "Writobrata Bandyopadhyay",
      "photoUrl": "https://lh3.googleusercontent.com/a-/AOh14GiIgrlWyXxBfdlbwdBYCHU67PdGKNP5LpuHvPiM=s64",
      "userId": "04904541693543299783"
     }
    },
    "outputId": "714bafd7-65b6-43b5-bbc2-a1857c322ddf",
    "pycharm": {
     "name": "#%%\n"
    }
   },
   "source": [
    "Ainv"
   ],
   "execution_count": 18,
   "outputs": [
    {
     "output_type": "execute_result",
     "data": {
      "text/plain": [
       "array([[ 3. , -2.5,  0.5],\n",
       "       [-3. ,  4. , -1. ],\n",
       "       [ 1. , -1.5,  0.5]])"
      ]
     },
     "metadata": {
      "tags": []
     },
     "execution_count": 18
    }
   ]
  },
  {
   "cell_type": "code",
   "metadata": {
    "id": "uRmsMGR79bVb",
    "colab_type": "code",
    "colab": {
     "base_uri": "https://localhost:8080/",
     "height": 68
    },
    "executionInfo": {
     "status": "ok",
     "timestamp": 1595042821043,
     "user_tz": -330,
     "elapsed": 1295,
     "user": {
      "displayName": "Writobrata Bandyopadhyay",
      "photoUrl": "https://lh3.googleusercontent.com/a-/AOh14GiIgrlWyXxBfdlbwdBYCHU67PdGKNP5LpuHvPiM=s64",
      "userId": "04904541693543299783"
     }
    },
    "outputId": "8d3363e5-9eb9-45be-af69-83a29ce5aa0e",
    "pycharm": {
     "name": "#%%\n"
    }
   },
   "source": [
    "np.dot(A, Ainv)"
   ],
   "execution_count": 19,
   "outputs": [
    {
     "output_type": "execute_result",
     "data": {
      "text/plain": [
       "array([[ 1.00000000e+00,  0.00000000e+00,  0.00000000e+00],\n",
       "       [ 0.00000000e+00,  1.00000000e+00, -1.11022302e-16],\n",
       "       [ 4.44089210e-16, -4.44089210e-16,  1.00000000e+00]])"
      ]
     },
     "metadata": {
      "tags": []
     },
     "execution_count": 19
    }
   ]
  },
  {
   "cell_type": "markdown",
   "metadata": {
    "id": "WAdAoZXJ9i3t",
    "colab_type": "text",
    "pycharm": {
     "name": "#%% md\n"
    }
   },
   "source": [
    "##Eigen values, Eigen Vectors"
   ]
  },
  {
   "cell_type": "code",
   "metadata": {
    "id": "Lrn82re19e3a",
    "colab_type": "code",
    "colab": {},
    "executionInfo": {
     "status": "ok",
     "timestamp": 1595042896099,
     "user_tz": -330,
     "elapsed": 857,
     "user": {
      "displayName": "Writobrata Bandyopadhyay",
      "photoUrl": "https://lh3.googleusercontent.com/a-/AOh14GiIgrlWyXxBfdlbwdBYCHU67PdGKNP5LpuHvPiM=s64",
      "userId": "04904541693543299783"
     }
    },
    "pycharm": {
     "name": "#%%\n"
    }
   },
   "source": [
    "import numpy.linalg as lin"
   ],
   "execution_count": 20,
   "outputs": []
  },
  {
   "cell_type": "code",
   "metadata": {
    "id": "bNQTr7tk9xMj",
    "colab_type": "code",
    "colab": {
     "base_uri": "https://localhost:8080/",
     "height": 51
    },
    "executionInfo": {
     "status": "ok",
     "timestamp": 1595043013308,
     "user_tz": -330,
     "elapsed": 735,
     "user": {
      "displayName": "Writobrata Bandyopadhyay",
      "photoUrl": "https://lh3.googleusercontent.com/a-/AOh14GiIgrlWyXxBfdlbwdBYCHU67PdGKNP5LpuHvPiM=s64",
      "userId": "04904541693543299783"
     }
    },
    "outputId": "26259119-0b82-4fdd-ae0a-f653439e5304",
    "pycharm": {
     "name": "#%%\n"
    }
   },
   "source": [
    "A = np.array([[1,2], [3,4]])\n",
    "A"
   ],
   "execution_count": 21,
   "outputs": [
    {
     "output_type": "execute_result",
     "data": {
      "text/plain": [
       "array([[1, 2],\n",
       "       [3, 4]])"
      ]
     },
     "metadata": {
      "tags": []
     },
     "execution_count": 21
    }
   ]
  },
  {
   "cell_type": "code",
   "metadata": {
    "id": "9txTcOSH-N3q",
    "colab_type": "code",
    "colab": {
     "base_uri": "https://localhost:8080/",
     "height": 51
    },
    "executionInfo": {
     "status": "ok",
     "timestamp": 1595043033038,
     "user_tz": -330,
     "elapsed": 1243,
     "user": {
      "displayName": "Writobrata Bandyopadhyay",
      "photoUrl": "https://lh3.googleusercontent.com/a-/AOh14GiIgrlWyXxBfdlbwdBYCHU67PdGKNP5LpuHvPiM=s64",
      "userId": "04904541693543299783"
     }
    },
    "outputId": "c1021714-763d-4472-c1df-ae4bce52dae1",
    "pycharm": {
     "name": "#%%\n"
    }
   },
   "source": [
    "lin.eig(A)"
   ],
   "execution_count": 23,
   "outputs": [
    {
     "output_type": "execute_result",
     "data": {
      "text/plain": [
       "(array([-0.37228132,  5.37228132]), array([[-0.82456484, -0.41597356],\n",
       "        [ 0.56576746, -0.90937671]]))"
      ]
     },
     "metadata": {
      "tags": []
     },
     "execution_count": 23
    }
   ]
  },
  {
   "cell_type": "markdown",
   "metadata": {
    "id": "nBrU28pa-knR",
    "colab_type": "text",
    "pycharm": {
     "name": "#%% md\n"
    }
   },
   "source": [
    "Inside the tuple we have two arrays. 1st array contains the eigen values. 2nd array contains the eigen vectors"
   ]
  },
  {
   "cell_type": "code",
   "metadata": {
    "id": "QT4idxwD-QHm",
    "colab_type": "code",
    "colab": {},
    "executionInfo": {
     "status": "ok",
     "timestamp": 1595043180566,
     "user_tz": -330,
     "elapsed": 1279,
     "user": {
      "displayName": "Writobrata Bandyopadhyay",
      "photoUrl": "https://lh3.googleusercontent.com/a-/AOh14GiIgrlWyXxBfdlbwdBYCHU67PdGKNP5LpuHvPiM=s64",
      "userId": "04904541693543299783"
     }
    },
    "pycharm": {
     "name": "#%%\n"
    }
   },
   "source": [
    "eg_val, eg_vec = lin.eig(A)"
   ],
   "execution_count": 24,
   "outputs": []
  },
  {
   "cell_type": "code",
   "metadata": {
    "id": "I0fNRDLs-2gX",
    "colab_type": "code",
    "colab": {
     "base_uri": "https://localhost:8080/",
     "height": 34
    },
    "executionInfo": {
     "status": "ok",
     "timestamp": 1595043196577,
     "user_tz": -330,
     "elapsed": 1395,
     "user": {
      "displayName": "Writobrata Bandyopadhyay",
      "photoUrl": "https://lh3.googleusercontent.com/a-/AOh14GiIgrlWyXxBfdlbwdBYCHU67PdGKNP5LpuHvPiM=s64",
      "userId": "04904541693543299783"
     }
    },
    "outputId": "14c561ab-61c8-423a-9e56-5f69fe4c7bf4",
    "pycharm": {
     "name": "#%%\n"
    }
   },
   "source": [
    "eg_val"
   ],
   "execution_count": 25,
   "outputs": [
    {
     "output_type": "execute_result",
     "data": {
      "text/plain": [
       "array([-0.37228132,  5.37228132])"
      ]
     },
     "metadata": {
      "tags": []
     },
     "execution_count": 25
    }
   ]
  },
  {
   "cell_type": "code",
   "metadata": {
    "id": "H10hz8eW-6in",
    "colab_type": "code",
    "colab": {
     "base_uri": "https://localhost:8080/",
     "height": 51
    },
    "executionInfo": {
     "status": "ok",
     "timestamp": 1595043204913,
     "user_tz": -330,
     "elapsed": 1577,
     "user": {
      "displayName": "Writobrata Bandyopadhyay",
      "photoUrl": "https://lh3.googleusercontent.com/a-/AOh14GiIgrlWyXxBfdlbwdBYCHU67PdGKNP5LpuHvPiM=s64",
      "userId": "04904541693543299783"
     }
    },
    "outputId": "64641eab-9dc9-471b-de43-fa367fb0b874",
    "pycharm": {
     "name": "#%%\n"
    }
   },
   "source": [
    "eg_vec"
   ],
   "execution_count": 26,
   "outputs": [
    {
     "output_type": "execute_result",
     "data": {
      "text/plain": [
       "array([[-0.82456484, -0.41597356],\n",
       "       [ 0.56576746, -0.90937671]])"
      ]
     },
     "metadata": {
      "tags": []
     },
     "execution_count": 26
    }
   ]
  },
  {
   "cell_type": "markdown",
   "metadata": {
    "id": "zVqVw78f_BTN",
    "colab_type": "text",
    "pycharm": {
     "name": "#%% md\n"
    }
   },
   "source": [
    "1st column is the eigen vector corresponding to -0.377228132             \n",
    "2nd column is the eigen vector corresponding to 5.37228132"
   ]
  },
  {
   "cell_type": "code",
   "metadata": {
    "id": "qpWoZ-No-8h_",
    "colab_type": "code",
    "colab": {
     "base_uri": "https://localhost:8080/",
     "height": 34
    },
    "executionInfo": {
     "status": "ok",
     "timestamp": 1595043309842,
     "user_tz": -330,
     "elapsed": 1238,
     "user": {
      "displayName": "Writobrata Bandyopadhyay",
      "photoUrl": "https://lh3.googleusercontent.com/a-/AOh14GiIgrlWyXxBfdlbwdBYCHU67PdGKNP5LpuHvPiM=s64",
      "userId": "04904541693543299783"
     }
    },
    "outputId": "a7e34297-0c71-412c-9236-85547f7e8d02",
    "pycharm": {
     "name": "#%%\n"
    }
   },
   "source": [
    "eg_vec[:,0]"
   ],
   "execution_count": 27,
   "outputs": [
    {
     "output_type": "execute_result",
     "data": {
      "text/plain": [
       "array([-0.82456484,  0.56576746])"
      ]
     },
     "metadata": {
      "tags": []
     },
     "execution_count": 27
    }
   ]
  },
  {
   "cell_type": "code",
   "metadata": {
    "id": "8JLR8sB0_WOX",
    "colab_type": "code",
    "colab": {
     "base_uri": "https://localhost:8080/",
     "height": 34
    },
    "executionInfo": {
     "status": "ok",
     "timestamp": 1595043331453,
     "user_tz": -330,
     "elapsed": 1443,
     "user": {
      "displayName": "Writobrata Bandyopadhyay",
      "photoUrl": "https://lh3.googleusercontent.com/a-/AOh14GiIgrlWyXxBfdlbwdBYCHU67PdGKNP5LpuHvPiM=s64",
      "userId": "04904541693543299783"
     }
    },
    "outputId": "d39f37d9-2f35-4b3b-e2e9-3a8523252ae7",
    "pycharm": {
     "name": "#%%\n"
    }
   },
   "source": [
    "eg_vec[:,1]"
   ],
   "execution_count": 28,
   "outputs": [
    {
     "output_type": "execute_result",
     "data": {
      "text/plain": [
       "array([-0.41597356, -0.90937671])"
      ]
     },
     "metadata": {
      "tags": []
     },
     "execution_count": 28
    }
   ]
  },
  {
   "cell_type": "markdown",
   "metadata": {
    "id": "R6CmTZD1_jX6",
    "colab_type": "text",
    "pycharm": {
     "name": "#%% md\n"
    }
   },
   "source": [
    "##Linear Algebra"
   ]
  },
  {
   "cell_type": "markdown",
   "metadata": {
    "id": "Jgwp1Eed_onz",
    "colab_type": "text",
    "pycharm": {
     "name": "#%% md\n"
    }
   },
   "source": [
    "*   x1 + 2x2 - x3 = 1\n",
    "*   2x1 + x2 + 4x3 = 2\n",
    "*   3x1 + 3x2 + 4x3 = 1\n",
    "* Solve:  AX = B"
   ]
  },
  {
   "cell_type": "code",
   "metadata": {
    "id": "5luXdqtz_bdu",
    "colab_type": "code",
    "colab": {
     "base_uri": "https://localhost:8080/",
     "height": 68
    },
    "executionInfo": {
     "status": "ok",
     "timestamp": 1595044678143,
     "user_tz": -330,
     "elapsed": 1426,
     "user": {
      "displayName": "Writobrata Bandyopadhyay",
      "photoUrl": "https://lh3.googleusercontent.com/a-/AOh14GiIgrlWyXxBfdlbwdBYCHU67PdGKNP5LpuHvPiM=s64",
      "userId": "04904541693543299783"
     }
    },
    "outputId": "1a2bb027-5a73-4392-d9e4-4e148f19f9aa",
    "pycharm": {
     "name": "#%%\n"
    }
   },
   "source": [
    "A = np.array([[1,2,1], [2,1,4], [3,3,4]])\n",
    "A"
   ],
   "execution_count": 29,
   "outputs": [
    {
     "output_type": "execute_result",
     "data": {
      "text/plain": [
       "array([[1, 2, 1],\n",
       "       [2, 1, 4],\n",
       "       [3, 3, 4]])"
      ]
     },
     "metadata": {
      "tags": []
     },
     "execution_count": 29
    }
   ]
  },
  {
   "cell_type": "code",
   "metadata": {
    "id": "_z4jStMwEkEO",
    "colab_type": "code",
    "colab": {},
    "executionInfo": {
     "status": "ok",
     "timestamp": 1595044690120,
     "user_tz": -330,
     "elapsed": 815,
     "user": {
      "displayName": "Writobrata Bandyopadhyay",
      "photoUrl": "https://lh3.googleusercontent.com/a-/AOh14GiIgrlWyXxBfdlbwdBYCHU67PdGKNP5LpuHvPiM=s64",
      "userId": "04904541693543299783"
     }
    },
    "pycharm": {
     "name": "#%%\n"
    }
   },
   "source": [
    "B = np.array([1,2,1])"
   ],
   "execution_count": 30,
   "outputs": []
  },
  {
   "cell_type": "code",
   "metadata": {
    "id": "mdmqP3MbEnT5",
    "colab_type": "code",
    "colab": {
     "base_uri": "https://localhost:8080/",
     "height": 34
    },
    "executionInfo": {
     "status": "ok",
     "timestamp": 1595044727438,
     "user_tz": -330,
     "elapsed": 1984,
     "user": {
      "displayName": "Writobrata Bandyopadhyay",
      "photoUrl": "https://lh3.googleusercontent.com/a-/AOh14GiIgrlWyXxBfdlbwdBYCHU67PdGKNP5LpuHvPiM=s64",
      "userId": "04904541693543299783"
     }
    },
    "outputId": "01ed4713-d529-4d51-a9fc-c3cc4f435015",
    "pycharm": {
     "name": "#%%\n"
    }
   },
   "source": [
    "print(np.linalg.solve(A,B))"
   ],
   "execution_count": 31,
   "outputs": [
    {
     "output_type": "stream",
     "text": [
      "[-3.66666667  1.33333333  2.        ]\n"
     ],
     "name": "stdout"
    }
   ]
  },
  {
   "cell_type": "markdown",
   "metadata": {
    "id": "2xcNtfG7E611",
    "colab_type": "text",
    "pycharm": {
     "name": "#%% md\n"
    }
   },
   "source": [
    "##Ploynomial by Numpy"
   ]
  },
  {
   "cell_type": "code",
   "metadata": {
    "id": "B-CgmkawEv6x",
    "colab_type": "code",
    "colab": {},
    "executionInfo": {
     "status": "ok",
     "timestamp": 1595044798950,
     "user_tz": -330,
     "elapsed": 1281,
     "user": {
      "displayName": "Writobrata Bandyopadhyay",
      "photoUrl": "https://lh3.googleusercontent.com/a-/AOh14GiIgrlWyXxBfdlbwdBYCHU67PdGKNP5LpuHvPiM=s64",
      "userId": "04904541693543299783"
     }
    },
    "pycharm": {
     "name": "#%%\n"
    }
   },
   "source": [
    "from numpy import poly1d"
   ],
   "execution_count": 32,
   "outputs": []
  },
  {
   "cell_type": "code",
   "metadata": {
    "id": "YFMtFhSKFBes",
    "colab_type": "code",
    "colab": {},
    "executionInfo": {
     "status": "ok",
     "timestamp": 1595044820839,
     "user_tz": -330,
     "elapsed": 1328,
     "user": {
      "displayName": "Writobrata Bandyopadhyay",
      "photoUrl": "https://lh3.googleusercontent.com/a-/AOh14GiIgrlWyXxBfdlbwdBYCHU67PdGKNP5LpuHvPiM=s64",
      "userId": "04904541693543299783"
     }
    },
    "pycharm": {
     "name": "#%%\n"
    }
   },
   "source": [
    "p = np.poly1d([1,2,3])"
   ],
   "execution_count": 33,
   "outputs": []
  },
  {
   "cell_type": "code",
   "metadata": {
    "id": "eF0xYOgtFHFw",
    "colab_type": "code",
    "colab": {
     "base_uri": "https://localhost:8080/",
     "height": 51
    },
    "executionInfo": {
     "status": "ok",
     "timestamp": 1595044835112,
     "user_tz": -330,
     "elapsed": 1399,
     "user": {
      "displayName": "Writobrata Bandyopadhyay",
      "photoUrl": "https://lh3.googleusercontent.com/a-/AOh14GiIgrlWyXxBfdlbwdBYCHU67PdGKNP5LpuHvPiM=s64",
      "userId": "04904541693543299783"
     }
    },
    "outputId": "95758fbd-3037-4b48-d466-0b246e89d804",
    "pycharm": {
     "name": "#%%\n"
    }
   },
   "source": [
    "print(p)"
   ],
   "execution_count": 35,
   "outputs": [
    {
     "output_type": "stream",
     "text": [
      "   2\n",
      "1 x + 2 x + 3\n"
     ],
     "name": "stdout"
    }
   ]
  },
  {
   "cell_type": "code",
   "metadata": {
    "id": "Yk_zhmnGFHzP",
    "colab_type": "code",
    "colab": {
     "base_uri": "https://localhost:8080/",
     "height": 34
    },
    "executionInfo": {
     "status": "ok",
     "timestamp": 1595044886189,
     "user_tz": -330,
     "elapsed": 797,
     "user": {
      "displayName": "Writobrata Bandyopadhyay",
      "photoUrl": "https://lh3.googleusercontent.com/a-/AOh14GiIgrlWyXxBfdlbwdBYCHU67PdGKNP5LpuHvPiM=s64",
      "userId": "04904541693543299783"
     }
    },
    "outputId": "9856dd9e-fdaf-4a84-b355-980e1a90e7bf",
    "pycharm": {
     "name": "#%%\n"
    }
   },
   "source": [
    "p(2)  #x is replaced by 2"
   ],
   "execution_count": 36,
   "outputs": [
    {
     "output_type": "execute_result",
     "data": {
      "text/plain": [
       "11"
      ]
     },
     "metadata": {
      "tags": []
     },
     "execution_count": 36
    }
   ]
  },
  {
   "cell_type": "code",
   "metadata": {
    "id": "8A3bfuyAFXDX",
    "colab_type": "code",
    "colab": {
     "base_uri": "https://localhost:8080/",
     "height": 34
    },
    "executionInfo": {
     "status": "ok",
     "timestamp": 1595044893989,
     "user_tz": -330,
     "elapsed": 1470,
     "user": {
      "displayName": "Writobrata Bandyopadhyay",
      "photoUrl": "https://lh3.googleusercontent.com/a-/AOh14GiIgrlWyXxBfdlbwdBYCHU67PdGKNP5LpuHvPiM=s64",
      "userId": "04904541693543299783"
     }
    },
    "outputId": "7789af16-3f9e-4de8-a055-99061a9e15e0",
    "pycharm": {
     "name": "#%%\n"
    }
   },
   "source": [
    "p(-1)"
   ],
   "execution_count": 37,
   "outputs": [
    {
     "output_type": "execute_result",
     "data": {
      "text/plain": [
       "2"
      ]
     },
     "metadata": {
      "tags": []
     },
     "execution_count": 37
    }
   ]
  },
  {
   "cell_type": "code",
   "metadata": {
    "id": "7ZFSW-z9FY6a",
    "colab_type": "code",
    "colab": {
     "base_uri": "https://localhost:8080/",
     "height": 34
    },
    "executionInfo": {
     "status": "ok",
     "timestamp": 1595044935593,
     "user_tz": -330,
     "elapsed": 1469,
     "user": {
      "displayName": "Writobrata Bandyopadhyay",
      "photoUrl": "https://lh3.googleusercontent.com/a-/AOh14GiIgrlWyXxBfdlbwdBYCHU67PdGKNP5LpuHvPiM=s64",
      "userId": "04904541693543299783"
     }
    },
    "outputId": "8cefb8b2-6cfa-4a6d-884c-7433a51134fe",
    "pycharm": {
     "name": "#%%\n"
    }
   },
   "source": [
    "p.c  #Coefficients"
   ],
   "execution_count": 38,
   "outputs": [
    {
     "output_type": "execute_result",
     "data": {
      "text/plain": [
       "array([1, 2, 3])"
      ]
     },
     "metadata": {
      "tags": []
     },
     "execution_count": 38
    }
   ]
  },
  {
   "cell_type": "code",
   "metadata": {
    "id": "Fq9CjAr3FjFv",
    "colab_type": "code",
    "colab": {
     "base_uri": "https://localhost:8080/",
     "height": 34
    },
    "executionInfo": {
     "status": "ok",
     "timestamp": 1595044952223,
     "user_tz": -330,
     "elapsed": 1660,
     "user": {
      "displayName": "Writobrata Bandyopadhyay",
      "photoUrl": "https://lh3.googleusercontent.com/a-/AOh14GiIgrlWyXxBfdlbwdBYCHU67PdGKNP5LpuHvPiM=s64",
      "userId": "04904541693543299783"
     }
    },
    "outputId": "976642a6-8dcd-46e2-81a0-8a2f83f004dc",
    "pycharm": {
     "name": "#%%\n"
    }
   },
   "source": [
    "p.order  #order of polyomial"
   ],
   "execution_count": 39,
   "outputs": [
    {
     "output_type": "execute_result",
     "data": {
      "text/plain": [
       "2"
      ]
     },
     "metadata": {
      "tags": []
     },
     "execution_count": 39
    }
   ]
  },
  {
   "cell_type": "code",
   "metadata": {
    "id": "OjEOpANdFnGf",
    "colab_type": "code",
    "colab": {
     "base_uri": "https://localhost:8080/",
     "height": 34
    },
    "executionInfo": {
     "status": "ok",
     "timestamp": 1595044965665,
     "user_tz": -330,
     "elapsed": 1599,
     "user": {
      "displayName": "Writobrata Bandyopadhyay",
      "photoUrl": "https://lh3.googleusercontent.com/a-/AOh14GiIgrlWyXxBfdlbwdBYCHU67PdGKNP5LpuHvPiM=s64",
      "userId": "04904541693543299783"
     }
    },
    "outputId": "41edb22a-7997-45b2-83dc-2fe593d72057",
    "pycharm": {
     "name": "#%%\n"
    }
   },
   "source": [
    "type(p)"
   ],
   "execution_count": 40,
   "outputs": [
    {
     "output_type": "execute_result",
     "data": {
      "text/plain": [
       "numpy.poly1d"
      ]
     },
     "metadata": {
      "tags": []
     },
     "execution_count": 40
    }
   ]
  },
  {
   "cell_type": "code",
   "metadata": {
    "id": "Hqalc-XvFqMH",
    "colab_type": "code",
    "colab": {},
    "executionInfo": {
     "status": "ok",
     "timestamp": 1595044989661,
     "user_tz": -330,
     "elapsed": 1384,
     "user": {
      "displayName": "Writobrata Bandyopadhyay",
      "photoUrl": "https://lh3.googleusercontent.com/a-/AOh14GiIgrlWyXxBfdlbwdBYCHU67PdGKNP5LpuHvPiM=s64",
      "userId": "04904541693543299783"
     }
    },
    "pycharm": {
     "name": "#%%\n"
    }
   },
   "source": [
    "p1 = poly1d([1,5,6])"
   ],
   "execution_count": 41,
   "outputs": []
  },
  {
   "cell_type": "code",
   "metadata": {
    "id": "tb3CVKiNFwT3",
    "colab_type": "code",
    "colab": {},
    "executionInfo": {
     "status": "ok",
     "timestamp": 1595044999948,
     "user_tz": -330,
     "elapsed": 1190,
     "user": {
      "displayName": "Writobrata Bandyopadhyay",
      "photoUrl": "https://lh3.googleusercontent.com/a-/AOh14GiIgrlWyXxBfdlbwdBYCHU67PdGKNP5LpuHvPiM=s64",
      "userId": "04904541693543299783"
     }
    },
    "pycharm": {
     "name": "#%%\n"
    }
   },
   "source": [
    "p2 = poly1d([1,2])"
   ],
   "execution_count": 42,
   "outputs": []
  },
  {
   "cell_type": "code",
   "metadata": {
    "id": "XbBNbZmRFyof",
    "colab_type": "code",
    "colab": {
     "base_uri": "https://localhost:8080/",
     "height": 34
    },
    "executionInfo": {
     "status": "ok",
     "timestamp": 1595045004063,
     "user_tz": -330,
     "elapsed": 1477,
     "user": {
      "displayName": "Writobrata Bandyopadhyay",
      "photoUrl": "https://lh3.googleusercontent.com/a-/AOh14GiIgrlWyXxBfdlbwdBYCHU67PdGKNP5LpuHvPiM=s64",
      "userId": "04904541693543299783"
     }
    },
    "outputId": "211991c1-38bb-4df7-e781-442dfd77913b",
    "pycharm": {
     "name": "#%%\n"
    }
   },
   "source": [
    "p1 + p2"
   ],
   "execution_count": 43,
   "outputs": [
    {
     "output_type": "execute_result",
     "data": {
      "text/plain": [
       "poly1d([1, 6, 8])"
      ]
     },
     "metadata": {
      "tags": []
     },
     "execution_count": 43
    }
   ]
  },
  {
   "cell_type": "code",
   "metadata": {
    "id": "L3Z-Pov9Fzxn",
    "colab_type": "code",
    "colab": {
     "base_uri": "https://localhost:8080/",
     "height": 34
    },
    "executionInfo": {
     "status": "ok",
     "timestamp": 1595045038623,
     "user_tz": -330,
     "elapsed": 815,
     "user": {
      "displayName": "Writobrata Bandyopadhyay",
      "photoUrl": "https://lh3.googleusercontent.com/a-/AOh14GiIgrlWyXxBfdlbwdBYCHU67PdGKNP5LpuHvPiM=s64",
      "userId": "04904541693543299783"
     }
    },
    "outputId": "414cba7d-5967-4140-b3a0-07c8d0d202c1",
    "pycharm": {
     "name": "#%%\n"
    }
   },
   "source": [
    "p1*p2"
   ],
   "execution_count": 44,
   "outputs": [
    {
     "output_type": "execute_result",
     "data": {
      "text/plain": [
       "poly1d([ 1,  7, 16, 12])"
      ]
     },
     "metadata": {
      "tags": []
     },
     "execution_count": 44
    }
   ]
  },
  {
   "cell_type": "code",
   "metadata": {
    "id": "K0XKWD6TF8L3",
    "colab_type": "code",
    "colab": {
     "base_uri": "https://localhost:8080/",
     "height": 34
    },
    "executionInfo": {
     "status": "ok",
     "timestamp": 1595045045825,
     "user_tz": -330,
     "elapsed": 1613,
     "user": {
      "displayName": "Writobrata Bandyopadhyay",
      "photoUrl": "https://lh3.googleusercontent.com/a-/AOh14GiIgrlWyXxBfdlbwdBYCHU67PdGKNP5LpuHvPiM=s64",
      "userId": "04904541693543299783"
     }
    },
    "outputId": "5cb4025c-ce06-45b5-e8c2-ccb3d40da39e",
    "pycharm": {
     "name": "#%%\n"
    }
   },
   "source": [
    "p1/p2   #First is qoutient, 2nd is remainder"
   ],
   "execution_count": 45,
   "outputs": [
    {
     "output_type": "execute_result",
     "data": {
      "text/plain": [
       "(poly1d([1., 3.]), poly1d([0.]))"
      ]
     },
     "metadata": {
      "tags": []
     },
     "execution_count": 45
    }
   ]
  },
  {
   "cell_type": "code",
   "metadata": {
    "id": "9n3QpQE7F98W",
    "colab_type": "code",
    "colab": {
     "base_uri": "https://localhost:8080/",
     "height": 34
    },
    "executionInfo": {
     "status": "ok",
     "timestamp": 1595045094619,
     "user_tz": -330,
     "elapsed": 1345,
     "user": {
      "displayName": "Writobrata Bandyopadhyay",
      "photoUrl": "https://lh3.googleusercontent.com/a-/AOh14GiIgrlWyXxBfdlbwdBYCHU67PdGKNP5LpuHvPiM=s64",
      "userId": "04904541693543299783"
     }
    },
    "outputId": "a3ece5ca-5394-4f80-8d73-3d8bb58b1b1b",
    "pycharm": {
     "name": "#%%\n"
    }
   },
   "source": [
    "p2**2"
   ],
   "execution_count": 46,
   "outputs": [
    {
     "output_type": "execute_result",
     "data": {
      "text/plain": [
       "poly1d([1, 4, 4])"
      ]
     },
     "metadata": {
      "tags": []
     },
     "execution_count": 46
    }
   ]
  },
  {
   "cell_type": "code",
   "metadata": {
    "id": "YkUiVnJjGJ8P",
    "colab_type": "code",
    "colab": {},
    "executionInfo": {
     "status": "ok",
     "timestamp": 1595045167375,
     "user_tz": -330,
     "elapsed": 1150,
     "user": {
      "displayName": "Writobrata Bandyopadhyay",
      "photoUrl": "https://lh3.googleusercontent.com/a-/AOh14GiIgrlWyXxBfdlbwdBYCHU67PdGKNP5LpuHvPiM=s64",
      "userId": "04904541693543299783"
     }
    },
    "pycharm": {
     "name": "#%%\n"
    }
   },
   "source": [
    "p = np.poly1d([1, -5, 6])"
   ],
   "execution_count": 47,
   "outputs": []
  },
  {
   "cell_type": "code",
   "metadata": {
    "id": "GJeF-G5OGbwd",
    "colab_type": "code",
    "colab": {
     "base_uri": "https://localhost:8080/",
     "height": 34
    },
    "executionInfo": {
     "status": "ok",
     "timestamp": 1595045177679,
     "user_tz": -330,
     "elapsed": 1225,
     "user": {
      "displayName": "Writobrata Bandyopadhyay",
      "photoUrl": "https://lh3.googleusercontent.com/a-/AOh14GiIgrlWyXxBfdlbwdBYCHU67PdGKNP5LpuHvPiM=s64",
      "userId": "04904541693543299783"
     }
    },
    "outputId": "8c5d0692-9657-435a-8554-1672663a41e0",
    "pycharm": {
     "name": "#%%\n"
    }
   },
   "source": [
    "p.r   #Real roots"
   ],
   "execution_count": 48,
   "outputs": [
    {
     "output_type": "execute_result",
     "data": {
      "text/plain": [
       "array([3., 2.])"
      ]
     },
     "metadata": {
      "tags": []
     },
     "execution_count": 48
    }
   ]
  },
  {
   "cell_type": "code",
   "metadata": {
    "id": "T-sRCimrGd_u",
    "colab_type": "code",
    "colab": {
     "base_uri": "https://localhost:8080/",
     "height": 34
    },
    "executionInfo": {
     "status": "ok",
     "timestamp": 1595045205419,
     "user_tz": -330,
     "elapsed": 1752,
     "user": {
      "displayName": "Writobrata Bandyopadhyay",
      "photoUrl": "https://lh3.googleusercontent.com/a-/AOh14GiIgrlWyXxBfdlbwdBYCHU67PdGKNP5LpuHvPiM=s64",
      "userId": "04904541693543299783"
     }
    },
    "outputId": "1edcb444-3548-4f94-ed16-798051278d1b",
    "pycharm": {
     "name": "#%%\n"
    }
   },
   "source": [
    "p.deriv(1)  #First derivative"
   ],
   "execution_count": 49,
   "outputs": [
    {
     "output_type": "execute_result",
     "data": {
      "text/plain": [
       "poly1d([ 2, -5])"
      ]
     },
     "metadata": {
      "tags": []
     },
     "execution_count": 49
    }
   ]
  },
  {
   "cell_type": "code",
   "metadata": {
    "id": "_o8545tjGksu",
    "colab_type": "code",
    "colab": {
     "base_uri": "https://localhost:8080/",
     "height": 34
    },
    "executionInfo": {
     "status": "ok",
     "timestamp": 1595045271757,
     "user_tz": -330,
     "elapsed": 1467,
     "user": {
      "displayName": "Writobrata Bandyopadhyay",
      "photoUrl": "https://lh3.googleusercontent.com/a-/AOh14GiIgrlWyXxBfdlbwdBYCHU67PdGKNP5LpuHvPiM=s64",
      "userId": "04904541693543299783"
     }
    },
    "outputId": "4facc097-dfe1-419a-c7ce-f8dee6d27ad7",
    "pycharm": {
     "name": "#%%\n"
    }
   },
   "source": [
    "p.deriv(2)  #Second derivative"
   ],
   "execution_count": 50,
   "outputs": [
    {
     "output_type": "execute_result",
     "data": {
      "text/plain": [
       "poly1d([2])"
      ]
     },
     "metadata": {
      "tags": []
     },
     "execution_count": 50
    }
   ]
  },
  {
   "cell_type": "code",
   "metadata": {
    "id": "FUvFuqjmG028",
    "colab_type": "code",
    "colab": {
     "base_uri": "https://localhost:8080/",
     "height": 34
    },
    "executionInfo": {
     "status": "ok",
     "timestamp": 1595045283091,
     "user_tz": -330,
     "elapsed": 1109,
     "user": {
      "displayName": "Writobrata Bandyopadhyay",
      "photoUrl": "https://lh3.googleusercontent.com/a-/AOh14GiIgrlWyXxBfdlbwdBYCHU67PdGKNP5LpuHvPiM=s64",
      "userId": "04904541693543299783"
     }
    },
    "outputId": "1a69deeb-4d3c-4a74-8042-b270df7b0888",
    "pycharm": {
     "name": "#%%\n"
    }
   },
   "source": [
    "p.integ(1) #Integration"
   ],
   "execution_count": 51,
   "outputs": [
    {
     "output_type": "execute_result",
     "data": {
      "text/plain": [
       "poly1d([ 0.33333333, -2.5       ,  6.        ,  0.        ])"
      ]
     },
     "metadata": {
      "tags": []
     },
     "execution_count": 51
    }
   ]
  },
  {
   "cell_type": "code",
   "metadata": {
    "id": "Kd9ot5o2G4A8",
    "colab_type": "code",
    "colab": {
     "base_uri": "https://localhost:8080/",
     "height": 34
    },
    "executionInfo": {
     "status": "ok",
     "timestamp": 1595045312530,
     "user_tz": -330,
     "elapsed": 1223,
     "user": {
      "displayName": "Writobrata Bandyopadhyay",
      "photoUrl": "https://lh3.googleusercontent.com/a-/AOh14GiIgrlWyXxBfdlbwdBYCHU67PdGKNP5LpuHvPiM=s64",
      "userId": "04904541693543299783"
     }
    },
    "outputId": "ca39a807-84f2-460e-9afd-63e2bd569fe3",
    "pycharm": {
     "name": "#%%\n"
    }
   },
   "source": [
    "p.integ(2)"
   ],
   "execution_count": 52,
   "outputs": [
    {
     "output_type": "execute_result",
     "data": {
      "text/plain": [
       "poly1d([ 0.08333333, -0.83333333,  3.        ,  0.        ,  0.        ])"
      ]
     },
     "metadata": {
      "tags": []
     },
     "execution_count": 52
    }
   ]
  },
  {
   "cell_type": "markdown",
   "metadata": {
    "id": "Ulamom2rHC67",
    "colab_type": "text",
    "pycharm": {
     "name": "#%% md\n"
    }
   },
   "source": [
    "##Curve fitting by polynomial"
   ]
  },
  {
   "cell_type": "code",
   "metadata": {
    "id": "JlHFpLHaG_J9",
    "colab_type": "code",
    "colab": {},
    "executionInfo": {
     "status": "ok",
     "timestamp": 1595045427183,
     "user_tz": -330,
     "elapsed": 1691,
     "user": {
      "displayName": "Writobrata Bandyopadhyay",
      "photoUrl": "https://lh3.googleusercontent.com/a-/AOh14GiIgrlWyXxBfdlbwdBYCHU67PdGKNP5LpuHvPiM=s64",
      "userId": "04904541693543299783"
     }
    },
    "pycharm": {
     "name": "#%%\n"
    }
   },
   "source": [
    "x = np.array([0, 10, 20, 30, 40, 50, 60, 70, 80, 90])"
   ],
   "execution_count": 53,
   "outputs": []
  },
  {
   "cell_type": "code",
   "metadata": {
    "id": "FpWTyR6eHbDL",
    "colab_type": "code",
    "colab": {},
    "executionInfo": {
     "status": "ok",
     "timestamp": 1595045455672,
     "user_tz": -330,
     "elapsed": 1221,
     "user": {
      "displayName": "Writobrata Bandyopadhyay",
      "photoUrl": "https://lh3.googleusercontent.com/a-/AOh14GiIgrlWyXxBfdlbwdBYCHU67PdGKNP5LpuHvPiM=s64",
      "userId": "04904541693543299783"
     }
    },
    "pycharm": {
     "name": "#%%\n"
    }
   },
   "source": [
    "y = np.array([76, 92, 106, 123, 132, 151, 179, 203, 227, 249])"
   ],
   "execution_count": 54,
   "outputs": []
  },
  {
   "cell_type": "code",
   "metadata": {
    "id": "XtE9grUaHiHy",
    "colab_type": "code",
    "colab": {},
    "executionInfo": {
     "status": "ok",
     "timestamp": 1595045481160,
     "user_tz": -330,
     "elapsed": 1276,
     "user": {
      "displayName": "Writobrata Bandyopadhyay",
      "photoUrl": "https://lh3.googleusercontent.com/a-/AOh14GiIgrlWyXxBfdlbwdBYCHU67PdGKNP5LpuHvPiM=s64",
      "userId": "04904541693543299783"
     }
    },
    "pycharm": {
     "name": "#%%\n"
    }
   },
   "source": [
    "import numpy.polynomial.polynomial as poly"
   ],
   "execution_count": 55,
   "outputs": []
  },
  {
   "cell_type": "code",
   "metadata": {
    "id": "bQxdwtx2HoLC",
    "colab_type": "code",
    "colab": {},
    "executionInfo": {
     "status": "ok",
     "timestamp": 1595045613316,
     "user_tz": -330,
     "elapsed": 1601,
     "user": {
      "displayName": "Writobrata Bandyopadhyay",
      "photoUrl": "https://lh3.googleusercontent.com/a-/AOh14GiIgrlWyXxBfdlbwdBYCHU67PdGKNP5LpuHvPiM=s64",
      "userId": "04904541693543299783"
     }
    },
    "pycharm": {
     "name": "#%%\n"
    }
   },
   "source": [
    "coeffs = poly.polyfit(x, y, 2)  #Fit with polynomial of degree 2\n",
    "# It will return the coefficients of that polynomial"
   ],
   "execution_count": 56,
   "outputs": []
  },
  {
   "cell_type": "code",
   "metadata": {
    "id": "Hc54jV_VIIg5",
    "colab_type": "code",
    "colab": {
     "base_uri": "https://localhost:8080/",
     "height": 34
    },
    "executionInfo": {
     "status": "ok",
     "timestamp": 1595045624618,
     "user_tz": -330,
     "elapsed": 824,
     "user": {
      "displayName": "Writobrata Bandyopadhyay",
      "photoUrl": "https://lh3.googleusercontent.com/a-/AOh14GiIgrlWyXxBfdlbwdBYCHU67PdGKNP5LpuHvPiM=s64",
      "userId": "04904541693543299783"
     }
    },
    "outputId": "fbf888dc-8dac-4eca-b432-b06bca0aa1ff",
    "pycharm": {
     "name": "#%%\n"
    }
   },
   "source": [
    "coeffs"
   ],
   "execution_count": 57,
   "outputs": [
    {
     "output_type": "execute_result",
     "data": {
      "text/plain": [
       "array([7.81909091e+01, 1.10204545e+00, 9.12878788e-03])"
      ]
     },
     "metadata": {
      "tags": []
     },
     "execution_count": 57
    }
   ]
  },
  {
   "cell_type": "code",
   "metadata": {
    "id": "zP2KdHxsILeB",
    "colab_type": "code",
    "colab": {},
    "executionInfo": {
     "status": "ok",
     "timestamp": 1595045718276,
     "user_tz": -330,
     "elapsed": 1595,
     "user": {
      "displayName": "Writobrata Bandyopadhyay",
      "photoUrl": "https://lh3.googleusercontent.com/a-/AOh14GiIgrlWyXxBfdlbwdBYCHU67PdGKNP5LpuHvPiM=s64",
      "userId": "04904541693543299783"
     }
    },
    "pycharm": {
     "name": "#%%\n"
    }
   },
   "source": [
    "yfit = poly.polyval(x, coeffs)  #Fitted values of y"
   ],
   "execution_count": 59,
   "outputs": []
  },
  {
   "cell_type": "code",
   "metadata": {
    "id": "1taLeVavIeh4",
    "colab_type": "code",
    "colab": {
     "base_uri": "https://localhost:8080/",
     "height": 68
    },
    "executionInfo": {
     "status": "ok",
     "timestamp": 1595045726911,
     "user_tz": -330,
     "elapsed": 1538,
     "user": {
      "displayName": "Writobrata Bandyopadhyay",
      "photoUrl": "https://lh3.googleusercontent.com/a-/AOh14GiIgrlWyXxBfdlbwdBYCHU67PdGKNP5LpuHvPiM=s64",
      "userId": "04904541693543299783"
     }
    },
    "outputId": "d8a3eea9-6387-4e1c-a0d9-9eb83e4ef0c7",
    "pycharm": {
     "name": "#%%\n"
    }
   },
   "source": [
    "yfit"
   ],
   "execution_count": 60,
   "outputs": [
    {
     "output_type": "execute_result",
     "data": {
      "text/plain": [
       "array([ 78.19090909,  90.12424242, 103.88333333, 119.46818182,\n",
       "       136.87878788, 156.11515152, 177.17727273, 200.06515152,\n",
       "       224.77878788, 251.31818182])"
      ]
     },
     "metadata": {
      "tags": []
     },
     "execution_count": 60
    }
   ]
  },
  {
   "cell_type": "code",
   "metadata": {
    "id": "kjATN_imIkQ4",
    "colab_type": "code",
    "colab": {},
    "executionInfo": {
     "status": "ok",
     "timestamp": 1595045760115,
     "user_tz": -330,
     "elapsed": 1206,
     "user": {
      "displayName": "Writobrata Bandyopadhyay",
      "photoUrl": "https://lh3.googleusercontent.com/a-/AOh14GiIgrlWyXxBfdlbwdBYCHU67PdGKNP5LpuHvPiM=s64",
      "userId": "04904541693543299783"
     }
    },
    "pycharm": {
     "name": "#%%\n"
    }
   },
   "source": [
    "import matplotlib.pyplot as plt"
   ],
   "execution_count": 61,
   "outputs": []
  },
  {
   "cell_type": "code",
   "metadata": {
    "id": "xzriIJLtIsHB",
    "colab_type": "code",
    "colab": {
     "base_uri": "https://localhost:8080/",
     "height": 299
    },
    "executionInfo": {
     "status": "ok",
     "timestamp": 1595045821967,
     "user_tz": -330,
     "elapsed": 2556,
     "user": {
      "displayName": "Writobrata Bandyopadhyay",
      "photoUrl": "https://lh3.googleusercontent.com/a-/AOh14GiIgrlWyXxBfdlbwdBYCHU67PdGKNP5LpuHvPiM=s64",
      "userId": "04904541693543299783"
     }
    },
    "outputId": "8708df60-d388-46a6-8940-9ddedf2134d6",
    "pycharm": {
     "name": "#%%\n"
    }
   },
   "source": [
    "plt.plot(x, y, 'o', x, yfit)"
   ],
   "execution_count": 64,
   "outputs": [
    {
     "output_type": "execute_result",
     "data": {
      "text/plain": [
       "[<matplotlib.lines.Line2D at 0x7f94e1e8dda0>,\n",
       " <matplotlib.lines.Line2D at 0x7f94e1e8def0>]"
      ]
     },
     "metadata": {
      "tags": []
     },
     "execution_count": 64
    },
    {
     "output_type": "display_data",
     "data": {
      "image/png": "[encoded data removed]",
      "text/plain": [
       "<Figure size 432x288 with 1 Axes>"
      ]
     },
     "metadata": {
      "tags": [],
      "needs_background": "light"
     }
    }
   ]
  },
  {
   "cell_type": "markdown",
   "metadata": {
    "id": "7XmOK_xVI9Kn",
    "colab_type": "text",
    "pycharm": {
     "name": "#%% md\n"
    }
   },
   "source": [
    "##Fitting with user defined function"
   ]
  },
  {
   "cell_type": "code",
   "metadata": {
    "id": "0RQSDngzIwnn",
    "colab_type": "code",
    "colab": {},
    "executionInfo": {
     "status": "ok",
     "timestamp": 1595046309735,
     "user_tz": -330,
     "elapsed": 695,
     "user": {
      "displayName": "Writobrata Bandyopadhyay",
      "photoUrl": "https://lh3.googleusercontent.com/a-/AOh14GiIgrlWyXxBfdlbwdBYCHU67PdGKNP5LpuHvPiM=s64",
      "userId": "04904541693543299783"
     }
    },
    "pycharm": {
     "name": "#%%\n"
    }
   },
   "source": [
    "def f(x, a, b, c):\n",
    "  return a*x**2 + b*x + c"
   ],
   "execution_count": 65,
   "outputs": []
  },
  {
   "cell_type": "code",
   "metadata": {
    "id": "8htzUds0KykT",
    "colab_type": "code",
    "colab": {},
    "executionInfo": {
     "status": "ok",
     "timestamp": 1595046348885,
     "user_tz": -330,
     "elapsed": 1084,
     "user": {
      "displayName": "Writobrata Bandyopadhyay",
      "photoUrl": "https://lh3.googleusercontent.com/a-/AOh14GiIgrlWyXxBfdlbwdBYCHU67PdGKNP5LpuHvPiM=s64",
      "userId": "04904541693543299783"
     }
    },
    "pycharm": {
     "name": "#%%\n"
    }
   },
   "source": [
    "from scipy.optimize import  curve_fit"
   ],
   "execution_count": 66,
   "outputs": []
  },
  {
   "cell_type": "code",
   "metadata": {
    "id": "infkUyPCK8OS",
    "colab_type": "code",
    "colab": {},
    "executionInfo": {
     "status": "ok",
     "timestamp": 1595046371112,
     "user_tz": -330,
     "elapsed": 1229,
     "user": {
      "displayName": "Writobrata Bandyopadhyay",
      "photoUrl": "https://lh3.googleusercontent.com/a-/AOh14GiIgrlWyXxBfdlbwdBYCHU67PdGKNP5LpuHvPiM=s64",
      "userId": "04904541693543299783"
     }
    },
    "pycharm": {
     "name": "#%%\n"
    }
   },
   "source": [
    "par, var = curve_fit(f, x, y)"
   ],
   "execution_count": 67,
   "outputs": []
  },
  {
   "cell_type": "code",
   "metadata": {
    "id": "v-ZZF9YTLBnK",
    "colab_type": "code",
    "colab": {},
    "executionInfo": {
     "status": "ok",
     "timestamp": 1595046386585,
     "user_tz": -330,
     "elapsed": 1339,
     "user": {
      "displayName": "Writobrata Bandyopadhyay",
      "photoUrl": "https://lh3.googleusercontent.com/a-/AOh14GiIgrlWyXxBfdlbwdBYCHU67PdGKNP5LpuHvPiM=s64",
      "userId": "04904541693543299783"
     }
    },
    "pycharm": {
     "name": "#%%\n"
    }
   },
   "source": [
    "a, b, c = par"
   ],
   "execution_count": 68,
   "outputs": []
  },
  {
   "cell_type": "code",
   "metadata": {
    "id": "2RCyQ2iqLFLa",
    "colab_type": "code",
    "colab": {
     "base_uri": "https://localhost:8080/",
     "height": 299
    },
    "executionInfo": {
     "status": "ok",
     "timestamp": 1595046446319,
     "user_tz": -330,
     "elapsed": 1339,
     "user": {
      "displayName": "Writobrata Bandyopadhyay",
      "photoUrl": "https://lh3.googleusercontent.com/a-/AOh14GiIgrlWyXxBfdlbwdBYCHU67PdGKNP5LpuHvPiM=s64",
      "userId": "04904541693543299783"
     }
    },
    "outputId": "c93feb9a-7264-49fd-de50-51e2591d6683",
    "pycharm": {
     "name": "#%%\n"
    }
   },
   "source": [
    "plt.plot(x, y, 'o', x, f(x, a, b ,c))"
   ],
   "execution_count": 70,
   "outputs": [
    {
     "output_type": "execute_result",
     "data": {
      "text/plain": [
       "[<matplotlib.lines.Line2D at 0x7f94dab8ae10>,\n",
       " <matplotlib.lines.Line2D at 0x7f94dab8aef0>]"
      ]
     },
     "metadata": {
      "tags": []
     },
     "execution_count": 70
    },
    {
     "output_type": "display_data",
     "data": {
      "image/png": "[encoded data removed]",
      "text/plain": [
       "<Figure size 432x288 with 1 Axes>"
      ]
     },
     "metadata": {
      "tags": [],
      "needs_background": "light"
     }
    }
   ]
  },
  {
   "cell_type": "code",
   "metadata": {
    "id": "0fyoRDXPLSIK",
    "colab_type": "code",
    "colab": {},
    "pycharm": {
     "name": "#%%\n"
    }
   },
   "source": [],
   "execution_count": null,
   "outputs": []
  }
 ]
}